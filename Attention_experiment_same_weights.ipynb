{
 "cells": [
  {
   "cell_type": "markdown",
   "metadata": {},
   "source": [
    "### CNN+biLSTM+Attention - 1000 random samples \n",
    "1. text only (similar params and architecture with CNN+biLSTM)\n",
    "2. text and personality traits (similar params and architecture with CNN+biLSTM)\n",
    "3. "
   ]
  },
  {
   "cell_type": "markdown",
   "metadata": {},
   "source": [
    "1. text only"
   ]
  },
  {
   "cell_type": "code",
   "execution_count": 48,
   "metadata": {},
   "outputs": [],
   "source": [
    "#Import Libraries\n",
    "import pandas as pd\n",
    "import numpy as np\n",
    "from sklearn.feature_extraction.text import TfidfVectorizer\n",
    "from sklearn.model_selection import train_test_split\n",
    "from xgboost import XGBClassifier\n",
    "from sklearn.ensemble import RandomForestClassifier\n",
    "from sklearn.metrics import accuracy_score, f1_score, classification_report\n",
    "from sklearn.metrics import confusion_matrix\n",
    "import re\n",
    "import html\n",
    "import string\n",
    "import nltk\n",
    "from nltk.corpus import stopwords\n",
    "from nltk.tokenize import TweetTokenizer\n",
    "from nltk.stem import WordNetLemmatizer\n",
    "from tensorflow.keras.preprocessing.text import Tokenizer\n",
    "from tensorflow.keras.preprocessing.sequence import pad_sequences\n",
    "from tensorflow.keras.models import Sequential\n",
    "from tensorflow.keras.layers import Embedding, LSTM, Dense, Dropout\n",
    "from transformers import BertTokenizer, TFBertForSequenceClassification\n",
    "import tensorflow as tf\n",
    "import matplotlib.pyplot as plt\n",
    "import seaborn as sns\n",
    "from collections import Counter"
   ]
  },
  {
   "cell_type": "code",
   "execution_count": 49,
   "metadata": {},
   "outputs": [
    {
     "data": {
      "text/html": [
       "<div>\n",
       "<style scoped>\n",
       "    .dataframe tbody tr th:only-of-type {\n",
       "        vertical-align: middle;\n",
       "    }\n",
       "\n",
       "    .dataframe tbody tr th {\n",
       "        vertical-align: top;\n",
       "    }\n",
       "\n",
       "    .dataframe thead th {\n",
       "        text-align: right;\n",
       "    }\n",
       "</style>\n",
       "<table border=\"1\" class=\"dataframe\">\n",
       "  <thead>\n",
       "    <tr style=\"text-align: right;\">\n",
       "      <th></th>\n",
       "      <th>Unnamed: 0</th>\n",
       "      <th>text</th>\n",
       "      <th>class</th>\n",
       "      <th>Openness to Experience</th>\n",
       "      <th>Conscientiousness</th>\n",
       "      <th>Extraversion</th>\n",
       "      <th>Agreeableness</th>\n",
       "      <th>Neuroticism</th>\n",
       "    </tr>\n",
       "  </thead>\n",
       "  <tbody>\n",
       "    <tr>\n",
       "      <th>0</th>\n",
       "      <td>2</td>\n",
       "      <td>Ex Wife Threatening SuicideRecently I left my ...</td>\n",
       "      <td>suicide</td>\n",
       "      <td>51%</td>\n",
       "      <td>68%</td>\n",
       "      <td>27%</td>\n",
       "      <td>35%</td>\n",
       "      <td>67%</td>\n",
       "    </tr>\n",
       "    <tr>\n",
       "      <th>1</th>\n",
       "      <td>3</td>\n",
       "      <td>Am I weird I don't get affected by compliments...</td>\n",
       "      <td>non-suicide</td>\n",
       "      <td>98%</td>\n",
       "      <td>0%</td>\n",
       "      <td>1%</td>\n",
       "      <td>17%</td>\n",
       "      <td>100%</td>\n",
       "    </tr>\n",
       "    <tr>\n",
       "      <th>2</th>\n",
       "      <td>4</td>\n",
       "      <td>Finally 2020 is almost over... So I can never ...</td>\n",
       "      <td>non-suicide</td>\n",
       "      <td>89%</td>\n",
       "      <td>7%</td>\n",
       "      <td>1%</td>\n",
       "      <td>11%</td>\n",
       "      <td>56%</td>\n",
       "    </tr>\n",
       "    <tr>\n",
       "      <th>3</th>\n",
       "      <td>16</td>\n",
       "      <td>Everyone wants to be \"edgy\" and it's making me...</td>\n",
       "      <td>non-suicide</td>\n",
       "      <td>97%</td>\n",
       "      <td>12%</td>\n",
       "      <td>22%</td>\n",
       "      <td>26%</td>\n",
       "      <td>93%</td>\n",
       "    </tr>\n",
       "    <tr>\n",
       "      <th>4</th>\n",
       "      <td>19</td>\n",
       "      <td>I took the rest of my sleeping pills and my pa...</td>\n",
       "      <td>suicide</td>\n",
       "      <td>98%</td>\n",
       "      <td>69%</td>\n",
       "      <td>0%</td>\n",
       "      <td>63%</td>\n",
       "      <td>90%</td>\n",
       "    </tr>\n",
       "    <tr>\n",
       "      <th>...</th>\n",
       "      <td>...</td>\n",
       "      <td>...</td>\n",
       "      <td>...</td>\n",
       "      <td>...</td>\n",
       "      <td>...</td>\n",
       "      <td>...</td>\n",
       "      <td>...</td>\n",
       "      <td>...</td>\n",
       "    </tr>\n",
       "    <tr>\n",
       "      <th>995</th>\n",
       "      <td>2521</td>\n",
       "      <td>I'm a 17 year old senior and I sometimes feel ...</td>\n",
       "      <td>suicide</td>\n",
       "      <td>75%</td>\n",
       "      <td>37%</td>\n",
       "      <td>26%</td>\n",
       "      <td>36%</td>\n",
       "      <td>85%</td>\n",
       "    </tr>\n",
       "    <tr>\n",
       "      <th>996</th>\n",
       "      <td>2530</td>\n",
       "      <td>I just want to go to sleep and not wake upI ha...</td>\n",
       "      <td>suicide</td>\n",
       "      <td>76%</td>\n",
       "      <td>21%</td>\n",
       "      <td>0%</td>\n",
       "      <td>17%</td>\n",
       "      <td>97%</td>\n",
       "    </tr>\n",
       "    <tr>\n",
       "      <th>997</th>\n",
       "      <td>2534</td>\n",
       "      <td>Help. I'm so lost.I feel so helpless despite t...</td>\n",
       "      <td>suicide</td>\n",
       "      <td>88%</td>\n",
       "      <td>25%</td>\n",
       "      <td>18%</td>\n",
       "      <td>15%</td>\n",
       "      <td>99%</td>\n",
       "    </tr>\n",
       "    <tr>\n",
       "      <th>998</th>\n",
       "      <td>2535</td>\n",
       "      <td>Anybody else get really scared when you get cl...</td>\n",
       "      <td>suicide</td>\n",
       "      <td>98%</td>\n",
       "      <td>41%</td>\n",
       "      <td>49%</td>\n",
       "      <td>54%</td>\n",
       "      <td>98%</td>\n",
       "    </tr>\n",
       "    <tr>\n",
       "      <th>999</th>\n",
       "      <td>2536</td>\n",
       "      <td>What’s the point of continuing? We all eventua...</td>\n",
       "      <td>suicide</td>\n",
       "      <td>89%</td>\n",
       "      <td>54%</td>\n",
       "      <td>12%</td>\n",
       "      <td>38%</td>\n",
       "      <td>46%</td>\n",
       "    </tr>\n",
       "  </tbody>\n",
       "</table>\n",
       "<p>1000 rows × 8 columns</p>\n",
       "</div>"
      ],
      "text/plain": [
       "     Unnamed: 0                                               text  \\\n",
       "0             2  Ex Wife Threatening SuicideRecently I left my ...   \n",
       "1             3  Am I weird I don't get affected by compliments...   \n",
       "2             4  Finally 2020 is almost over... So I can never ...   \n",
       "3            16  Everyone wants to be \"edgy\" and it's making me...   \n",
       "4            19  I took the rest of my sleeping pills and my pa...   \n",
       "..          ...                                                ...   \n",
       "995        2521  I'm a 17 year old senior and I sometimes feel ...   \n",
       "996        2530  I just want to go to sleep and not wake upI ha...   \n",
       "997        2534  Help. I'm so lost.I feel so helpless despite t...   \n",
       "998        2535  Anybody else get really scared when you get cl...   \n",
       "999        2536  What’s the point of continuing? We all eventua...   \n",
       "\n",
       "           class Openness to Experience Conscientiousness Extraversion  \\\n",
       "0        suicide                    51%               68%          27%   \n",
       "1    non-suicide                    98%                0%           1%   \n",
       "2    non-suicide                    89%                7%           1%   \n",
       "3    non-suicide                    97%               12%          22%   \n",
       "4        suicide                    98%               69%           0%   \n",
       "..           ...                    ...               ...          ...   \n",
       "995      suicide                    75%               37%          26%   \n",
       "996      suicide                    76%               21%           0%   \n",
       "997      suicide                    88%               25%          18%   \n",
       "998      suicide                    98%               41%          49%   \n",
       "999      suicide                    89%               54%          12%   \n",
       "\n",
       "    Agreeableness Neuroticism  \n",
       "0             35%         67%  \n",
       "1             17%        100%  \n",
       "2             11%         56%  \n",
       "3             26%         93%  \n",
       "4             63%         90%  \n",
       "..            ...         ...  \n",
       "995           36%         85%  \n",
       "996           17%         97%  \n",
       "997           15%         99%  \n",
       "998           54%         98%  \n",
       "999           38%         46%  \n",
       "\n",
       "[1000 rows x 8 columns]"
      ]
     },
     "execution_count": 49,
     "metadata": {},
     "output_type": "execute_result"
    }
   ],
   "source": [
    "data = pd.read_csv('Suicide_Detection_final1.csv')\n",
    "data"
   ]
  },
  {
   "cell_type": "code",
   "execution_count": 50,
   "metadata": {},
   "outputs": [
    {
     "name": "stderr",
     "output_type": "stream",
     "text": [
      "[nltk_data] Downloading package stopwords to\n",
      "[nltk_data]     C:\\Users\\PC\\AppData\\Roaming\\nltk_data...\n",
      "[nltk_data]   Package stopwords is already up-to-date!\n",
      "[nltk_data] Downloading package wordnet to\n",
      "[nltk_data]     C:\\Users\\PC\\AppData\\Roaming\\nltk_data...\n",
      "[nltk_data]   Package wordnet is already up-to-date!\n"
     ]
    },
    {
     "data": {
      "text/html": [
       "<div>\n",
       "<style scoped>\n",
       "    .dataframe tbody tr th:only-of-type {\n",
       "        vertical-align: middle;\n",
       "    }\n",
       "\n",
       "    .dataframe tbody tr th {\n",
       "        vertical-align: top;\n",
       "    }\n",
       "\n",
       "    .dataframe thead th {\n",
       "        text-align: right;\n",
       "    }\n",
       "</style>\n",
       "<table border=\"1\" class=\"dataframe\">\n",
       "  <thead>\n",
       "    <tr style=\"text-align: right;\">\n",
       "      <th></th>\n",
       "      <th>text</th>\n",
       "      <th>preprocessed_text</th>\n",
       "    </tr>\n",
       "  </thead>\n",
       "  <tbody>\n",
       "    <tr>\n",
       "      <th>0</th>\n",
       "      <td>Ex Wife Threatening SuicideRecently I left my ...</td>\n",
       "      <td>ex wife threatening suiciderecently left wife ...</td>\n",
       "    </tr>\n",
       "    <tr>\n",
       "      <th>1</th>\n",
       "      <td>Am I weird I don't get affected by compliments...</td>\n",
       "      <td>weird get affected compliment coming someone k...</td>\n",
       "    </tr>\n",
       "    <tr>\n",
       "      <th>2</th>\n",
       "      <td>Finally 2020 is almost over... So I can never ...</td>\n",
       "      <td>finally almost never hear bad year ever swear ...</td>\n",
       "    </tr>\n",
       "    <tr>\n",
       "      <th>3</th>\n",
       "      <td>Everyone wants to be \"edgy\" and it's making me...</td>\n",
       "      <td>everyone want edgy making self conscious feel ...</td>\n",
       "    </tr>\n",
       "    <tr>\n",
       "      <th>4</th>\n",
       "      <td>I took the rest of my sleeping pills and my pa...</td>\n",
       "      <td>took rest sleeping pill painkillersi wait end ...</td>\n",
       "    </tr>\n",
       "    <tr>\n",
       "      <th>5</th>\n",
       "      <td>Can you imagine getting old? Me neither.Wrinkl...</td>\n",
       "      <td>imagine getting old neither wrinkle weight gai...</td>\n",
       "    </tr>\n",
       "    <tr>\n",
       "      <th>6</th>\n",
       "      <td>Do you think getting hit by a train would be p...</td>\n",
       "      <td>think getting hit train would painful gun hard...</td>\n",
       "    </tr>\n",
       "    <tr>\n",
       "      <th>7</th>\n",
       "      <td>death, continuedI posted here before and saw s...</td>\n",
       "      <td>death continuedi posted saw something interest...</td>\n",
       "    </tr>\n",
       "    <tr>\n",
       "      <th>8</th>\n",
       "      <td>Fuck the verizon smart family app I can’t even...</td>\n",
       "      <td>fuck verizon smart family app even watch porn ...</td>\n",
       "    </tr>\n",
       "    <tr>\n",
       "      <th>9</th>\n",
       "      <td>I’m scared.   Everything just seems to be gett...</td>\n",
       "      <td>scared everything seems getting worse worse yo...</td>\n",
       "    </tr>\n",
       "  </tbody>\n",
       "</table>\n",
       "</div>"
      ],
      "text/plain": [
       "                                                text  \\\n",
       "0  Ex Wife Threatening SuicideRecently I left my ...   \n",
       "1  Am I weird I don't get affected by compliments...   \n",
       "2  Finally 2020 is almost over... So I can never ...   \n",
       "3  Everyone wants to be \"edgy\" and it's making me...   \n",
       "4  I took the rest of my sleeping pills and my pa...   \n",
       "5  Can you imagine getting old? Me neither.Wrinkl...   \n",
       "6  Do you think getting hit by a train would be p...   \n",
       "7  death, continuedI posted here before and saw s...   \n",
       "8  Fuck the verizon smart family app I can’t even...   \n",
       "9  I’m scared.   Everything just seems to be gett...   \n",
       "\n",
       "                                   preprocessed_text  \n",
       "0  ex wife threatening suiciderecently left wife ...  \n",
       "1  weird get affected compliment coming someone k...  \n",
       "2  finally almost never hear bad year ever swear ...  \n",
       "3  everyone want edgy making self conscious feel ...  \n",
       "4  took rest sleeping pill painkillersi wait end ...  \n",
       "5  imagine getting old neither wrinkle weight gai...  \n",
       "6  think getting hit train would painful gun hard...  \n",
       "7  death continuedi posted saw something interest...  \n",
       "8  fuck verizon smart family app even watch porn ...  \n",
       "9  scared everything seems getting worse worse yo...  "
      ]
     },
     "execution_count": 50,
     "metadata": {},
     "output_type": "execute_result"
    }
   ],
   "source": [
    "nltk.download('stopwords')\n",
    "nltk.download('wordnet')\n",
    "\n",
    "def preprocess_text(text):\n",
    "    my_stopwords = set(stopwords.words('english'))\n",
    "    add_stopwords = ['#ff', 'ff', 'rt']\n",
    "    my_stopwords.update(add_stopwords)\n",
    "    tokenizer = TweetTokenizer(reduce_len=True)\n",
    "    lemmatizer = WordNetLemmatizer()\n",
    "\n",
    "    # Remove URLs\n",
    "    text = re.sub(r'http\\S+', '', text)\n",
    "\n",
    "    # Remove punctuations and numbers\n",
    "    text = re.sub(r'[^a-zA-Z]', ' ', text)\n",
    "\n",
    "    # Lowercasing\n",
    "    text = text.lower()\n",
    "\n",
    "    # Tokenization\n",
    "    tokens = tokenizer.tokenize(text)\n",
    "\n",
    "    # Remove stop word\n",
    "    tokens = [word for word in tokens if word not in my_stopwords]\n",
    "\n",
    "    # Lemmatization\n",
    "    tokens = [lemmatizer.lemmatize(word) for word in tokens]\n",
    "    text = ' '.join(tokens)\n",
    "\n",
    "    return text\n",
    "\n",
    "data['preprocessed_text'] = data.text.apply(preprocess_text)\n",
    "data[['text','preprocessed_text']].head(10)"
   ]
  },
  {
   "cell_type": "code",
   "execution_count": 51,
   "metadata": {},
   "outputs": [],
   "source": [
    "# Convert class labels into numbers\n",
    "y = data['class'].map({'suicide': 1, 'non-suicide': 0})\n",
    "\n",
    "# Train set and test set split\n",
    "X_train, X_test, y_train, y_test = train_test_split(data['preprocessed_text'], y, test_size=0.2, random_state=42)"
   ]
  },
  {
   "cell_type": "code",
   "execution_count": 52,
   "metadata": {},
   "outputs": [],
   "source": [
    "import random\n",
    "\n",
    "seed_value = 42\n",
    "random.seed(seed_value)\n",
    "np.random.seed(seed_value)\n",
    "tf.random.set_seed(seed_value)"
   ]
  },
  {
   "cell_type": "code",
   "execution_count": 53,
   "metadata": {},
   "outputs": [],
   "source": [
    "from gensim.models import KeyedVectors\n",
    "\n",
    "# Creat word index\n",
    "tokenizer = Tokenizer()\n",
    "tokenizer.fit_on_texts(X_train)\n",
    "\n",
    "# Convert text into sequence\n",
    "X_train_seq = tokenizer.texts_to_sequences(X_train)\n",
    "X_test_seq = tokenizer.texts_to_sequences(X_test)\n",
    "\n",
    "# Determine the maximum sequence length\n",
    "max_length = max([len(seq) for seq in X_train_seq] + [len(seq) for seq in X_test_seq])\n",
    "\n",
    "# Fill sequence\n",
    "X_train_padded = pad_sequences(X_train_seq, maxlen=max_length)\n",
    "X_test_padded = pad_sequences(X_test_seq, maxlen=max_length)\n",
    "\n",
    "# Load GoogleNews pre-trained word vectors\n",
    "word2vec_path = 'GoogleNews-vectors-negative300.bin'\n",
    "word2vec = KeyedVectors.load_word2vec_format(word2vec_path, binary=True)\n",
    "\n",
    "# Get the size of the vocabulary\n",
    "num_words = len(tokenizer.word_index) + 1\n",
    "\n",
    "# Create the word embedding matrix\n",
    "embedding_matrix = np.zeros((num_words, 300))\n",
    "for word, i in tokenizer.word_index.items():\n",
    "    if i >= num_words:\n",
    "        continue\n",
    "    try:\n",
    "        embedding_vector = word2vec[word]\n",
    "        embedding_matrix[i] = embedding_vector\n",
    "    except KeyError:\n",
    "        pass"
   ]
  },
  {
   "cell_type": "code",
   "execution_count": 56,
   "metadata": {},
   "outputs": [
    {
     "name": "stdout",
     "output_type": "stream",
     "text": [
      "WARNING:tensorflow:Layer bidirectional_lstm will not use cuDNN kernels since it doesn't meet the criteria. It will use a generic GPU kernel as fallback when running on GPU.\n",
      "WARNING:tensorflow:Layer bidirectional_lstm will not use cuDNN kernels since it doesn't meet the criteria. It will use a generic GPU kernel as fallback when running on GPU.\n",
      "WARNING:tensorflow:Layer bidirectional_lstm will not use cuDNN kernels since it doesn't meet the criteria. It will use a generic GPU kernel as fallback when running on GPU.\n",
      "Model: \"sequential_22\"\n",
      "_________________________________________________________________\n",
      " Layer (type)                Output Shape              Param #   \n",
      "=================================================================\n",
      " embedding_layer (Embedding)  (None, 117, 300)         1419600   \n",
      "                                                                 \n",
      " conv1d_layer (Conv1D)       (None, 113, 100)          150100    \n",
      "                                                                 \n",
      " max_pooling_layer (MaxPooli  (None, 56, 100)          0         \n",
      " ng1D)                                                           \n",
      "                                                                 \n",
      " bidirectional_31 (Bidirecti  (None, 56, 200)          160800    \n",
      " onal)                                                           \n",
      "                                                                 \n",
      " lstm_layer (LSTM)           (None, 100)               120400    \n",
      "                                                                 \n",
      " dense_layer_1 (Dense)       (None, 64)                6464      \n",
      "                                                                 \n",
      " dropout_layer (Dropout)     (None, 64)                0         \n",
      "                                                                 \n",
      " output_layer (Dense)        (None, 2)                 130       \n",
      "                                                                 \n",
      "=================================================================\n",
      "Total params: 1,857,494\n",
      "Trainable params: 437,894\n",
      "Non-trainable params: 1,419,600\n",
      "_________________________________________________________________\n",
      "None\n",
      "Epoch 1/5\n",
      "13/13 [==============================] - 9s 457ms/step - loss: 0.5907 - accuracy: 0.6900 - val_loss: 0.3733 - val_accuracy: 0.8300\n",
      "Epoch 2/5\n",
      "13/13 [==============================] - 6s 473ms/step - loss: 0.3852 - accuracy: 0.8450 - val_loss: 0.4058 - val_accuracy: 0.8500\n",
      "Epoch 3/5\n",
      "13/13 [==============================] - 7s 514ms/step - loss: 0.2995 - accuracy: 0.8888 - val_loss: 0.2762 - val_accuracy: 0.9100\n",
      "Epoch 4/5\n",
      "13/13 [==============================] - 6s 474ms/step - loss: 0.2303 - accuracy: 0.9150 - val_loss: 0.2227 - val_accuracy: 0.9400\n",
      "Epoch 5/5\n",
      "13/13 [==============================] - 7s 530ms/step - loss: 0.1933 - accuracy: 0.9337 - val_loss: 0.2216 - val_accuracy: 0.9300\n",
      "7/7 [==============================] - 1s 49ms/step\n",
      "Word2Vec + CNN-BiLSTM Results:\n",
      "              precision    recall  f1-score   support\n",
      "\n",
      "           0     0.9158    0.9355    0.9255        93\n",
      "           1     0.9429    0.9252    0.9340       107\n",
      "\n",
      "    accuracy                         0.9300       200\n",
      "   macro avg     0.9293    0.9304    0.9297       200\n",
      "weighted avg     0.9303    0.9300    0.9300       200\n",
      "\n"
     ]
    }
   ],
   "source": [
    "# WITHOUT Attention (for comparison)\n",
    "from keras.models import Model\n",
    "from keras.layers import Input, Embedding, Conv1D, MaxPooling1D, Concatenate, Bidirectional, LSTM, Dense, Dropout\n",
    "from keras.utils import to_categorical\n",
    "from keras.callbacks import EarlyStopping\n",
    "\n",
    "y_train = np.array(y_train)\n",
    "y_test = np.array(y_test)\n",
    "\n",
    "# Convert the labels to one-hot encoding\n",
    "num_classes = 2\n",
    "y_train_onehot = to_categorical(y_train, num_classes)\n",
    "y_test_onehot = to_categorical(y_test, num_classes)\n",
    "\n",
    "# Construct the model\n",
    "embedding_dim = 300\n",
    "filters = 100\n",
    "kernel_size = 5\n",
    "lstm_units = 100\n",
    "dropout_rate = 0.3\n",
    "\n",
    "model = Sequential()\n",
    "model.add(Embedding(num_words, embedding_dim, weights=[embedding_matrix], input_length=max_length, trainable=False, name=\"embedding_layer\"))\n",
    "model.add(Conv1D(filters, kernel_size, activation='relu', name=\"conv1d_layer\"))\n",
    "model.add(MaxPooling1D(name=\"max_pooling_layer\"))\n",
    "model.add(Bidirectional(LSTM(lstm_units, dropout=dropout_rate, recurrent_dropout=dropout_rate, return_sequences=True, name=\"bidirectional_lstm\")))\n",
    "model.add(LSTM(lstm_units, name=\"lstm_layer\"))\n",
    "model.add(Dense(64, activation='relu', name=\"dense_layer_1\"))\n",
    "model.add(Dropout(dropout_rate, name=\"dropout_layer\"))\n",
    "model.add(Dense(num_classes, activation='softmax', name=\"output_layer\"))\n",
    "\n",
    "model.compile(loss='categorical_crossentropy', optimizer='adam', metrics=['accuracy'])\n",
    "\n",
    "print(model.summary())\n",
    "\n",
    "# Train the model\n",
    "batch_size = 64\n",
    "epochs = 5\n",
    "model.save_weights(\"init_weights.h5\") # Save the untrained model weights for fair comparison\n",
    "model.fit(X_train_padded, y_train_onehot,\n",
    "          batch_size=batch_size,\n",
    "          epochs=epochs,\n",
    "          validation_data=(X_test_padded, y_test_onehot))\n",
    "\n",
    "# Evaluate the model\n",
    "# Make predictions on the test data\n",
    "lstm_y_prob = model.predict(X_test_padded)\n",
    "# Find the class index with the maximum probability\n",
    "lstm_y_pred = np.argmax(lstm_y_prob, axis=1)\n",
    "# Convert one-hot-encoded test labels to category indices\n",
    "y_test = np.argmax(y_test_onehot, axis=1)\n",
    "\n",
    "print('Word2Vec + CNN-BiLSTM Results:')\n",
    "print(classification_report(y_test, lstm_y_pred, digits=4))"
   ]
  },
  {
   "cell_type": "code",
   "execution_count": 57,
   "metadata": {},
   "outputs": [
    {
     "name": "stdout",
     "output_type": "stream",
     "text": [
      "WARNING:tensorflow:Layer bidirectional_lstm will not use cuDNN kernels since it doesn't meet the criteria. It will use a generic GPU kernel as fallback when running on GPU.\n",
      "WARNING:tensorflow:Layer bidirectional_lstm will not use cuDNN kernels since it doesn't meet the criteria. It will use a generic GPU kernel as fallback when running on GPU.\n",
      "WARNING:tensorflow:Layer bidirectional_lstm will not use cuDNN kernels since it doesn't meet the criteria. It will use a generic GPU kernel as fallback when running on GPU.\n",
      "Model: \"sequential_23\"\n",
      "_________________________________________________________________\n",
      " Layer (type)                Output Shape              Param #   \n",
      "=================================================================\n",
      " embedding_layer (Embedding)  (None, 117, 300)         1419600   \n",
      "                                                                 \n",
      " conv1d_layer (Conv1D)       (None, 113, 100)          150100    \n",
      "                                                                 \n",
      " max_pooling_layer (MaxPooli  (None, 56, 100)          0         \n",
      " ng1D)                                                           \n",
      "                                                                 \n",
      " bidirectional_32 (Bidirecti  (None, 56, 200)          160800    \n",
      " onal)                                                           \n",
      "                                                                 \n",
      " lstm_layer (LSTM)           (None, 56, 100)           120400    \n",
      "                                                                 \n",
      " seq_self_attention_12 (SeqS  (None, 56, 100)          6465      \n",
      " elfAttention)                                                   \n",
      "                                                                 \n",
      " flatten_15 (Flatten)        (None, 5600)              0         \n",
      "                                                                 \n",
      " dense_layer_1 (Dense)       (None, 64)                358464    \n",
      "                                                                 \n",
      " dropout_layer (Dropout)     (None, 64)                0         \n",
      "                                                                 \n",
      " output_layer (Dense)        (None, 2)                 130       \n",
      "                                                                 \n",
      "=================================================================\n",
      "Total params: 2,215,959\n",
      "Trainable params: 796,359\n",
      "Non-trainable params: 1,419,600\n",
      "_________________________________________________________________\n",
      "None\n",
      "WARNING:tensorflow:Skipping loading weights for layer #5 (named dense_layer_1) due to mismatch in shape for weight dense_layer_1/kernel:0. Weight expects shape (5600, 64). Received saved weight with shape (100, 64)\n",
      "Epoch 1/5\n"
     ]
    },
    {
     "name": "stderr",
     "output_type": "stream",
     "text": [
      "c:\\Users\\PC\\Documents\\Master_Project\\Suicide-Ideation-Detection-in-Social-Media-Using-Personality-Traits-main\\venv\\lib\\site-packages\\keras\\initializers\\initializers_v2.py:120: UserWarning: The initializer GlorotNormal is unseeded and being called multiple times, which will return identical values  each time (even if the initializer is unseeded). Please update your code to provide a seed to the initializer, or avoid using the same initalizer instance more than once.\n",
      "  warnings.warn(\n"
     ]
    },
    {
     "name": "stdout",
     "output_type": "stream",
     "text": [
      "13/13 [==============================] - 13s 615ms/step - loss: 0.5615 - accuracy: 0.6975 - val_loss: 0.4708 - val_accuracy: 0.7650\n",
      "Epoch 2/5\n",
      "13/13 [==============================] - 6s 496ms/step - loss: 0.4353 - accuracy: 0.8150 - val_loss: 0.3879 - val_accuracy: 0.8650\n",
      "Epoch 3/5\n",
      "13/13 [==============================] - 6s 467ms/step - loss: 0.3887 - accuracy: 0.8550 - val_loss: 0.2713 - val_accuracy: 0.9150\n",
      "Epoch 4/5\n",
      "13/13 [==============================] - 6s 458ms/step - loss: 0.2803 - accuracy: 0.9125 - val_loss: 0.2325 - val_accuracy: 0.9350\n",
      "Epoch 5/5\n",
      "13/13 [==============================] - 6s 453ms/step - loss: 0.1908 - accuracy: 0.9375 - val_loss: 0.2278 - val_accuracy: 0.9250\n",
      "7/7 [==============================] - 1s 40ms/step\n",
      "Word2Vec + CNN-BiLSTM with Attention Results:\n",
      "              precision    recall  f1-score   support\n",
      "\n",
      "           0     0.8750    0.9785    0.9239        93\n",
      "           1     0.9792    0.8785    0.9261       107\n",
      "\n",
      "    accuracy                         0.9250       200\n",
      "   macro avg     0.9271    0.9285    0.9250       200\n",
      "weighted avg     0.9307    0.9250    0.9251       200\n",
      "\n"
     ]
    }
   ],
   "source": [
    "from keras.models import Model, Sequential\n",
    "from keras.layers import Input, Embedding, Conv1D, MaxPooling1D, Bidirectional, LSTM, Dense, Dropout, Multiply, Flatten, BatchNormalization\n",
    "from keras.layers import Layer\n",
    "from keras.callbacks import EarlyStopping\n",
    "from keras.regularizers import l2\n",
    "from keras.utils import to_categorical\n",
    "from keras_self_attention import SeqSelfAttention\n",
    "\n",
    "y_train = np.array(y_train)\n",
    "y_test = np.array(y_test)\n",
    "\n",
    "# Convert the labels to one-hot encoding\n",
    "num_classes = 2\n",
    "y_train_onehot = to_categorical(y_train, num_classes)\n",
    "y_test_onehot = to_categorical(y_test, num_classes)\n",
    "\n",
    "# Model Parameters (as reference)\n",
    "embedding_dim = 300\n",
    "filters = 100\n",
    "kernel_size = 5\n",
    "lstm_units = 100\n",
    "dropout_rate = 0.3\n",
    "\n",
    "# Define Model\n",
    "model2 = Sequential()\n",
    "model2.add(Embedding(num_words, embedding_dim, weights=[embedding_matrix], input_length=max_length, trainable=False, name=\"embedding_layer\"))\n",
    "model2.add(Conv1D(filters, kernel_size, activation='relu', name=\"conv1d_layer\"))\n",
    "model2.add(MaxPooling1D(name=\"max_pooling_layer\"))\n",
    "model2.add(Bidirectional(LSTM(lstm_units, dropout=dropout_rate, recurrent_dropout=dropout_rate, return_sequences=True, name=\"bidirectional_lstm\")))\n",
    "model2.add(LSTM(lstm_units, return_sequences=True, name=\"lstm_layer\"))\n",
    "model2.add(SeqSelfAttention(attention_activation='softmax'))\n",
    "model2.add(Flatten())\n",
    "model2.add(Dense(64, activation='relu', name=\"dense_layer_1\"))\n",
    "model2.add(Dropout(dropout_rate, name=\"dropout_layer\"))\n",
    "model2.add(Dense(num_classes, activation='softmax', name=\"output_layer\"))\n",
    "\n",
    "# Compile Model\n",
    "model2.compile(loss='categorical_crossentropy', optimizer='adam', metrics=['accuracy'])\n",
    "\n",
    "print(model2.summary())\n",
    "\n",
    "# Train the model\n",
    "batch_size = 64\n",
    "epochs = 5\n",
    "\n",
    "model2.load_weights(\"init_weights.h5\", by_name=True, skip_mismatch=True)  # Load the saved weights before training\n",
    "model2.fit(X_train_padded, y_train_onehot,\n",
    "          batch_size=batch_size,\n",
    "          epochs=epochs,\n",
    "          validation_data=(X_test_padded, y_test_onehot))\n",
    "\n",
    "# Evaluate the model\n",
    "lstm2_y_prob = model2.predict(X_test_padded)\n",
    "lstm2_y_pred = np.argmax(lstm2_y_prob, axis=1)\n",
    "y_test = np.argmax(y_test_onehot, axis=1)\n",
    "\n",
    "print('Word2Vec + CNN-BiLSTM with Attention Results:')\n",
    "print(classification_report(y_test, lstm2_y_pred, digits=4))\n"
   ]
  },
  {
   "cell_type": "code",
   "execution_count": 59,
   "metadata": {},
   "outputs": [
    {
     "data": {
      "image/png": "[encoded data removed]",
      "text/plain": [
       "<Figure size 800x600 with 2 Axes>"
      ]
     },
     "metadata": {},
     "output_type": "display_data"
    }
   ],
   "source": [
    "# Calculate confusion matrix\n",
    "cm = confusion_matrix(y_test, lstm2_y_pred)\n",
    "\n",
    "# Visualize confusion matrix\n",
    "plt.figure(figsize=(8, 6))\n",
    "sns.heatmap(cm, annot=True, fmt='d', cmap='Blues', xticklabels=['Non-suicide', 'Suicide'], yticklabels=['Non-suicide', 'Suicide'])\n",
    "plt.xlabel('Predicted Labels')\n",
    "plt.ylabel('True Labels')\n",
    "plt.title('Confusion Matrix (Word2Vec + CNN-BiLSTM + Attention)')\n",
    "plt.show()"
   ]
  },
  {
   "cell_type": "markdown",
   "metadata": {},
   "source": [
    "2. Text + personality traits\n"
   ]
  },
  {
   "cell_type": "code",
   "execution_count": 8,
   "metadata": {},
   "outputs": [
    {
     "name": "stdout",
     "output_type": "stream",
     "text": [
      "text                       object\n",
      "Openness to Experience    float64\n",
      "Conscientiousness         float64\n",
      "Extraversion              float64\n",
      "Agreeableness             float64\n",
      "Neuroticism               float64\n",
      "class                       int64\n",
      "dtype: object\n"
     ]
    },
    {
     "name": "stderr",
     "output_type": "stream",
     "text": [
      "C:\\Users\\PC\\AppData\\Local\\Temp\\ipykernel_26228\\3006196770.py:5: SettingWithCopyWarning: \n",
      "A value is trying to be set on a copy of a slice from a DataFrame.\n",
      "Try using .loc[row_indexer,col_indexer] = value instead\n",
      "\n",
      "See the caveats in the documentation: https://pandas.pydata.org/pandas-docs/stable/user_guide/indexing.html#returning-a-view-versus-a-copy\n",
      "  data['class'] = data['class'].map({'non-suicide': 0, 'suicide': 1})\n",
      "C:\\Users\\PC\\AppData\\Local\\Temp\\ipykernel_26228\\3006196770.py:8: SettingWithCopyWarning: \n",
      "A value is trying to be set on a copy of a slice from a DataFrame.\n",
      "Try using .loc[row_indexer,col_indexer] = value instead\n",
      "\n",
      "See the caveats in the documentation: https://pandas.pydata.org/pandas-docs/stable/user_guide/indexing.html#returning-a-view-versus-a-copy\n",
      "  data['Openness to Experience'] = data['Openness to Experience'].str.rstrip('%').astype(float)\n",
      "C:\\Users\\PC\\AppData\\Local\\Temp\\ipykernel_26228\\3006196770.py:9: SettingWithCopyWarning: \n",
      "A value is trying to be set on a copy of a slice from a DataFrame.\n",
      "Try using .loc[row_indexer,col_indexer] = value instead\n",
      "\n",
      "See the caveats in the documentation: https://pandas.pydata.org/pandas-docs/stable/user_guide/indexing.html#returning-a-view-versus-a-copy\n",
      "  data['Conscientiousness'] = data['Conscientiousness'].str.rstrip('%').astype(float)\n",
      "C:\\Users\\PC\\AppData\\Local\\Temp\\ipykernel_26228\\3006196770.py:10: SettingWithCopyWarning: \n",
      "A value is trying to be set on a copy of a slice from a DataFrame.\n",
      "Try using .loc[row_indexer,col_indexer] = value instead\n",
      "\n",
      "See the caveats in the documentation: https://pandas.pydata.org/pandas-docs/stable/user_guide/indexing.html#returning-a-view-versus-a-copy\n",
      "  data['Extraversion'] = data['Extraversion'].str.rstrip('%').astype(float)\n",
      "C:\\Users\\PC\\AppData\\Local\\Temp\\ipykernel_26228\\3006196770.py:11: SettingWithCopyWarning: \n",
      "A value is trying to be set on a copy of a slice from a DataFrame.\n",
      "Try using .loc[row_indexer,col_indexer] = value instead\n",
      "\n",
      "See the caveats in the documentation: https://pandas.pydata.org/pandas-docs/stable/user_guide/indexing.html#returning-a-view-versus-a-copy\n",
      "  data['Agreeableness'] = data['Agreeableness'].str.rstrip('%').astype(float)\n",
      "C:\\Users\\PC\\AppData\\Local\\Temp\\ipykernel_26228\\3006196770.py:12: SettingWithCopyWarning: \n",
      "A value is trying to be set on a copy of a slice from a DataFrame.\n",
      "Try using .loc[row_indexer,col_indexer] = value instead\n",
      "\n",
      "See the caveats in the documentation: https://pandas.pydata.org/pandas-docs/stable/user_guide/indexing.html#returning-a-view-versus-a-copy\n",
      "  data['Neuroticism'] = data['Neuroticism'].str.rstrip('%').astype(float)\n"
     ]
    },
    {
     "data": {
      "text/html": [
       "<div>\n",
       "<style scoped>\n",
       "    .dataframe tbody tr th:only-of-type {\n",
       "        vertical-align: middle;\n",
       "    }\n",
       "\n",
       "    .dataframe tbody tr th {\n",
       "        vertical-align: top;\n",
       "    }\n",
       "\n",
       "    .dataframe thead th {\n",
       "        text-align: right;\n",
       "    }\n",
       "</style>\n",
       "<table border=\"1\" class=\"dataframe\">\n",
       "  <thead>\n",
       "    <tr style=\"text-align: right;\">\n",
       "      <th></th>\n",
       "      <th>text</th>\n",
       "      <th>Openness to Experience</th>\n",
       "      <th>Conscientiousness</th>\n",
       "      <th>Extraversion</th>\n",
       "      <th>Agreeableness</th>\n",
       "      <th>Neuroticism</th>\n",
       "      <th>class</th>\n",
       "    </tr>\n",
       "  </thead>\n",
       "  <tbody>\n",
       "    <tr>\n",
       "      <th>0</th>\n",
       "      <td>Ex Wife Threatening SuicideRecently I left my ...</td>\n",
       "      <td>51.0</td>\n",
       "      <td>68.0</td>\n",
       "      <td>27.0</td>\n",
       "      <td>35.0</td>\n",
       "      <td>67.0</td>\n",
       "      <td>1</td>\n",
       "    </tr>\n",
       "    <tr>\n",
       "      <th>1</th>\n",
       "      <td>Am I weird I don't get affected by compliments...</td>\n",
       "      <td>98.0</td>\n",
       "      <td>0.0</td>\n",
       "      <td>1.0</td>\n",
       "      <td>17.0</td>\n",
       "      <td>100.0</td>\n",
       "      <td>0</td>\n",
       "    </tr>\n",
       "    <tr>\n",
       "      <th>2</th>\n",
       "      <td>Finally 2020 is almost over... So I can never ...</td>\n",
       "      <td>89.0</td>\n",
       "      <td>7.0</td>\n",
       "      <td>1.0</td>\n",
       "      <td>11.0</td>\n",
       "      <td>56.0</td>\n",
       "      <td>0</td>\n",
       "    </tr>\n",
       "    <tr>\n",
       "      <th>3</th>\n",
       "      <td>Everyone wants to be \"edgy\" and it's making me...</td>\n",
       "      <td>97.0</td>\n",
       "      <td>12.0</td>\n",
       "      <td>22.0</td>\n",
       "      <td>26.0</td>\n",
       "      <td>93.0</td>\n",
       "      <td>0</td>\n",
       "    </tr>\n",
       "    <tr>\n",
       "      <th>4</th>\n",
       "      <td>I took the rest of my sleeping pills and my pa...</td>\n",
       "      <td>98.0</td>\n",
       "      <td>69.0</td>\n",
       "      <td>0.0</td>\n",
       "      <td>63.0</td>\n",
       "      <td>90.0</td>\n",
       "      <td>1</td>\n",
       "    </tr>\n",
       "    <tr>\n",
       "      <th>...</th>\n",
       "      <td>...</td>\n",
       "      <td>...</td>\n",
       "      <td>...</td>\n",
       "      <td>...</td>\n",
       "      <td>...</td>\n",
       "      <td>...</td>\n",
       "      <td>...</td>\n",
       "    </tr>\n",
       "    <tr>\n",
       "      <th>995</th>\n",
       "      <td>I'm a 17 year old senior and I sometimes feel ...</td>\n",
       "      <td>75.0</td>\n",
       "      <td>37.0</td>\n",
       "      <td>26.0</td>\n",
       "      <td>36.0</td>\n",
       "      <td>85.0</td>\n",
       "      <td>1</td>\n",
       "    </tr>\n",
       "    <tr>\n",
       "      <th>996</th>\n",
       "      <td>I just want to go to sleep and not wake upI ha...</td>\n",
       "      <td>76.0</td>\n",
       "      <td>21.0</td>\n",
       "      <td>0.0</td>\n",
       "      <td>17.0</td>\n",
       "      <td>97.0</td>\n",
       "      <td>1</td>\n",
       "    </tr>\n",
       "    <tr>\n",
       "      <th>997</th>\n",
       "      <td>Help. I'm so lost.I feel so helpless despite t...</td>\n",
       "      <td>88.0</td>\n",
       "      <td>25.0</td>\n",
       "      <td>18.0</td>\n",
       "      <td>15.0</td>\n",
       "      <td>99.0</td>\n",
       "      <td>1</td>\n",
       "    </tr>\n",
       "    <tr>\n",
       "      <th>998</th>\n",
       "      <td>Anybody else get really scared when you get cl...</td>\n",
       "      <td>98.0</td>\n",
       "      <td>41.0</td>\n",
       "      <td>49.0</td>\n",
       "      <td>54.0</td>\n",
       "      <td>98.0</td>\n",
       "      <td>1</td>\n",
       "    </tr>\n",
       "    <tr>\n",
       "      <th>999</th>\n",
       "      <td>What’s the point of continuing? We all eventua...</td>\n",
       "      <td>89.0</td>\n",
       "      <td>54.0</td>\n",
       "      <td>12.0</td>\n",
       "      <td>38.0</td>\n",
       "      <td>46.0</td>\n",
       "      <td>1</td>\n",
       "    </tr>\n",
       "  </tbody>\n",
       "</table>\n",
       "<p>1000 rows × 7 columns</p>\n",
       "</div>"
      ],
      "text/plain": [
       "                                                  text  \\\n",
       "0    Ex Wife Threatening SuicideRecently I left my ...   \n",
       "1    Am I weird I don't get affected by compliments...   \n",
       "2    Finally 2020 is almost over... So I can never ...   \n",
       "3    Everyone wants to be \"edgy\" and it's making me...   \n",
       "4    I took the rest of my sleeping pills and my pa...   \n",
       "..                                                 ...   \n",
       "995  I'm a 17 year old senior and I sometimes feel ...   \n",
       "996  I just want to go to sleep and not wake upI ha...   \n",
       "997  Help. I'm so lost.I feel so helpless despite t...   \n",
       "998  Anybody else get really scared when you get cl...   \n",
       "999  What’s the point of continuing? We all eventua...   \n",
       "\n",
       "     Openness to Experience  Conscientiousness  Extraversion  Agreeableness  \\\n",
       "0                      51.0               68.0          27.0           35.0   \n",
       "1                      98.0                0.0           1.0           17.0   \n",
       "2                      89.0                7.0           1.0           11.0   \n",
       "3                      97.0               12.0          22.0           26.0   \n",
       "4                      98.0               69.0           0.0           63.0   \n",
       "..                      ...                ...           ...            ...   \n",
       "995                    75.0               37.0          26.0           36.0   \n",
       "996                    76.0               21.0           0.0           17.0   \n",
       "997                    88.0               25.0          18.0           15.0   \n",
       "998                    98.0               41.0          49.0           54.0   \n",
       "999                    89.0               54.0          12.0           38.0   \n",
       "\n",
       "     Neuroticism  class  \n",
       "0           67.0      1  \n",
       "1          100.0      0  \n",
       "2           56.0      0  \n",
       "3           93.0      0  \n",
       "4           90.0      1  \n",
       "..           ...    ...  \n",
       "995         85.0      1  \n",
       "996         97.0      1  \n",
       "997         99.0      1  \n",
       "998         98.0      1  \n",
       "999         46.0      1  \n",
       "\n",
       "[1000 rows x 7 columns]"
      ]
     },
     "execution_count": 8,
     "metadata": {},
     "output_type": "execute_result"
    }
   ],
   "source": [
    "# Keep the desired columns\n",
    "data = data[['text','Openness to Experience', 'Conscientiousness', 'Extraversion', 'Agreeableness', 'Neuroticism', 'class']]\n",
    "\n",
    "# Encode the 'class' column as a numeric type\n",
    "data['class'] = data['class'].map({'non-suicide': 0, 'suicide': 1})\n",
    "\n",
    "# Remove the percentage symbols and convert the data to floating numbers\n",
    "data['Openness to Experience'] = data['Openness to Experience'].str.rstrip('%').astype(float)\n",
    "data['Conscientiousness'] = data['Conscientiousness'].str.rstrip('%').astype(float)\n",
    "data['Extraversion'] = data['Extraversion'].str.rstrip('%').astype(float)\n",
    "data['Agreeableness'] = data['Agreeableness'].str.rstrip('%').astype(float)\n",
    "data['Neuroticism'] = data['Neuroticism'].str.rstrip('%').astype(float)\n",
    "\n",
    "# Check the data type of each column\n",
    "print(data.dtypes)\n",
    "data"
   ]
  },
  {
   "cell_type": "code",
   "execution_count": 9,
   "metadata": {},
   "outputs": [
    {
     "name": "stderr",
     "output_type": "stream",
     "text": [
      "[nltk_data] Downloading package stopwords to\n",
      "[nltk_data]     C:\\Users\\PC\\AppData\\Roaming\\nltk_data...\n",
      "[nltk_data]   Package stopwords is already up-to-date!\n",
      "[nltk_data] Downloading package wordnet to\n",
      "[nltk_data]     C:\\Users\\PC\\AppData\\Roaming\\nltk_data...\n",
      "[nltk_data]   Package wordnet is already up-to-date!\n"
     ]
    },
    {
     "data": {
      "text/html": [
       "<div>\n",
       "<style scoped>\n",
       "    .dataframe tbody tr th:only-of-type {\n",
       "        vertical-align: middle;\n",
       "    }\n",
       "\n",
       "    .dataframe tbody tr th {\n",
       "        vertical-align: top;\n",
       "    }\n",
       "\n",
       "    .dataframe thead th {\n",
       "        text-align: right;\n",
       "    }\n",
       "</style>\n",
       "<table border=\"1\" class=\"dataframe\">\n",
       "  <thead>\n",
       "    <tr style=\"text-align: right;\">\n",
       "      <th></th>\n",
       "      <th>text</th>\n",
       "      <th>preprocessed_text</th>\n",
       "    </tr>\n",
       "  </thead>\n",
       "  <tbody>\n",
       "    <tr>\n",
       "      <th>0</th>\n",
       "      <td>Ex Wife Threatening SuicideRecently I left my ...</td>\n",
       "      <td>ex wife threatening suiciderecently left wife ...</td>\n",
       "    </tr>\n",
       "    <tr>\n",
       "      <th>1</th>\n",
       "      <td>Am I weird I don't get affected by compliments...</td>\n",
       "      <td>weird get affected compliment coming someone k...</td>\n",
       "    </tr>\n",
       "    <tr>\n",
       "      <th>2</th>\n",
       "      <td>Finally 2020 is almost over... So I can never ...</td>\n",
       "      <td>finally almost never hear bad year ever swear ...</td>\n",
       "    </tr>\n",
       "    <tr>\n",
       "      <th>3</th>\n",
       "      <td>Everyone wants to be \"edgy\" and it's making me...</td>\n",
       "      <td>everyone want edgy making self conscious feel ...</td>\n",
       "    </tr>\n",
       "    <tr>\n",
       "      <th>4</th>\n",
       "      <td>I took the rest of my sleeping pills and my pa...</td>\n",
       "      <td>took rest sleeping pill painkillersi wait end ...</td>\n",
       "    </tr>\n",
       "    <tr>\n",
       "      <th>5</th>\n",
       "      <td>Can you imagine getting old? Me neither.Wrinkl...</td>\n",
       "      <td>imagine getting old neither wrinkle weight gai...</td>\n",
       "    </tr>\n",
       "    <tr>\n",
       "      <th>6</th>\n",
       "      <td>Do you think getting hit by a train would be p...</td>\n",
       "      <td>think getting hit train would painful gun hard...</td>\n",
       "    </tr>\n",
       "    <tr>\n",
       "      <th>7</th>\n",
       "      <td>death, continuedI posted here before and saw s...</td>\n",
       "      <td>death continuedi posted saw something interest...</td>\n",
       "    </tr>\n",
       "    <tr>\n",
       "      <th>8</th>\n",
       "      <td>Fuck the verizon smart family app I can’t even...</td>\n",
       "      <td>fuck verizon smart family app even watch porn ...</td>\n",
       "    </tr>\n",
       "    <tr>\n",
       "      <th>9</th>\n",
       "      <td>I’m scared.   Everything just seems to be gett...</td>\n",
       "      <td>scared everything seems getting worse worse yo...</td>\n",
       "    </tr>\n",
       "  </tbody>\n",
       "</table>\n",
       "</div>"
      ],
      "text/plain": [
       "                                                text  \\\n",
       "0  Ex Wife Threatening SuicideRecently I left my ...   \n",
       "1  Am I weird I don't get affected by compliments...   \n",
       "2  Finally 2020 is almost over... So I can never ...   \n",
       "3  Everyone wants to be \"edgy\" and it's making me...   \n",
       "4  I took the rest of my sleeping pills and my pa...   \n",
       "5  Can you imagine getting old? Me neither.Wrinkl...   \n",
       "6  Do you think getting hit by a train would be p...   \n",
       "7  death, continuedI posted here before and saw s...   \n",
       "8  Fuck the verizon smart family app I can’t even...   \n",
       "9  I’m scared.   Everything just seems to be gett...   \n",
       "\n",
       "                                   preprocessed_text  \n",
       "0  ex wife threatening suiciderecently left wife ...  \n",
       "1  weird get affected compliment coming someone k...  \n",
       "2  finally almost never hear bad year ever swear ...  \n",
       "3  everyone want edgy making self conscious feel ...  \n",
       "4  took rest sleeping pill painkillersi wait end ...  \n",
       "5  imagine getting old neither wrinkle weight gai...  \n",
       "6  think getting hit train would painful gun hard...  \n",
       "7  death continuedi posted saw something interest...  \n",
       "8  fuck verizon smart family app even watch porn ...  \n",
       "9  scared everything seems getting worse worse yo...  "
      ]
     },
     "execution_count": 9,
     "metadata": {},
     "output_type": "execute_result"
    }
   ],
   "source": [
    "nltk.download('stopwords')\n",
    "nltk.download('wordnet')\n",
    "\n",
    "def preprocess_text(text):\n",
    "    my_stopwords = set(stopwords.words('english'))\n",
    "    add_stopwords = ['#ff', 'ff', 'rt']\n",
    "    my_stopwords.update(add_stopwords)\n",
    "    tokenizer = TweetTokenizer(reduce_len=True)\n",
    "    lemmatizer = WordNetLemmatizer()\n",
    "\n",
    "    # Remove URLs\n",
    "    text = re.sub(r'http\\S+', '', text)\n",
    "\n",
    "    # Remove punctuations and numbers\n",
    "    text = re.sub(r'[^a-zA-Z]', ' ', text)\n",
    "\n",
    "    # Lowercasing\n",
    "    text = text.lower()\n",
    "\n",
    "    # Tokenization\n",
    "    tokens = tokenizer.tokenize(text)\n",
    "\n",
    "    # Remove stop word\n",
    "    tokens = [word for word in tokens if word not in my_stopwords]\n",
    "\n",
    "    # Lemmatization\n",
    "    tokens = [lemmatizer.lemmatize(word) for word in tokens]\n",
    "    text = ' '.join(tokens)\n",
    "\n",
    "    return text\n",
    "\n",
    "data['preprocessed_text'] = data.text.apply(preprocess_text)\n",
    "data[['text','preprocessed_text']].head(10)"
   ]
  },
  {
   "cell_type": "code",
   "execution_count": 10,
   "metadata": {},
   "outputs": [],
   "source": [
    "y = data['class']\n",
    "X_train1, X_test1, y_train1, y_test1 = train_test_split(data['preprocessed_text'], y, test_size=0.2, random_state=42)\n"
   ]
  },
  {
   "cell_type": "code",
   "execution_count": 11,
   "metadata": {},
   "outputs": [],
   "source": [
    "from gensim.models import KeyedVectors\n",
    "from keras.utils import to_categorical\n",
    "\n",
    "# Train set and test set split\n",
    "y = data['class']\n",
    "X_train, X_test, y_train, y_test = train_test_split(data[['preprocessed_text', 'Extraversion', 'Agreeableness', 'Neuroticism']], y, test_size=0.2, random_state=42)\n",
    "\n",
    "# Tokenize and pad sequences\n",
    "tokenizer = Tokenizer()\n",
    "tokenizer.fit_on_texts(X_train['preprocessed_text'])\n",
    "\n",
    "X_train_seq = tokenizer.texts_to_sequences(X_train['preprocessed_text'])\n",
    "X_test_seq = tokenizer.texts_to_sequences(X_test['preprocessed_text'])\n",
    "\n",
    "num_classes = 2\n",
    "y_train = to_categorical(y_train, num_classes)\n",
    "y_test = to_categorical(y_test, num_classes)\n",
    "\n",
    "max_length = max([len(seq) for seq in X_train_seq] + [len(seq) for seq in X_test_seq])\n",
    "\n",
    "X_train_padded = pad_sequences(X_train_seq, maxlen=max_length)\n",
    "X_test_padded = pad_sequences(X_test_seq, maxlen=max_length)\n",
    "\n",
    "# Extract Big 5 personality scores\n",
    "train_scores = X_train[['Extraversion', 'Agreeableness', 'Neuroticism']].values\n",
    "test_scores = X_test[['Extraversion', 'Agreeableness', 'Neuroticism']].values\n",
    "\n",
    "# Load GoogleNews pre-trained word vectors\n",
    "word2vec_path = 'GoogleNews-vectors-negative300.bin'\n",
    "word2vec = KeyedVectors.load_word2vec_format(word2vec_path, binary=True)\n",
    "\n",
    "# Create the word embedding matrix\n",
    "num_words = len(tokenizer.word_index) + 1\n",
    "embedding_matrix = np.zeros((num_words, 300))\n",
    "for word, i in tokenizer.word_index.items():\n",
    "    if i >= num_words:\n",
    "        continue\n",
    "    try:\n",
    "        embedding_vector = word2vec[word]\n",
    "        embedding_matrix[i] = embedding_vector\n",
    "    except KeyError:\n",
    "        pass"
   ]
  },
  {
   "cell_type": "code",
   "execution_count": 7,
   "metadata": {},
   "outputs": [
    {
     "name": "stderr",
     "output_type": "stream",
     "text": [
      "[I 2025-03-21 14:24:42,374] A new study created in memory with name: no-name-31afb031-5d87-4e97-ad22-1c08cb29fb95\n"
     ]
    },
    {
     "name": "stdout",
     "output_type": "stream",
     "text": [
      "Requirement already satisfied: optuna in c:\\users\\pc\\documents\\master_project\\suicide-ideation-detection-in-social-media-using-personality-traits-main\\venv\\lib\\site-packages (4.2.1)\n",
      "Requirement already satisfied: alembic>=1.5.0 in c:\\users\\pc\\documents\\master_project\\suicide-ideation-detection-in-social-media-using-personality-traits-main\\venv\\lib\\site-packages (from optuna) (1.14.1)\n",
      "Requirement already satisfied: colorlog in c:\\users\\pc\\documents\\master_project\\suicide-ideation-detection-in-social-media-using-personality-traits-main\\venv\\lib\\site-packages (from optuna) (6.9.0)\n",
      "Requirement already satisfied: numpy in c:\\users\\pc\\documents\\master_project\\suicide-ideation-detection-in-social-media-using-personality-traits-main\\venv\\lib\\site-packages (from optuna) (1.26.4)\n",
      "Requirement already satisfied: packaging>=20.0 in c:\\users\\pc\\documents\\master_project\\suicide-ideation-detection-in-social-media-using-personality-traits-main\\venv\\lib\\site-packages (from optuna) (24.2)\n",
      "Requirement already satisfied: sqlalchemy>=1.4.2 in c:\\users\\pc\\documents\\master_project\\suicide-ideation-detection-in-social-media-using-personality-traits-main\\venv\\lib\\site-packages (from optuna) (2.0.38)\n",
      "Requirement already satisfied: tqdm in c:\\users\\pc\\documents\\master_project\\suicide-ideation-detection-in-social-media-using-personality-traits-main\\venv\\lib\\site-packages (from optuna) (4.67.1)\n",
      "Requirement already satisfied: PyYAML in c:\\users\\pc\\documents\\master_project\\suicide-ideation-detection-in-social-media-using-personality-traits-main\\venv\\lib\\site-packages (from optuna) (6.0.2)\n",
      "Requirement already satisfied: Mako in c:\\users\\pc\\documents\\master_project\\suicide-ideation-detection-in-social-media-using-personality-traits-main\\venv\\lib\\site-packages (from alembic>=1.5.0->optuna) (1.3.9)\n",
      "Requirement already satisfied: typing-extensions>=4 in c:\\users\\pc\\documents\\master_project\\suicide-ideation-detection-in-social-media-using-personality-traits-main\\venv\\lib\\site-packages (from alembic>=1.5.0->optuna) (4.12.2)\n",
      "Requirement already satisfied: greenlet!=0.4.17 in c:\\users\\pc\\documents\\master_project\\suicide-ideation-detection-in-social-media-using-personality-traits-main\\venv\\lib\\site-packages (from sqlalchemy>=1.4.2->optuna) (3.1.1)\n",
      "Requirement already satisfied: colorama in c:\\users\\pc\\documents\\master_project\\suicide-ideation-detection-in-social-media-using-personality-traits-main\\venv\\lib\\site-packages (from colorlog->optuna) (0.4.6)\n",
      "Requirement already satisfied: MarkupSafe>=0.9.2 in c:\\users\\pc\\documents\\master_project\\suicide-ideation-detection-in-social-media-using-personality-traits-main\\venv\\lib\\site-packages (from Mako->alembic>=1.5.0->optuna) (3.0.2)\n",
      "WARNING:tensorflow:Layer lstm will not use cuDNN kernels since it doesn't meet the criteria. It will use a generic GPU kernel as fallback when running on GPU.\n",
      "WARNING:tensorflow:Layer lstm will not use cuDNN kernels since it doesn't meet the criteria. It will use a generic GPU kernel as fallback when running on GPU.\n",
      "WARNING:tensorflow:Layer lstm will not use cuDNN kernels since it doesn't meet the criteria. It will use a generic GPU kernel as fallback when running on GPU.\n"
     ]
    },
    {
     "name": "stderr",
     "output_type": "stream",
     "text": [
      "[I 2025-03-21 14:25:35,888] Trial 0 finished with value: 0.925000011920929 and parameters: {'lstm_units': 102, 'dense_units': 112, 'dropout_rate': 0.31578533309887913}. Best is trial 0 with value: 0.925000011920929.\n"
     ]
    },
    {
     "name": "stdout",
     "output_type": "stream",
     "text": [
      "WARNING:tensorflow:Layer lstm_1 will not use cuDNN kernels since it doesn't meet the criteria. It will use a generic GPU kernel as fallback when running on GPU.\n",
      "WARNING:tensorflow:Layer lstm_1 will not use cuDNN kernels since it doesn't meet the criteria. It will use a generic GPU kernel as fallback when running on GPU.\n",
      "WARNING:tensorflow:Layer lstm_1 will not use cuDNN kernels since it doesn't meet the criteria. It will use a generic GPU kernel as fallback when running on GPU.\n"
     ]
    },
    {
     "name": "stderr",
     "output_type": "stream",
     "text": [
      "[I 2025-03-21 14:26:24,220] Trial 1 finished with value: 0.9100000262260437 and parameters: {'lstm_units': 147, 'dense_units': 60, 'dropout_rate': 0.4660948396470609}. Best is trial 0 with value: 0.925000011920929.\n"
     ]
    },
    {
     "name": "stdout",
     "output_type": "stream",
     "text": [
      "WARNING:tensorflow:Layer lstm_2 will not use cuDNN kernels since it doesn't meet the criteria. It will use a generic GPU kernel as fallback when running on GPU.\n",
      "WARNING:tensorflow:Layer lstm_2 will not use cuDNN kernels since it doesn't meet the criteria. It will use a generic GPU kernel as fallback when running on GPU.\n",
      "WARNING:tensorflow:Layer lstm_2 will not use cuDNN kernels since it doesn't meet the criteria. It will use a generic GPU kernel as fallback when running on GPU.\n"
     ]
    },
    {
     "name": "stderr",
     "output_type": "stream",
     "text": [
      "[I 2025-03-21 14:27:11,849] Trial 2 finished with value: 0.8700000047683716 and parameters: {'lstm_units': 106, 'dense_units': 75, 'dropout_rate': 0.41244819170614866}. Best is trial 0 with value: 0.925000011920929.\n"
     ]
    },
    {
     "name": "stdout",
     "output_type": "stream",
     "text": [
      "WARNING:tensorflow:Layer lstm_3 will not use cuDNN kernels since it doesn't meet the criteria. It will use a generic GPU kernel as fallback when running on GPU.\n",
      "WARNING:tensorflow:Layer lstm_3 will not use cuDNN kernels since it doesn't meet the criteria. It will use a generic GPU kernel as fallback when running on GPU.\n",
      "WARNING:tensorflow:Layer lstm_3 will not use cuDNN kernels since it doesn't meet the criteria. It will use a generic GPU kernel as fallback when running on GPU.\n"
     ]
    },
    {
     "name": "stderr",
     "output_type": "stream",
     "text": [
      "[I 2025-03-21 14:28:49,127] Trial 3 finished with value: 0.9049999713897705 and parameters: {'lstm_units': 112, 'dense_units': 75, 'dropout_rate': 0.1955548321352846}. Best is trial 0 with value: 0.925000011920929.\n"
     ]
    },
    {
     "name": "stdout",
     "output_type": "stream",
     "text": [
      "WARNING:tensorflow:Layer lstm_4 will not use cuDNN kernels since it doesn't meet the criteria. It will use a generic GPU kernel as fallback when running on GPU.\n",
      "WARNING:tensorflow:Layer lstm_4 will not use cuDNN kernels since it doesn't meet the criteria. It will use a generic GPU kernel as fallback when running on GPU.\n",
      "WARNING:tensorflow:Layer lstm_4 will not use cuDNN kernels since it doesn't meet the criteria. It will use a generic GPU kernel as fallback when running on GPU.\n"
     ]
    },
    {
     "name": "stderr",
     "output_type": "stream",
     "text": [
      "[I 2025-03-21 14:30:20,062] Trial 4 finished with value: 0.9049999713897705 and parameters: {'lstm_units': 105, 'dense_units': 122, 'dropout_rate': 0.34860352999486677}. Best is trial 0 with value: 0.925000011920929.\n"
     ]
    },
    {
     "name": "stdout",
     "output_type": "stream",
     "text": [
      "WARNING:tensorflow:Layer lstm_5 will not use cuDNN kernels since it doesn't meet the criteria. It will use a generic GPU kernel as fallback when running on GPU.\n",
      "WARNING:tensorflow:Layer lstm_5 will not use cuDNN kernels since it doesn't meet the criteria. It will use a generic GPU kernel as fallback when running on GPU.\n",
      "WARNING:tensorflow:Layer lstm_5 will not use cuDNN kernels since it doesn't meet the criteria. It will use a generic GPU kernel as fallback when running on GPU.\n"
     ]
    },
    {
     "name": "stderr",
     "output_type": "stream",
     "text": [
      "[I 2025-03-21 14:31:08,204] Trial 5 finished with value: 0.9300000071525574 and parameters: {'lstm_units': 113, 'dense_units': 45, 'dropout_rate': 0.46503061841415805}. Best is trial 5 with value: 0.9300000071525574.\n"
     ]
    },
    {
     "name": "stdout",
     "output_type": "stream",
     "text": [
      "WARNING:tensorflow:Layer lstm_6 will not use cuDNN kernels since it doesn't meet the criteria. It will use a generic GPU kernel as fallback when running on GPU.\n",
      "WARNING:tensorflow:Layer lstm_6 will not use cuDNN kernels since it doesn't meet the criteria. It will use a generic GPU kernel as fallback when running on GPU.\n",
      "WARNING:tensorflow:Layer lstm_6 will not use cuDNN kernels since it doesn't meet the criteria. It will use a generic GPU kernel as fallback when running on GPU.\n"
     ]
    },
    {
     "name": "stderr",
     "output_type": "stream",
     "text": [
      "[I 2025-03-21 14:31:56,964] Trial 6 finished with value: 0.9350000023841858 and parameters: {'lstm_units': 130, 'dense_units': 97, 'dropout_rate': 0.3512072461298772}. Best is trial 6 with value: 0.9350000023841858.\n"
     ]
    },
    {
     "name": "stdout",
     "output_type": "stream",
     "text": [
      "WARNING:tensorflow:Layer lstm_7 will not use cuDNN kernels since it doesn't meet the criteria. It will use a generic GPU kernel as fallback when running on GPU.\n",
      "WARNING:tensorflow:Layer lstm_7 will not use cuDNN kernels since it doesn't meet the criteria. It will use a generic GPU kernel as fallback when running on GPU.\n",
      "WARNING:tensorflow:Layer lstm_7 will not use cuDNN kernels since it doesn't meet the criteria. It will use a generic GPU kernel as fallback when running on GPU.\n"
     ]
    },
    {
     "name": "stderr",
     "output_type": "stream",
     "text": [
      "[I 2025-03-21 14:32:46,738] Trial 7 finished with value: 0.8999999761581421 and parameters: {'lstm_units': 111, 'dense_units': 44, 'dropout_rate': 0.26188420753464103}. Best is trial 6 with value: 0.9350000023841858.\n"
     ]
    },
    {
     "name": "stdout",
     "output_type": "stream",
     "text": [
      "WARNING:tensorflow:Layer lstm_8 will not use cuDNN kernels since it doesn't meet the criteria. It will use a generic GPU kernel as fallback when running on GPU.\n",
      "WARNING:tensorflow:Layer lstm_8 will not use cuDNN kernels since it doesn't meet the criteria. It will use a generic GPU kernel as fallback when running on GPU.\n",
      "WARNING:tensorflow:Layer lstm_8 will not use cuDNN kernels since it doesn't meet the criteria. It will use a generic GPU kernel as fallback when running on GPU.\n"
     ]
    },
    {
     "name": "stderr",
     "output_type": "stream",
     "text": [
      "[I 2025-03-21 14:33:40,525] Trial 8 finished with value: 0.9100000262260437 and parameters: {'lstm_units': 106, 'dense_units': 127, 'dropout_rate': 0.25206312020749766}. Best is trial 6 with value: 0.9350000023841858.\n"
     ]
    },
    {
     "name": "stdout",
     "output_type": "stream",
     "text": [
      "WARNING:tensorflow:Layer lstm_9 will not use cuDNN kernels since it doesn't meet the criteria. It will use a generic GPU kernel as fallback when running on GPU.\n",
      "WARNING:tensorflow:Layer lstm_9 will not use cuDNN kernels since it doesn't meet the criteria. It will use a generic GPU kernel as fallback when running on GPU.\n",
      "WARNING:tensorflow:Layer lstm_9 will not use cuDNN kernels since it doesn't meet the criteria. It will use a generic GPU kernel as fallback when running on GPU.\n"
     ]
    },
    {
     "name": "stderr",
     "output_type": "stream",
     "text": [
      "[I 2025-03-21 14:34:30,771] Trial 9 finished with value: 0.800000011920929 and parameters: {'lstm_units': 105, 'dense_units': 50, 'dropout_rate': 0.31210448436839844}. Best is trial 6 with value: 0.9350000023841858.\n"
     ]
    },
    {
     "name": "stdout",
     "output_type": "stream",
     "text": [
      "WARNING:tensorflow:Layer lstm_10 will not use cuDNN kernels since it doesn't meet the criteria. It will use a generic GPU kernel as fallback when running on GPU.\n",
      "WARNING:tensorflow:Layer lstm_10 will not use cuDNN kernels since it doesn't meet the criteria. It will use a generic GPU kernel as fallback when running on GPU.\n",
      "WARNING:tensorflow:Layer lstm_10 will not use cuDNN kernels since it doesn't meet the criteria. It will use a generic GPU kernel as fallback when running on GPU.\n"
     ]
    },
    {
     "name": "stderr",
     "output_type": "stream",
     "text": [
      "[I 2025-03-21 14:35:20,950] Trial 10 finished with value: 0.9150000214576721 and parameters: {'lstm_units': 135, 'dense_units': 92, 'dropout_rate': 0.5853612970481339}. Best is trial 6 with value: 0.9350000023841858.\n"
     ]
    },
    {
     "name": "stdout",
     "output_type": "stream",
     "text": [
      "WARNING:tensorflow:Layer lstm_11 will not use cuDNN kernels since it doesn't meet the criteria. It will use a generic GPU kernel as fallback when running on GPU.\n",
      "WARNING:tensorflow:Layer lstm_11 will not use cuDNN kernels since it doesn't meet the criteria. It will use a generic GPU kernel as fallback when running on GPU.\n",
      "WARNING:tensorflow:Layer lstm_11 will not use cuDNN kernels since it doesn't meet the criteria. It will use a generic GPU kernel as fallback when running on GPU.\n"
     ]
    },
    {
     "name": "stderr",
     "output_type": "stream",
     "text": [
      "[I 2025-03-21 14:36:10,198] Trial 11 finished with value: 0.8600000143051147 and parameters: {'lstm_units': 124, 'dense_units': 92, 'dropout_rate': 0.4981413424772197}. Best is trial 6 with value: 0.9350000023841858.\n"
     ]
    },
    {
     "name": "stdout",
     "output_type": "stream",
     "text": [
      "WARNING:tensorflow:Layer lstm_12 will not use cuDNN kernels since it doesn't meet the criteria. It will use a generic GPU kernel as fallback when running on GPU.\n",
      "WARNING:tensorflow:Layer lstm_12 will not use cuDNN kernels since it doesn't meet the criteria. It will use a generic GPU kernel as fallback when running on GPU.\n",
      "WARNING:tensorflow:Layer lstm_12 will not use cuDNN kernels since it doesn't meet the criteria. It will use a generic GPU kernel as fallback when running on GPU.\n"
     ]
    },
    {
     "name": "stderr",
     "output_type": "stream",
     "text": [
      "[I 2025-03-21 14:36:58,434] Trial 12 finished with value: 0.8899999856948853 and parameters: {'lstm_units': 123, 'dense_units': 32, 'dropout_rate': 0.1188210751506456}. Best is trial 6 with value: 0.9350000023841858.\n"
     ]
    },
    {
     "name": "stdout",
     "output_type": "stream",
     "text": [
      "WARNING:tensorflow:Layer lstm_13 will not use cuDNN kernels since it doesn't meet the criteria. It will use a generic GPU kernel as fallback when running on GPU.\n",
      "WARNING:tensorflow:Layer lstm_13 will not use cuDNN kernels since it doesn't meet the criteria. It will use a generic GPU kernel as fallback when running on GPU.\n",
      "WARNING:tensorflow:Layer lstm_13 will not use cuDNN kernels since it doesn't meet the criteria. It will use a generic GPU kernel as fallback when running on GPU.\n"
     ]
    },
    {
     "name": "stderr",
     "output_type": "stream",
     "text": [
      "[I 2025-03-21 14:37:46,969] Trial 13 finished with value: 0.9399999976158142 and parameters: {'lstm_units': 134, 'dense_units': 101, 'dropout_rate': 0.4236046138092598}. Best is trial 13 with value: 0.9399999976158142.\n"
     ]
    },
    {
     "name": "stdout",
     "output_type": "stream",
     "text": [
      "WARNING:tensorflow:Layer lstm_14 will not use cuDNN kernels since it doesn't meet the criteria. It will use a generic GPU kernel as fallback when running on GPU.\n",
      "WARNING:tensorflow:Layer lstm_14 will not use cuDNN kernels since it doesn't meet the criteria. It will use a generic GPU kernel as fallback when running on GPU.\n",
      "WARNING:tensorflow:Layer lstm_14 will not use cuDNN kernels since it doesn't meet the criteria. It will use a generic GPU kernel as fallback when running on GPU.\n"
     ]
    },
    {
     "name": "stderr",
     "output_type": "stream",
     "text": [
      "[I 2025-03-21 14:38:34,314] Trial 14 finished with value: 0.8999999761581421 and parameters: {'lstm_units': 134, 'dense_units': 104, 'dropout_rate': 0.4079912548200034}. Best is trial 13 with value: 0.9399999976158142.\n"
     ]
    },
    {
     "name": "stdout",
     "output_type": "stream",
     "text": [
      "WARNING:tensorflow:Layer lstm_15 will not use cuDNN kernels since it doesn't meet the criteria. It will use a generic GPU kernel as fallback when running on GPU.\n",
      "WARNING:tensorflow:Layer lstm_15 will not use cuDNN kernels since it doesn't meet the criteria. It will use a generic GPU kernel as fallback when running on GPU.\n",
      "WARNING:tensorflow:Layer lstm_15 will not use cuDNN kernels since it doesn't meet the criteria. It will use a generic GPU kernel as fallback when running on GPU.\n"
     ]
    },
    {
     "name": "stderr",
     "output_type": "stream",
     "text": [
      "[I 2025-03-21 14:40:00,595] Trial 15 finished with value: 0.8999999761581421 and parameters: {'lstm_units': 134, 'dense_units': 96, 'dropout_rate': 0.5543691907884698}. Best is trial 13 with value: 0.9399999976158142.\n"
     ]
    },
    {
     "name": "stdout",
     "output_type": "stream",
     "text": [
      "WARNING:tensorflow:Layer lstm_16 will not use cuDNN kernels since it doesn't meet the criteria. It will use a generic GPU kernel as fallback when running on GPU.\n",
      "WARNING:tensorflow:Layer lstm_16 will not use cuDNN kernels since it doesn't meet the criteria. It will use a generic GPU kernel as fallback when running on GPU.\n",
      "WARNING:tensorflow:Layer lstm_16 will not use cuDNN kernels since it doesn't meet the criteria. It will use a generic GPU kernel as fallback when running on GPU.\n"
     ]
    },
    {
     "name": "stderr",
     "output_type": "stream",
     "text": [
      "[I 2025-03-21 14:41:41,212] Trial 16 finished with value: 0.8949999809265137 and parameters: {'lstm_units': 141, 'dense_units': 112, 'dropout_rate': 0.4305958732857791}. Best is trial 13 with value: 0.9399999976158142.\n"
     ]
    },
    {
     "name": "stdout",
     "output_type": "stream",
     "text": [
      "WARNING:tensorflow:Layer lstm_17 will not use cuDNN kernels since it doesn't meet the criteria. It will use a generic GPU kernel as fallback when running on GPU.\n",
      "WARNING:tensorflow:Layer lstm_17 will not use cuDNN kernels since it doesn't meet the criteria. It will use a generic GPU kernel as fallback when running on GPU.\n",
      "WARNING:tensorflow:Layer lstm_17 will not use cuDNN kernels since it doesn't meet the criteria. It will use a generic GPU kernel as fallback when running on GPU.\n"
     ]
    },
    {
     "name": "stderr",
     "output_type": "stream",
     "text": [
      "[I 2025-03-21 14:43:13,304] Trial 17 finished with value: 0.9200000166893005 and parameters: {'lstm_units': 129, 'dense_units': 83, 'dropout_rate': 0.37299652356027146}. Best is trial 13 with value: 0.9399999976158142.\n"
     ]
    },
    {
     "name": "stdout",
     "output_type": "stream",
     "text": [
      "WARNING:tensorflow:Layer lstm_18 will not use cuDNN kernels since it doesn't meet the criteria. It will use a generic GPU kernel as fallback when running on GPU.\n",
      "WARNING:tensorflow:Layer lstm_18 will not use cuDNN kernels since it doesn't meet the criteria. It will use a generic GPU kernel as fallback when running on GPU.\n",
      "WARNING:tensorflow:Layer lstm_18 will not use cuDNN kernels since it doesn't meet the criteria. It will use a generic GPU kernel as fallback when running on GPU.\n"
     ]
    },
    {
     "name": "stderr",
     "output_type": "stream",
     "text": [
      "[I 2025-03-21 14:44:55,940] Trial 18 finished with value: 0.9100000262260437 and parameters: {'lstm_units': 143, 'dense_units': 104, 'dropout_rate': 0.5403911556044625}. Best is trial 13 with value: 0.9399999976158142.\n"
     ]
    },
    {
     "name": "stdout",
     "output_type": "stream",
     "text": [
      "WARNING:tensorflow:Layer lstm_19 will not use cuDNN kernels since it doesn't meet the criteria. It will use a generic GPU kernel as fallback when running on GPU.\n",
      "WARNING:tensorflow:Layer lstm_19 will not use cuDNN kernels since it doesn't meet the criteria. It will use a generic GPU kernel as fallback when running on GPU.\n",
      "WARNING:tensorflow:Layer lstm_19 will not use cuDNN kernels since it doesn't meet the criteria. It will use a generic GPU kernel as fallback when running on GPU.\n"
     ]
    },
    {
     "name": "stderr",
     "output_type": "stream",
     "text": [
      "[I 2025-03-21 14:46:42,100] Trial 19 finished with value: 0.8799999952316284 and parameters: {'lstm_units': 120, 'dense_units': 66, 'dropout_rate': 0.22902574385471744}. Best is trial 13 with value: 0.9399999976158142.\n"
     ]
    },
    {
     "name": "stdout",
     "output_type": "stream",
     "text": [
      "WARNING:tensorflow:Layer lstm_20 will not use cuDNN kernels since it doesn't meet the criteria. It will use a generic GPU kernel as fallback when running on GPU.\n",
      "WARNING:tensorflow:Layer lstm_20 will not use cuDNN kernels since it doesn't meet the criteria. It will use a generic GPU kernel as fallback when running on GPU.\n",
      "WARNING:tensorflow:Layer lstm_20 will not use cuDNN kernels since it doesn't meet the criteria. It will use a generic GPU kernel as fallback when running on GPU.\n"
     ]
    },
    {
     "name": "stderr",
     "output_type": "stream",
     "text": [
      "[I 2025-03-21 14:48:26,032] Trial 20 finished with value: 0.8849999904632568 and parameters: {'lstm_units': 130, 'dense_units': 85, 'dropout_rate': 0.35802791161089415}. Best is trial 13 with value: 0.9399999976158142.\n"
     ]
    },
    {
     "name": "stdout",
     "output_type": "stream",
     "text": [
      "WARNING:tensorflow:Layer lstm_21 will not use cuDNN kernels since it doesn't meet the criteria. It will use a generic GPU kernel as fallback when running on GPU.\n",
      "WARNING:tensorflow:Layer lstm_21 will not use cuDNN kernels since it doesn't meet the criteria. It will use a generic GPU kernel as fallback when running on GPU.\n",
      "WARNING:tensorflow:Layer lstm_21 will not use cuDNN kernels since it doesn't meet the criteria. It will use a generic GPU kernel as fallback when running on GPU.\n"
     ]
    },
    {
     "name": "stderr",
     "output_type": "stream",
     "text": [
      "[I 2025-03-21 14:49:17,273] Trial 21 finished with value: 0.9100000262260437 and parameters: {'lstm_units': 118, 'dense_units': 101, 'dropout_rate': 0.4773671678488947}. Best is trial 13 with value: 0.9399999976158142.\n"
     ]
    },
    {
     "name": "stdout",
     "output_type": "stream",
     "text": [
      "WARNING:tensorflow:Layer lstm_22 will not use cuDNN kernels since it doesn't meet the criteria. It will use a generic GPU kernel as fallback when running on GPU.\n",
      "WARNING:tensorflow:Layer lstm_22 will not use cuDNN kernels since it doesn't meet the criteria. It will use a generic GPU kernel as fallback when running on GPU.\n",
      "WARNING:tensorflow:Layer lstm_22 will not use cuDNN kernels since it doesn't meet the criteria. It will use a generic GPU kernel as fallback when running on GPU.\n"
     ]
    },
    {
     "name": "stderr",
     "output_type": "stream",
     "text": [
      "[I 2025-03-21 14:50:00,760] Trial 22 finished with value: 0.8650000095367432 and parameters: {'lstm_units': 114, 'dense_units': 115, 'dropout_rate': 0.44589455196999767}. Best is trial 13 with value: 0.9399999976158142.\n"
     ]
    },
    {
     "name": "stdout",
     "output_type": "stream",
     "text": [
      "WARNING:tensorflow:Layer lstm_23 will not use cuDNN kernels since it doesn't meet the criteria. It will use a generic GPU kernel as fallback when running on GPU.\n",
      "WARNING:tensorflow:Layer lstm_23 will not use cuDNN kernels since it doesn't meet the criteria. It will use a generic GPU kernel as fallback when running on GPU.\n",
      "WARNING:tensorflow:Layer lstm_23 will not use cuDNN kernels since it doesn't meet the criteria. It will use a generic GPU kernel as fallback when running on GPU.\n"
     ]
    },
    {
     "name": "stderr",
     "output_type": "stream",
     "text": [
      "[I 2025-03-21 14:50:45,386] Trial 23 finished with value: 0.9350000023841858 and parameters: {'lstm_units': 139, 'dense_units': 33, 'dropout_rate': 0.3901261162549598}. Best is trial 13 with value: 0.9399999976158142.\n"
     ]
    },
    {
     "name": "stdout",
     "output_type": "stream",
     "text": [
      "WARNING:tensorflow:Layer lstm_24 will not use cuDNN kernels since it doesn't meet the criteria. It will use a generic GPU kernel as fallback when running on GPU.\n",
      "WARNING:tensorflow:Layer lstm_24 will not use cuDNN kernels since it doesn't meet the criteria. It will use a generic GPU kernel as fallback when running on GPU.\n",
      "WARNING:tensorflow:Layer lstm_24 will not use cuDNN kernels since it doesn't meet the criteria. It will use a generic GPU kernel as fallback when running on GPU.\n"
     ]
    },
    {
     "name": "stderr",
     "output_type": "stream",
     "text": [
      "[I 2025-03-21 14:51:29,831] Trial 24 finished with value: 0.8399999737739563 and parameters: {'lstm_units': 140, 'dense_units': 67, 'dropout_rate': 0.310681444635531}. Best is trial 13 with value: 0.9399999976158142.\n"
     ]
    },
    {
     "name": "stdout",
     "output_type": "stream",
     "text": [
      "WARNING:tensorflow:Layer lstm_25 will not use cuDNN kernels since it doesn't meet the criteria. It will use a generic GPU kernel as fallback when running on GPU.\n",
      "WARNING:tensorflow:Layer lstm_25 will not use cuDNN kernels since it doesn't meet the criteria. It will use a generic GPU kernel as fallback when running on GPU.\n",
      "WARNING:tensorflow:Layer lstm_25 will not use cuDNN kernels since it doesn't meet the criteria. It will use a generic GPU kernel as fallback when running on GPU.\n"
     ]
    },
    {
     "name": "stderr",
     "output_type": "stream",
     "text": [
      "[I 2025-03-21 14:52:16,680] Trial 25 finished with value: 0.8999999761581421 and parameters: {'lstm_units': 129, 'dense_units': 86, 'dropout_rate': 0.3838066543154849}. Best is trial 13 with value: 0.9399999976158142.\n"
     ]
    },
    {
     "name": "stdout",
     "output_type": "stream",
     "text": [
      "WARNING:tensorflow:Layer lstm_26 will not use cuDNN kernels since it doesn't meet the criteria. It will use a generic GPU kernel as fallback when running on GPU.\n",
      "WARNING:tensorflow:Layer lstm_26 will not use cuDNN kernels since it doesn't meet the criteria. It will use a generic GPU kernel as fallback when running on GPU.\n",
      "WARNING:tensorflow:Layer lstm_26 will not use cuDNN kernels since it doesn't meet the criteria. It will use a generic GPU kernel as fallback when running on GPU.\n"
     ]
    },
    {
     "name": "stderr",
     "output_type": "stream",
     "text": [
      "[I 2025-03-21 14:53:02,355] Trial 26 finished with value: 0.7850000262260437 and parameters: {'lstm_units': 138, 'dense_units': 32, 'dropout_rate': 0.5124109493038399}. Best is trial 13 with value: 0.9399999976158142.\n"
     ]
    },
    {
     "name": "stdout",
     "output_type": "stream",
     "text": [
      "WARNING:tensorflow:Layer lstm_27 will not use cuDNN kernels since it doesn't meet the criteria. It will use a generic GPU kernel as fallback when running on GPU.\n",
      "WARNING:tensorflow:Layer lstm_27 will not use cuDNN kernels since it doesn't meet the criteria. It will use a generic GPU kernel as fallback when running on GPU.\n",
      "WARNING:tensorflow:Layer lstm_27 will not use cuDNN kernels since it doesn't meet the criteria. It will use a generic GPU kernel as fallback when running on GPU.\n"
     ]
    },
    {
     "name": "stderr",
     "output_type": "stream",
     "text": [
      "[I 2025-03-21 14:53:48,512] Trial 27 finished with value: 0.875 and parameters: {'lstm_units': 149, 'dense_units': 97, 'dropout_rate': 0.38955701021193384}. Best is trial 13 with value: 0.9399999976158142.\n"
     ]
    },
    {
     "name": "stdout",
     "output_type": "stream",
     "text": [
      "WARNING:tensorflow:Layer lstm_28 will not use cuDNN kernels since it doesn't meet the criteria. It will use a generic GPU kernel as fallback when running on GPU.\n",
      "WARNING:tensorflow:Layer lstm_28 will not use cuDNN kernels since it doesn't meet the criteria. It will use a generic GPU kernel as fallback when running on GPU.\n",
      "WARNING:tensorflow:Layer lstm_28 will not use cuDNN kernels since it doesn't meet the criteria. It will use a generic GPU kernel as fallback when running on GPU.\n"
     ]
    },
    {
     "name": "stderr",
     "output_type": "stream",
     "text": [
      "[I 2025-03-21 14:54:35,633] Trial 28 finished with value: 0.9100000262260437 and parameters: {'lstm_units': 145, 'dense_units': 106, 'dropout_rate': 0.3247444135611908}. Best is trial 13 with value: 0.9399999976158142.\n"
     ]
    },
    {
     "name": "stdout",
     "output_type": "stream",
     "text": [
      "WARNING:tensorflow:Layer lstm_29 will not use cuDNN kernels since it doesn't meet the criteria. It will use a generic GPU kernel as fallback when running on GPU.\n",
      "WARNING:tensorflow:Layer lstm_29 will not use cuDNN kernels since it doesn't meet the criteria. It will use a generic GPU kernel as fallback when running on GPU.\n",
      "WARNING:tensorflow:Layer lstm_29 will not use cuDNN kernels since it doesn't meet the criteria. It will use a generic GPU kernel as fallback when running on GPU.\n"
     ]
    },
    {
     "name": "stderr",
     "output_type": "stream",
     "text": [
      "[I 2025-03-21 14:55:22,871] Trial 29 finished with value: 0.9150000214576721 and parameters: {'lstm_units': 131, 'dense_units': 111, 'dropout_rate': 0.28811561028731425}. Best is trial 13 with value: 0.9399999976158142.\n"
     ]
    },
    {
     "name": "stdout",
     "output_type": "stream",
     "text": [
      "WARNING:tensorflow:Layer lstm_30 will not use cuDNN kernels since it doesn't meet the criteria. It will use a generic GPU kernel as fallback when running on GPU.\n",
      "WARNING:tensorflow:Layer lstm_30 will not use cuDNN kernels since it doesn't meet the criteria. It will use a generic GPU kernel as fallback when running on GPU.\n",
      "WARNING:tensorflow:Layer lstm_30 will not use cuDNN kernels since it doesn't meet the criteria. It will use a generic GPU kernel as fallback when running on GPU.\n"
     ]
    },
    {
     "name": "stderr",
     "output_type": "stream",
     "text": [
      "[I 2025-03-21 14:56:10,254] Trial 30 finished with value: 0.9100000262260437 and parameters: {'lstm_units': 126, 'dense_units': 118, 'dropout_rate': 0.34695747537876953}. Best is trial 13 with value: 0.9399999976158142.\n"
     ]
    },
    {
     "name": "stdout",
     "output_type": "stream",
     "text": [
      "WARNING:tensorflow:Layer lstm_31 will not use cuDNN kernels since it doesn't meet the criteria. It will use a generic GPU kernel as fallback when running on GPU.\n",
      "WARNING:tensorflow:Layer lstm_31 will not use cuDNN kernels since it doesn't meet the criteria. It will use a generic GPU kernel as fallback when running on GPU.\n",
      "WARNING:tensorflow:Layer lstm_31 will not use cuDNN kernels since it doesn't meet the criteria. It will use a generic GPU kernel as fallback when running on GPU.\n"
     ]
    },
    {
     "name": "stderr",
     "output_type": "stream",
     "text": [
      "[I 2025-03-21 14:56:58,635] Trial 31 finished with value: 0.9150000214576721 and parameters: {'lstm_units': 138, 'dense_units': 42, 'dropout_rate': 0.4461231481116277}. Best is trial 13 with value: 0.9399999976158142.\n"
     ]
    },
    {
     "name": "stdout",
     "output_type": "stream",
     "text": [
      "WARNING:tensorflow:Layer lstm_32 will not use cuDNN kernels since it doesn't meet the criteria. It will use a generic GPU kernel as fallback when running on GPU.\n",
      "WARNING:tensorflow:Layer lstm_32 will not use cuDNN kernels since it doesn't meet the criteria. It will use a generic GPU kernel as fallback when running on GPU.\n",
      "WARNING:tensorflow:Layer lstm_32 will not use cuDNN kernels since it doesn't meet the criteria. It will use a generic GPU kernel as fallback when running on GPU.\n"
     ]
    },
    {
     "name": "stderr",
     "output_type": "stream",
     "text": [
      "[I 2025-03-21 14:57:44,951] Trial 32 finished with value: 0.9150000214576721 and parameters: {'lstm_units': 136, 'dense_units': 54, 'dropout_rate': 0.48765933961861274}. Best is trial 13 with value: 0.9399999976158142.\n"
     ]
    },
    {
     "name": "stdout",
     "output_type": "stream",
     "text": [
      "WARNING:tensorflow:Layer lstm_33 will not use cuDNN kernels since it doesn't meet the criteria. It will use a generic GPU kernel as fallback when running on GPU.\n",
      "WARNING:tensorflow:Layer lstm_33 will not use cuDNN kernels since it doesn't meet the criteria. It will use a generic GPU kernel as fallback when running on GPU.\n",
      "WARNING:tensorflow:Layer lstm_33 will not use cuDNN kernels since it doesn't meet the criteria. It will use a generic GPU kernel as fallback when running on GPU.\n"
     ]
    },
    {
     "name": "stderr",
     "output_type": "stream",
     "text": [
      "[I 2025-03-21 14:58:29,580] Trial 33 finished with value: 0.8949999809265137 and parameters: {'lstm_units': 126, 'dense_units': 38, 'dropout_rate': 0.41671495155056115}. Best is trial 13 with value: 0.9399999976158142.\n"
     ]
    },
    {
     "name": "stdout",
     "output_type": "stream",
     "text": [
      "WARNING:tensorflow:Layer lstm_34 will not use cuDNN kernels since it doesn't meet the criteria. It will use a generic GPU kernel as fallback when running on GPU.\n",
      "WARNING:tensorflow:Layer lstm_34 will not use cuDNN kernels since it doesn't meet the criteria. It will use a generic GPU kernel as fallback when running on GPU.\n",
      "WARNING:tensorflow:Layer lstm_34 will not use cuDNN kernels since it doesn't meet the criteria. It will use a generic GPU kernel as fallback when running on GPU.\n"
     ]
    },
    {
     "name": "stderr",
     "output_type": "stream",
     "text": [
      "[I 2025-03-21 14:59:14,725] Trial 34 finished with value: 0.9449999928474426 and parameters: {'lstm_units': 118, 'dense_units': 52, 'dropout_rate': 0.44257192476360746}. Best is trial 34 with value: 0.9449999928474426.\n"
     ]
    },
    {
     "name": "stdout",
     "output_type": "stream",
     "text": [
      "WARNING:tensorflow:Layer lstm_35 will not use cuDNN kernels since it doesn't meet the criteria. It will use a generic GPU kernel as fallback when running on GPU.\n",
      "WARNING:tensorflow:Layer lstm_35 will not use cuDNN kernels since it doesn't meet the criteria. It will use a generic GPU kernel as fallback when running on GPU.\n",
      "WARNING:tensorflow:Layer lstm_35 will not use cuDNN kernels since it doesn't meet the criteria. It will use a generic GPU kernel as fallback when running on GPU.\n"
     ]
    },
    {
     "name": "stderr",
     "output_type": "stream",
     "text": [
      "[I 2025-03-21 15:00:00,599] Trial 35 finished with value: 0.8999999761581421 and parameters: {'lstm_units': 119, 'dense_units': 76, 'dropout_rate': 0.39793966750020654}. Best is trial 34 with value: 0.9449999928474426.\n"
     ]
    },
    {
     "name": "stdout",
     "output_type": "stream",
     "text": [
      "WARNING:tensorflow:Layer lstm_36 will not use cuDNN kernels since it doesn't meet the criteria. It will use a generic GPU kernel as fallback when running on GPU.\n",
      "WARNING:tensorflow:Layer lstm_36 will not use cuDNN kernels since it doesn't meet the criteria. It will use a generic GPU kernel as fallback when running on GPU.\n",
      "WARNING:tensorflow:Layer lstm_36 will not use cuDNN kernels since it doesn't meet the criteria. It will use a generic GPU kernel as fallback when running on GPU.\n"
     ]
    },
    {
     "name": "stderr",
     "output_type": "stream",
     "text": [
      "[I 2025-03-21 15:00:46,125] Trial 36 finished with value: 0.9300000071525574 and parameters: {'lstm_units': 132, 'dense_units': 57, 'dropout_rate': 0.3426081602371644}. Best is trial 34 with value: 0.9449999928474426.\n"
     ]
    },
    {
     "name": "stdout",
     "output_type": "stream",
     "text": [
      "WARNING:tensorflow:Layer lstm_37 will not use cuDNN kernels since it doesn't meet the criteria. It will use a generic GPU kernel as fallback when running on GPU.\n",
      "WARNING:tensorflow:Layer lstm_37 will not use cuDNN kernels since it doesn't meet the criteria. It will use a generic GPU kernel as fallback when running on GPU.\n",
      "WARNING:tensorflow:Layer lstm_37 will not use cuDNN kernels since it doesn't meet the criteria. It will use a generic GPU kernel as fallback when running on GPU.\n"
     ]
    },
    {
     "name": "stderr",
     "output_type": "stream",
     "text": [
      "[I 2025-03-21 15:01:30,821] Trial 37 finished with value: 0.9300000071525574 and parameters: {'lstm_units': 100, 'dense_units': 66, 'dropout_rate': 0.44192869801103946}. Best is trial 34 with value: 0.9449999928474426.\n"
     ]
    },
    {
     "name": "stdout",
     "output_type": "stream",
     "text": [
      "WARNING:tensorflow:Layer lstm_38 will not use cuDNN kernels since it doesn't meet the criteria. It will use a generic GPU kernel as fallback when running on GPU.\n",
      "WARNING:tensorflow:Layer lstm_38 will not use cuDNN kernels since it doesn't meet the criteria. It will use a generic GPU kernel as fallback when running on GPU.\n",
      "WARNING:tensorflow:Layer lstm_38 will not use cuDNN kernels since it doesn't meet the criteria. It will use a generic GPU kernel as fallback when running on GPU.\n"
     ]
    },
    {
     "name": "stderr",
     "output_type": "stream",
     "text": [
      "[I 2025-03-21 15:02:15,691] Trial 38 finished with value: 0.8700000047683716 and parameters: {'lstm_units': 116, 'dense_units': 38, 'dropout_rate': 0.5273418069224902}. Best is trial 34 with value: 0.9449999928474426.\n"
     ]
    },
    {
     "name": "stdout",
     "output_type": "stream",
     "text": [
      "WARNING:tensorflow:Layer lstm_39 will not use cuDNN kernels since it doesn't meet the criteria. It will use a generic GPU kernel as fallback when running on GPU.\n",
      "WARNING:tensorflow:Layer lstm_39 will not use cuDNN kernels since it doesn't meet the criteria. It will use a generic GPU kernel as fallback when running on GPU.\n",
      "WARNING:tensorflow:Layer lstm_39 will not use cuDNN kernels since it doesn't meet the criteria. It will use a generic GPU kernel as fallback when running on GPU.\n"
     ]
    },
    {
     "name": "stderr",
     "output_type": "stream",
     "text": [
      "[I 2025-03-21 15:03:00,280] Trial 39 finished with value: 0.9399999976158142 and parameters: {'lstm_units': 121, 'dense_units': 62, 'dropout_rate': 0.46584342480329866}. Best is trial 34 with value: 0.9449999928474426.\n"
     ]
    },
    {
     "name": "stdout",
     "output_type": "stream",
     "text": [
      "WARNING:tensorflow:Layer lstm_40 will not use cuDNN kernels since it doesn't meet the criteria. It will use a generic GPU kernel as fallback when running on GPU.\n",
      "WARNING:tensorflow:Layer lstm_40 will not use cuDNN kernels since it doesn't meet the criteria. It will use a generic GPU kernel as fallback when running on GPU.\n",
      "WARNING:tensorflow:Layer lstm_40 will not use cuDNN kernels since it doesn't meet the criteria. It will use a generic GPU kernel as fallback when running on GPU.\n"
     ]
    },
    {
     "name": "stderr",
     "output_type": "stream",
     "text": [
      "[I 2025-03-21 15:03:45,753] Trial 40 finished with value: 0.9150000214576721 and parameters: {'lstm_units': 122, 'dense_units': 62, 'dropout_rate': 0.4739658361356181}. Best is trial 34 with value: 0.9449999928474426.\n"
     ]
    },
    {
     "name": "stdout",
     "output_type": "stream",
     "text": [
      "WARNING:tensorflow:Layer lstm_41 will not use cuDNN kernels since it doesn't meet the criteria. It will use a generic GPU kernel as fallback when running on GPU.\n",
      "WARNING:tensorflow:Layer lstm_41 will not use cuDNN kernels since it doesn't meet the criteria. It will use a generic GPU kernel as fallback when running on GPU.\n",
      "WARNING:tensorflow:Layer lstm_41 will not use cuDNN kernels since it doesn't meet the criteria. It will use a generic GPU kernel as fallback when running on GPU.\n"
     ]
    },
    {
     "name": "stderr",
     "output_type": "stream",
     "text": [
      "[I 2025-03-21 15:04:29,930] Trial 41 finished with value: 0.8899999856948853 and parameters: {'lstm_units': 127, 'dense_units': 50, 'dropout_rate': 0.42181071310416995}. Best is trial 34 with value: 0.9449999928474426.\n"
     ]
    },
    {
     "name": "stdout",
     "output_type": "stream",
     "text": [
      "WARNING:tensorflow:Layer lstm_42 will not use cuDNN kernels since it doesn't meet the criteria. It will use a generic GPU kernel as fallback when running on GPU.\n",
      "WARNING:tensorflow:Layer lstm_42 will not use cuDNN kernels since it doesn't meet the criteria. It will use a generic GPU kernel as fallback when running on GPU.\n",
      "WARNING:tensorflow:Layer lstm_42 will not use cuDNN kernels since it doesn't meet the criteria. It will use a generic GPU kernel as fallback when running on GPU.\n"
     ]
    },
    {
     "name": "stderr",
     "output_type": "stream",
     "text": [
      "[I 2025-03-21 15:05:15,828] Trial 42 finished with value: 0.8399999737739563 and parameters: {'lstm_units': 110, 'dense_units': 49, 'dropout_rate': 0.4610547765382842}. Best is trial 34 with value: 0.9449999928474426.\n"
     ]
    },
    {
     "name": "stdout",
     "output_type": "stream",
     "text": [
      "WARNING:tensorflow:Layer lstm_43 will not use cuDNN kernels since it doesn't meet the criteria. It will use a generic GPU kernel as fallback when running on GPU.\n",
      "WARNING:tensorflow:Layer lstm_43 will not use cuDNN kernels since it doesn't meet the criteria. It will use a generic GPU kernel as fallback when running on GPU.\n",
      "WARNING:tensorflow:Layer lstm_43 will not use cuDNN kernels since it doesn't meet the criteria. It will use a generic GPU kernel as fallback when running on GPU.\n"
     ]
    },
    {
     "name": "stderr",
     "output_type": "stream",
     "text": [
      "[I 2025-03-21 15:06:01,148] Trial 43 finished with value: 0.875 and parameters: {'lstm_units': 122, 'dense_units': 70, 'dropout_rate': 0.3627826916418257}. Best is trial 34 with value: 0.9449999928474426.\n"
     ]
    },
    {
     "name": "stdout",
     "output_type": "stream",
     "text": [
      "WARNING:tensorflow:Layer lstm_44 will not use cuDNN kernels since it doesn't meet the criteria. It will use a generic GPU kernel as fallback when running on GPU.\n",
      "WARNING:tensorflow:Layer lstm_44 will not use cuDNN kernels since it doesn't meet the criteria. It will use a generic GPU kernel as fallback when running on GPU.\n",
      "WARNING:tensorflow:Layer lstm_44 will not use cuDNN kernels since it doesn't meet the criteria. It will use a generic GPU kernel as fallback when running on GPU.\n"
     ]
    },
    {
     "name": "stderr",
     "output_type": "stream",
     "text": [
      "[I 2025-03-21 15:06:45,703] Trial 44 finished with value: 0.8799999952316284 and parameters: {'lstm_units': 116, 'dense_units': 77, 'dropout_rate': 0.285655669844449}. Best is trial 34 with value: 0.9449999928474426.\n"
     ]
    },
    {
     "name": "stdout",
     "output_type": "stream",
     "text": [
      "WARNING:tensorflow:Layer lstm_45 will not use cuDNN kernels since it doesn't meet the criteria. It will use a generic GPU kernel as fallback when running on GPU.\n",
      "WARNING:tensorflow:Layer lstm_45 will not use cuDNN kernels since it doesn't meet the criteria. It will use a generic GPU kernel as fallback when running on GPU.\n",
      "WARNING:tensorflow:Layer lstm_45 will not use cuDNN kernels since it doesn't meet the criteria. It will use a generic GPU kernel as fallback when running on GPU.\n"
     ]
    },
    {
     "name": "stderr",
     "output_type": "stream",
     "text": [
      "[I 2025-03-21 15:07:29,806] Trial 45 finished with value: 0.9150000214576721 and parameters: {'lstm_units': 109, 'dense_units': 91, 'dropout_rate': 0.4005241158664047}. Best is trial 34 with value: 0.9449999928474426.\n"
     ]
    },
    {
     "name": "stdout",
     "output_type": "stream",
     "text": [
      "WARNING:tensorflow:Layer lstm_46 will not use cuDNN kernels since it doesn't meet the criteria. It will use a generic GPU kernel as fallback when running on GPU.\n",
      "WARNING:tensorflow:Layer lstm_46 will not use cuDNN kernels since it doesn't meet the criteria. It will use a generic GPU kernel as fallback when running on GPU.\n",
      "WARNING:tensorflow:Layer lstm_46 will not use cuDNN kernels since it doesn't meet the criteria. It will use a generic GPU kernel as fallback when running on GPU.\n"
     ]
    },
    {
     "name": "stderr",
     "output_type": "stream",
     "text": [
      "[I 2025-03-21 15:08:13,972] Trial 46 finished with value: 0.8650000095367432 and parameters: {'lstm_units': 133, 'dense_units': 60, 'dropout_rate': 0.4955138744042938}. Best is trial 34 with value: 0.9449999928474426.\n"
     ]
    },
    {
     "name": "stdout",
     "output_type": "stream",
     "text": [
      "WARNING:tensorflow:Layer lstm_47 will not use cuDNN kernels since it doesn't meet the criteria. It will use a generic GPU kernel as fallback when running on GPU.\n",
      "WARNING:tensorflow:Layer lstm_47 will not use cuDNN kernels since it doesn't meet the criteria. It will use a generic GPU kernel as fallback when running on GPU.\n",
      "WARNING:tensorflow:Layer lstm_47 will not use cuDNN kernels since it doesn't meet the criteria. It will use a generic GPU kernel as fallback when running on GPU.\n"
     ]
    },
    {
     "name": "stderr",
     "output_type": "stream",
     "text": [
      "[I 2025-03-21 15:09:01,549] Trial 47 finished with value: 0.9049999713897705 and parameters: {'lstm_units': 137, 'dense_units': 71, 'dropout_rate': 0.13299812473296102}. Best is trial 34 with value: 0.9449999928474426.\n"
     ]
    },
    {
     "name": "stdout",
     "output_type": "stream",
     "text": [
      "WARNING:tensorflow:Layer lstm_48 will not use cuDNN kernels since it doesn't meet the criteria. It will use a generic GPU kernel as fallback when running on GPU.\n",
      "WARNING:tensorflow:Layer lstm_48 will not use cuDNN kernels since it doesn't meet the criteria. It will use a generic GPU kernel as fallback when running on GPU.\n",
      "WARNING:tensorflow:Layer lstm_48 will not use cuDNN kernels since it doesn't meet the criteria. It will use a generic GPU kernel as fallback when running on GPU.\n"
     ]
    },
    {
     "name": "stderr",
     "output_type": "stream",
     "text": [
      "[I 2025-03-21 15:09:45,803] Trial 48 finished with value: 0.925000011920929 and parameters: {'lstm_units': 128, 'dense_units': 39, 'dropout_rate': 0.5721774635298551}. Best is trial 34 with value: 0.9449999928474426.\n"
     ]
    },
    {
     "name": "stdout",
     "output_type": "stream",
     "text": [
      "WARNING:tensorflow:Layer lstm_49 will not use cuDNN kernels since it doesn't meet the criteria. It will use a generic GPU kernel as fallback when running on GPU.\n",
      "WARNING:tensorflow:Layer lstm_49 will not use cuDNN kernels since it doesn't meet the criteria. It will use a generic GPU kernel as fallback when running on GPU.\n",
      "WARNING:tensorflow:Layer lstm_49 will not use cuDNN kernels since it doesn't meet the criteria. It will use a generic GPU kernel as fallback when running on GPU.\n"
     ]
    },
    {
     "name": "stderr",
     "output_type": "stream",
     "text": [
      "[I 2025-03-21 15:10:32,176] Trial 49 finished with value: 0.8949999809265137 and parameters: {'lstm_units': 142, 'dense_units': 46, 'dropout_rate': 0.4580564057513755}. Best is trial 34 with value: 0.9449999928474426.\n"
     ]
    },
    {
     "name": "stdout",
     "output_type": "stream",
     "text": [
      "Best trial:\n",
      "  Value:  0.9449999928474426\n",
      "  Params: \n",
      "    lstm_units: 118\n",
      "    dense_units: 52\n",
      "    dropout_rate: 0.44257192476360746\n"
     ]
    }
   ],
   "source": [
    "!pip install optuna\n",
    "from keras.models import Model\n",
    "from keras.layers import Input, Embedding, Conv1D, MaxPooling1D, Concatenate, Bidirectional, LSTM, Dense, Dropout\n",
    "from keras.layers import Flatten\n",
    "from keras.utils import to_categorical\n",
    "from keras.callbacks import EarlyStopping\n",
    "import optuna\n",
    "\n",
    "# Define the function that creates the model\n",
    "def create_model(lstm_units, dense_units, dropout_rate):\n",
    "    text_input = Input(shape=(max_length,), name='text_input')\n",
    "    x = Embedding(num_words, 300, weights=[embedding_matrix], input_length=max_length, trainable=False)(text_input)\n",
    "    x = Conv1D(100, 5, activation='relu')(x)\n",
    "    x = MaxPooling1D()(x)\n",
    "    x = Bidirectional(LSTM(lstm_units, dropout=dropout_rate, recurrent_dropout=dropout_rate))(x)\n",
    "\n",
    "    personality_input = Input(shape=(3,), name='personality_input')\n",
    "    p = Dense(32, activation='relu')(personality_input)\n",
    "\n",
    "    combined = Concatenate()([x, p])\n",
    "\n",
    "    x = Dense(dense_units, activation='relu')(combined)\n",
    "    x = Dropout(dropout_rate)(x)\n",
    "    output = Dense(2, activation='softmax')(x)\n",
    "\n",
    "    model = Model(inputs=[text_input, personality_input], outputs=output)\n",
    "    model.compile(loss='categorical_crossentropy', optimizer='adam', metrics=['accuracy'])\n",
    "    return model\n",
    "\n",
    "# Define the target function\n",
    "def objective(trial):\n",
    "    # Hyperparameters\n",
    "    lstm_units = trial.suggest_int('lstm_units', 100, 150)\n",
    "    dense_units = trial.suggest_int('dense_units', 32, 128)\n",
    "    dropout_rate = trial.suggest_float('dropout_rate', 0.1, 0.6)\n",
    "\n",
    "    model = create_model(lstm_units, dense_units, dropout_rate)\n",
    "\n",
    "    # Train the model\n",
    "    model.fit([X_train_padded, X_train[['Extraversion', 'Agreeableness', 'Neuroticism']]], y_train,\n",
    "              batch_size=32,\n",
    "              epochs=10,\n",
    "              verbose=0)\n",
    "\n",
    "    # Evaluate the model\n",
    "    scores = model.evaluate([X_test_padded, X_test[['Extraversion', 'Agreeableness', 'Neuroticism']]], y_test, verbose=0)\n",
    "    return scores[1]\n",
    "\n",
    "# Creat Optuna study\n",
    "study = optuna.create_study(direction='maximize')\n",
    "study.optimize(objective, n_trials=50)\n",
    "\n",
    "print(\"Best trial:\")\n",
    "trial = study.best_trial\n",
    "\n",
    "print(\"  Value: \", trial.value)\n",
    "print(\"  Params: \")\n",
    "for key, value in trial.params.items():\n",
    "    print(f\"    {key}: {value}\")"
   ]
  },
  {
   "cell_type": "code",
   "execution_count": null,
   "metadata": {},
   "outputs": [
    {
     "name": "stdout",
     "output_type": "stream",
     "text": [
      "WARNING:tensorflow:Layer lstm_3 will not use cuDNN kernels since it doesn't meet the criteria. It will use a generic GPU kernel as fallback when running on GPU.\n",
      "WARNING:tensorflow:Layer lstm_3 will not use cuDNN kernels since it doesn't meet the criteria. It will use a generic GPU kernel as fallback when running on GPU.\n",
      "WARNING:tensorflow:Layer lstm_3 will not use cuDNN kernels since it doesn't meet the criteria. It will use a generic GPU kernel as fallback when running on GPU.\n",
      "Epoch 1/20\n",
      "25/25 [==============================] - 6s 177ms/step - loss: 2.7772 - accuracy: 0.5562\n",
      "Epoch 2/20\n",
      "25/25 [==============================] - 8s 335ms/step - loss: 1.1378 - accuracy: 0.6375\n",
      "Epoch 3/20\n",
      "25/25 [==============================] - 6s 238ms/step - loss: 0.6084 - accuracy: 0.7212\n",
      "Epoch 4/20\n",
      "25/25 [==============================] - 5s 182ms/step - loss: 0.4201 - accuracy: 0.8350\n",
      "Epoch 5/20\n",
      "25/25 [==============================] - 5s 183ms/step - loss: 0.3511 - accuracy: 0.8750\n",
      "Epoch 6/20\n",
      "25/25 [==============================] - 4s 175ms/step - loss: 0.2865 - accuracy: 0.8963\n",
      "Epoch 7/20\n",
      "25/25 [==============================] - 4s 175ms/step - loss: 0.3857 - accuracy: 0.8587\n",
      "Epoch 8/20\n",
      "25/25 [==============================] - 4s 173ms/step - loss: 0.3038 - accuracy: 0.8988\n",
      "Epoch 9/20\n",
      "25/25 [==============================] - 4s 176ms/step - loss: 0.2288 - accuracy: 0.9287\n",
      "Epoch 10/20\n",
      "25/25 [==============================] - 5s 183ms/step - loss: 0.2265 - accuracy: 0.9237\n",
      "Epoch 11/20\n",
      "25/25 [==============================] - 4s 171ms/step - loss: 0.1900 - accuracy: 0.9500\n",
      "Epoch 12/20\n",
      "25/25 [==============================] - 4s 170ms/step - loss: 0.1506 - accuracy: 0.9450\n",
      "Epoch 13/20\n",
      "25/25 [==============================] - 6s 254ms/step - loss: 0.1274 - accuracy: 0.9638\n",
      "Epoch 14/20\n",
      "25/25 [==============================] - 10s 390ms/step - loss: 0.1623 - accuracy: 0.9525\n",
      "Epoch 15/20\n",
      "25/25 [==============================] - 10s 384ms/step - loss: 0.1168 - accuracy: 0.9600\n",
      "Epoch 16/20\n",
      "25/25 [==============================] - 10s 385ms/step - loss: 0.0792 - accuracy: 0.9750\n",
      "Epoch 17/20\n",
      "25/25 [==============================] - 10s 397ms/step - loss: 0.1127 - accuracy: 0.9663\n",
      "Epoch 18/20\n",
      "25/25 [==============================] - 10s 393ms/step - loss: 0.1005 - accuracy: 0.9663\n",
      "Epoch 19/20\n",
      "25/25 [==============================] - 10s 401ms/step - loss: 0.0515 - accuracy: 0.9837\n",
      "Epoch 20/20\n",
      "25/25 [==============================] - 10s 396ms/step - loss: 0.0600 - accuracy: 0.9837\n",
      "7/7 [==============================] - 1s 83ms/step\n",
      "Word2Vec + CNN-BiLSTM Results:\n",
      "              precision    recall  f1-score   support\n",
      "\n",
      "           0     0.9348    0.9247    0.9297        93\n",
      "           1     0.9352    0.9439    0.9395       107\n",
      "\n",
      "    accuracy                         0.9350       200\n",
      "   macro avg     0.9350    0.9343    0.9346       200\n",
      "weighted avg     0.9350    0.9350    0.9350       200\n",
      "\n"
     ]
    }
   ],
   "source": [
    "# Retrain the model using the best parameters\n",
    "best_params = study.best_params\n",
    "model = create_model(best_params['lstm_units'], best_params['dense_units'], best_params['dropout_rate'])\n",
    "model.save_weights(\"init_weights_2.h5\") # Save the untrained model weights for fair comparison\n",
    "model.fit([X_train_padded, X_train[['Extraversion', 'Agreeableness', 'Neuroticism']]], y_train,\n",
    "          batch_size=32,\n",
    "          epochs=20)\n",
    "\n",
    "# Evaluate the model on the test set\n",
    "y_prob = model.predict([X_test_padded, X_test[['Extraversion', 'Agreeableness', 'Neuroticism']]])\n",
    "y_pred = np.argmax(y_prob, axis=1)\n",
    "y_test_labels = np.argmax(y_test, axis=1)\n",
    "\n",
    "print('Word2Vec + CNN-BiLSTM Results:')\n",
    "print(classification_report(y_test_labels, y_pred, digits=4))"
   ]
  },
  {
   "cell_type": "code",
   "execution_count": 24,
   "metadata": {},
   "outputs": [
    {
     "data": {
      "image/png": "[encoded data removed]",
      "text/plain": [
       "<Figure size 800x600 with 2 Axes>"
      ]
     },
     "metadata": {},
     "output_type": "display_data"
    }
   ],
   "source": [
    "# Calculate confusion matrix\n",
    "rf_cm = confusion_matrix(y_test_labels, y_pred)\n",
    "\n",
    "# Visualize confusion matrix\n",
    "plt.figure(figsize=(8, 6))\n",
    "sns.heatmap(rf_cm, annot=True, fmt='d', cmap='Blues', xticklabels=['Non-suicide', 'Suicide'], yticklabels=['Non-suicide', 'Suicide'])\n",
    "plt.xlabel('Predicted Labels')\n",
    "plt.ylabel('True Labels')\n",
    "plt.title('Confusion Matrix (Word2Vec + CNN-BiLSTM)')\n",
    "plt.show()"
   ]
  },
  {
   "cell_type": "markdown",
   "metadata": {},
   "source": [
    "Experiment: CNN + biLSTM + Attention"
   ]
  },
  {
   "cell_type": "code",
   "execution_count": 25,
   "metadata": {},
   "outputs": [],
   "source": [
    "from keras.layers import Attention, Dot, Activation, RepeatVector, Permute, Lambda, BatchNormalization, RepeatVector\n",
    "import keras.backend as K\n",
    "from keras.callbacks import EarlyStopping\n",
    "from keras.regularizers import l2\n",
    "from keras_self_attention import SeqSelfAttention\n",
    "\n",
    "def create_model_with_attention(lstm_units, dense_units, dropout_rate):\n",
    "    text_input = Input(shape=(max_length,), name='text_input')\n",
    "    x = Embedding(num_words, 300, weights=[embedding_matrix], input_length=max_length, trainable=False)(text_input)\n",
    "    x = Conv1D(100, 5, activation='relu')(x)\n",
    "    x = MaxPooling1D()(x)\n",
    "    x = Bidirectional(LSTM(lstm_units, dropout=dropout_rate, recurrent_dropout=dropout_rate, return_sequences=True))(x)\n",
    "\n",
    "    attention = SeqSelfAttention(attention_activation='softmax')(x)\n",
    "    flatten = Flatten()(attention)\n",
    "\n",
    "    personality_input = Input(shape=(3,), name='personality_input')\n",
    "    p = Dense(32, activation='relu')(personality_input)\n",
    "\n",
    "    combined = Concatenate()([flatten, p])\n",
    "\n",
    "    x = Dense(dense_units, activation='relu')(combined)\n",
    "    x = Dropout(dropout_rate)(x)\n",
    "    output = Dense(2, activation='softmax')(x)\n",
    "\n",
    "    model = Model(inputs=[text_input, personality_input], outputs=output)\n",
    "    model.compile(loss='categorical_crossentropy', optimizer='adam', metrics=['accuracy'])\n",
    "    return model\n",
    "\n",
    "    "
   ]
  },
  {
   "cell_type": "code",
   "execution_count": 26,
   "metadata": {},
   "outputs": [
    {
     "name": "stdout",
     "output_type": "stream",
     "text": [
      "WARNING:tensorflow:Layer lstm_4 will not use cuDNN kernels since it doesn't meet the criteria. It will use a generic GPU kernel as fallback when running on GPU.\n",
      "WARNING:tensorflow:Layer lstm_4 will not use cuDNN kernels since it doesn't meet the criteria. It will use a generic GPU kernel as fallback when running on GPU.\n",
      "WARNING:tensorflow:Layer lstm_4 will not use cuDNN kernels since it doesn't meet the criteria. It will use a generic GPU kernel as fallback when running on GPU.\n",
      "Epoch 1/20\n"
     ]
    },
    {
     "name": "stderr",
     "output_type": "stream",
     "text": [
      "c:\\Users\\PC\\Documents\\Master_Project\\Suicide-Ideation-Detection-in-Social-Media-Using-Personality-Traits-main\\venv\\lib\\site-packages\\keras\\initializers\\initializers_v2.py:120: UserWarning: The initializer GlorotNormal is unseeded and being called multiple times, which will return identical values  each time (even if the initializer is unseeded). Please update your code to provide a seed to the initializer, or avoid using the same initalizer instance more than once.\n",
      "  warnings.warn(\n"
     ]
    },
    {
     "name": "stdout",
     "output_type": "stream",
     "text": [
      "25/25 [==============================] - 15s 412ms/step - loss: 0.6574 - accuracy: 0.6687\n",
      "Epoch 2/20\n",
      "25/25 [==============================] - 10s 405ms/step - loss: 0.4563 - accuracy: 0.8000\n",
      "Epoch 3/20\n",
      "25/25 [==============================] - 5s 204ms/step - loss: 0.3496 - accuracy: 0.8600\n",
      "Epoch 4/20\n",
      "25/25 [==============================] - 4s 171ms/step - loss: 0.3393 - accuracy: 0.8700\n",
      "Epoch 5/20\n",
      "25/25 [==============================] - 5s 182ms/step - loss: 0.2338 - accuracy: 0.9137\n",
      "Epoch 6/20\n",
      "25/25 [==============================] - 5s 185ms/step - loss: 0.1564 - accuracy: 0.9500\n",
      "Epoch 7/20\n",
      "25/25 [==============================] - 4s 172ms/step - loss: 0.1166 - accuracy: 0.9675\n",
      "Epoch 8/20\n",
      "25/25 [==============================] - 6s 231ms/step - loss: 0.0829 - accuracy: 0.9750\n",
      "Epoch 9/20\n",
      "25/25 [==============================] - 10s 399ms/step - loss: 0.0450 - accuracy: 0.9800\n",
      "Epoch 10/20\n",
      "25/25 [==============================] - 10s 401ms/step - loss: 0.0252 - accuracy: 0.9925\n",
      "Epoch 11/20\n",
      "25/25 [==============================] - 10s 393ms/step - loss: 0.0481 - accuracy: 0.9875\n",
      "Epoch 12/20\n",
      "25/25 [==============================] - 10s 403ms/step - loss: 0.0118 - accuracy: 0.9962\n",
      "Epoch 13/20\n",
      "25/25 [==============================] - 10s 404ms/step - loss: 4.1184e-04 - accuracy: 1.0000\n",
      "Epoch 14/20\n",
      "25/25 [==============================] - 10s 406ms/step - loss: 3.4299e-04 - accuracy: 1.0000\n",
      "Epoch 15/20\n",
      "25/25 [==============================] - 10s 399ms/step - loss: 3.7574e-04 - accuracy: 1.0000\n",
      "Epoch 16/20\n",
      "25/25 [==============================] - 10s 400ms/step - loss: 2.1041e-04 - accuracy: 1.0000\n",
      "Epoch 17/20\n",
      "25/25 [==============================] - 10s 397ms/step - loss: 0.4534 - accuracy: 0.8863\n",
      "Epoch 18/20\n",
      "25/25 [==============================] - 10s 392ms/step - loss: 0.1030 - accuracy: 0.9638\n",
      "Epoch 19/20\n",
      "25/25 [==============================] - 10s 400ms/step - loss: 0.0674 - accuracy: 0.9800\n",
      "Epoch 20/20\n",
      "25/25 [==============================] - 10s 391ms/step - loss: 0.0342 - accuracy: 0.9912\n",
      "7/7 [==============================] - 1s 81ms/step\n",
      "Word2Vec + CNN-BiLSTM + Attention Results:\n",
      "              precision    recall  f1-score   support\n",
      "\n",
      "           0     0.9140    0.9140    0.9140        93\n",
      "           1     0.9252    0.9252    0.9252       107\n",
      "\n",
      "    accuracy                         0.9200       200\n",
      "   macro avg     0.9196    0.9196    0.9196       200\n",
      "weighted avg     0.9200    0.9200    0.9200       200\n",
      "\n"
     ]
    }
   ],
   "source": [
    "#use params from reference\n",
    "# lstm_units = 64\n",
    "# dropout_rate = 0.5\n",
    "# l2_lambda = 0.01\n",
    "# learning_rate = 0.0001\n",
    "# model = create_model_with_attention(lstm_units, lstm_units, dropout_rate, l2_lambda, learning_rate)\n",
    "# early_stopping = EarlyStopping(monitor='loss', patience=4, restore_best_weights=True)\n",
    "\n",
    "# Retrain the model using the best parameters\n",
    "best_params = study.best_params\n",
    "model2 = create_model_with_attention(best_params['lstm_units'], best_params['dense_units'], best_params['dropout_rate'])\n",
    "model2.load_weights(\"init_weights_2.h5\", by_name=True, skip_mismatch=True)  # Load the saved weights before training\n",
    "model2.fit([X_train_padded, X_train[['Extraversion', 'Agreeableness', 'Neuroticism']]], y_train,\n",
    "          batch_size=32,\n",
    "          epochs=20)\n",
    "\n",
    "# Evaluate the model on the test set\n",
    "y_prob = model2.predict([X_test_padded, X_test[['Extraversion', 'Agreeableness', 'Neuroticism']]])\n",
    "y_pred = np.argmax(y_prob, axis=1)\n",
    "y_test_labels = np.argmax(y_test, axis=1)\n",
    "\n",
    "print('Word2Vec + CNN-BiLSTM + Attention Results:')\n",
    "print(classification_report(y_test_labels, y_pred, digits=4))"
   ]
  },
  {
   "cell_type": "code",
   "execution_count": 27,
   "metadata": {},
   "outputs": [
    {
     "data": {
      "image/png": "[encoded data removed]",
      "text/plain": [
       "<Figure size 800x600 with 2 Axes>"
      ]
     },
     "metadata": {},
     "output_type": "display_data"
    }
   ],
   "source": [
    "# Calculate confusion matrix\n",
    "rf_cm = confusion_matrix(y_test_labels, y_pred)\n",
    "\n",
    "# Visualize confusion matrix\n",
    "plt.figure(figsize=(8, 6))\n",
    "sns.heatmap(rf_cm, annot=True, fmt='d', cmap='Blues', xticklabels=['Non-suicide', 'Suicide'], yticklabels=['Non-suicide', 'Suicide'])\n",
    "plt.xlabel('Predicted Labels')\n",
    "plt.ylabel('True Labels')\n",
    "plt.title('Confusion Matrix (Word2Vec + CNN-BiLSTM  + Attention)')\n",
    "plt.show()"
   ]
  },
  {
   "cell_type": "markdown",
   "metadata": {},
   "source": [
    "Experiment to avoid overfitting"
   ]
  },
  {
   "cell_type": "code",
   "execution_count": 55,
   "metadata": {},
   "outputs": [
    {
     "name": "stdout",
     "output_type": "stream",
     "text": [
      "WARNING:tensorflow:Layer bidirectional_lstm will not use cuDNN kernels since it doesn't meet the criteria. It will use a generic GPU kernel as fallback when running on GPU.\n",
      "WARNING:tensorflow:Layer bidirectional_lstm will not use cuDNN kernels since it doesn't meet the criteria. It will use a generic GPU kernel as fallback when running on GPU.\n",
      "WARNING:tensorflow:Layer bidirectional_lstm will not use cuDNN kernels since it doesn't meet the criteria. It will use a generic GPU kernel as fallback when running on GPU.\n",
      "Model: \"sequential_1\"\n",
      "_________________________________________________________________\n",
      " Layer (type)                Output Shape              Param #   \n",
      "=================================================================\n",
      " embedding_layer (Embedding)  (None, 117, 300)         1419600   \n",
      "                                                                 \n",
      " conv1d_layer (Conv1D)       (None, 113, 100)          150100    \n",
      "                                                                 \n",
      " max_pooling_layer (MaxPooli  (None, 56, 100)          0         \n",
      " ng1D)                                                           \n",
      "                                                                 \n",
      " bidirectional_16 (Bidirecti  (None, 56, 200)          160800    \n",
      " onal)                                                           \n",
      "                                                                 \n",
      " lstm_layer (LSTM)           (None, 56, 100)           120400    \n",
      "                                                                 \n",
      " seq_self_attention_13 (SeqS  (None, 56, 100)          6465      \n",
      " elfAttention)                                                   \n",
      "                                                                 \n",
      " flatten_13 (Flatten)        (None, 5600)              0         \n",
      "                                                                 \n",
      " dense_layer_1 (Dense)       (None, 64)                358464    \n",
      "                                                                 \n",
      " dropout_layer (Dropout)     (None, 64)                0         \n",
      "                                                                 \n",
      " output_layer (Dense)        (None, 2)                 130       \n",
      "                                                                 \n",
      "=================================================================\n",
      "Total params: 2,215,959\n",
      "Trainable params: 796,359\n",
      "Non-trainable params: 1,419,600\n",
      "_________________________________________________________________\n",
      "None\n",
      "WARNING:tensorflow:Skipping loading weights for layer #5 (named dense_layer_1) due to mismatch in shape for weight dense_layer_1/kernel:0. Weight expects shape (5600, 64). Received saved weight with shape (100, 64)\n",
      "Epoch 1/5\n"
     ]
    },
    {
     "name": "stderr",
     "output_type": "stream",
     "text": [
      "c:\\Users\\PC\\Documents\\Master_Project\\Suicide-Ideation-Detection-in-Social-Media-Using-Personality-Traits-main\\venv\\lib\\site-packages\\keras\\initializers\\initializers_v2.py:120: UserWarning: The initializer GlorotNormal is unseeded and being called multiple times, which will return identical values  each time (even if the initializer is unseeded). Please update your code to provide a seed to the initializer, or avoid using the same initalizer instance more than once.\n",
      "  warnings.warn(\n"
     ]
    },
    {
     "name": "stdout",
     "output_type": "stream",
     "text": [
      "13/13 [==============================] - 9s 460ms/step - loss: 0.8301 - accuracy: 0.6800 - val_loss: 0.6005 - val_accuracy: 0.8500\n",
      "Epoch 2/5\n",
      "13/13 [==============================] - 5s 411ms/step - loss: 0.5992 - accuracy: 0.8288 - val_loss: 0.4998 - val_accuracy: 0.8850\n",
      "Epoch 3/5\n",
      "13/13 [==============================] - 5s 424ms/step - loss: 0.4545 - accuracy: 0.9013 - val_loss: 0.4138 - val_accuracy: 0.9250\n",
      "Epoch 4/5\n",
      "13/13 [==============================] - 6s 452ms/step - loss: 0.3543 - accuracy: 0.9312 - val_loss: 0.3724 - val_accuracy: 0.9300\n",
      "Epoch 5/5\n",
      "13/13 [==============================] - 5s 408ms/step - loss: 0.3201 - accuracy: 0.9425 - val_loss: 0.4010 - val_accuracy: 0.9250\n",
      "7/7 [==============================] - 1s 37ms/step\n",
      "Word2Vec + CNN-BiLSTM with Attention Results:\n",
      "              precision    recall  f1-score   support\n",
      "\n",
      "           0     0.9432    0.8925    0.9171        93\n",
      "           1     0.9107    0.9533    0.9315       107\n",
      "\n",
      "    accuracy                         0.9250       200\n",
      "   macro avg     0.9269    0.9229    0.9243       200\n",
      "weighted avg     0.9258    0.9250    0.9248       200\n",
      "\n"
     ]
    }
   ],
   "source": [
    "# Text features \n",
    "from keras.models import Model, Sequential\n",
    "from keras.layers import Input, Embedding, Conv1D, MaxPooling1D, Bidirectional, LSTM, Dense, Dropout, Multiply, Flatten, BatchNormalization\n",
    "from keras.layers import Layer\n",
    "from keras.callbacks import EarlyStopping\n",
    "from keras.regularizers import l2\n",
    "from keras.utils import to_categorical\n",
    "from keras_self_attention import SeqSelfAttention\n",
    "\n",
    "y_train = np.array(y_train)\n",
    "y_test = np.array(y_test)\n",
    "\n",
    "# Convert the labels to one-hot encoding\n",
    "num_classes = 2\n",
    "y_train_onehot = to_categorical(y_train, num_classes)\n",
    "y_test_onehot = to_categorical(y_test, num_classes)\n",
    "\n",
    "# Model Parameters (as reference)\n",
    "embedding_dim = 300\n",
    "filters = 100\n",
    "kernel_size = 5\n",
    "lstm_units = 100\n",
    "dropout_rate = 0.3\n",
    "l2_lambda = 0.001\n",
    "\n",
    "# Define Model\n",
    "model = Sequential()\n",
    "model.add(Embedding(num_words, embedding_dim, weights=[embedding_matrix], input_length=max_length, trainable=False, name=\"embedding_layer\"))\n",
    "model.add(Conv1D(filters, kernel_size, activation='relu', name=\"conv1d_layer\", kernel_regularizer=l2(l2_lambda)))\n",
    "model.add(MaxPooling1D(name=\"max_pooling_layer\"))\n",
    "model.add(Bidirectional(LSTM(lstm_units, dropout=dropout_rate, recurrent_dropout=dropout_rate, return_sequences=True, name=\"bidirectional_lstm\")))\n",
    "model.add(LSTM(lstm_units, return_sequences=True, name=\"lstm_layer\"))\n",
    "model.add(SeqSelfAttention(attention_activation='softmax'))\n",
    "model.add(Flatten())\n",
    "model.add(Dense(64, activation='relu', name=\"dense_layer_1\", kernel_regularizer=l2(l2_lambda)))\n",
    "model.add(Dropout(dropout_rate, name=\"dropout_layer\"))\n",
    "model.add(Dense(num_classes, activation='softmax', name=\"output_layer\"))\n",
    "\n",
    "# Compile Model\n",
    "model.compile(loss='categorical_crossentropy', optimizer='adam', metrics=['accuracy'])\n",
    "\n",
    "print(model.summary())\n",
    "\n",
    "# Train the model\n",
    "batch_size = 64\n",
    "epochs = 5\n",
    "\n",
    "model.load_weights(\"init_weights.h5\", by_name=True, skip_mismatch=True)  # Load the saved weights before training\n",
    "early_stopping = EarlyStopping(monitor='loss', patience=3, restore_best_weights=True)\n",
    "model.fit(X_train_padded, y_train_onehot,\n",
    "          batch_size=batch_size,\n",
    "          epochs=epochs,\n",
    "          validation_data=(X_test_padded, y_test_onehot),\n",
    "          callbacks=[early_stopping])\n",
    "\n",
    "# Evaluate the model\n",
    "lstm2_y_prob = model.predict(X_test_padded)\n",
    "lstm2_y_pred = np.argmax(lstm2_y_prob, axis=1)\n",
    "y_test = np.argmax(y_test_onehot, axis=1)\n",
    "\n",
    "print('Word2Vec + CNN-BiLSTM with Attention Results:')\n",
    "print(classification_report(y_test, lstm2_y_pred, digits=4))\n"
   ]
  },
  {
   "cell_type": "code",
   "execution_count": null,
   "metadata": {},
   "outputs": [],
   "source": [
    "# Text features & Personality traits \n",
    "\n",
    "from keras.layers import Attention, Dot, Activation, RepeatVector, Permute, Lambda\n",
    "import keras.backend as K\n",
    "from keras.callbacks import EarlyStopping\n",
    "from keras.regularizers import l2\n",
    "from keras_self_attention import SeqSelfAttention\n",
    "\n",
    "def create_model_with_attention2(lstm_units, dense_units, dropout_rate, l2_lambda):\n",
    "    text_input = Input(shape=(max_length,), name='text_input')\n",
    "    x = Embedding(num_words, 300, weights=[embedding_matrix], input_length=max_length, trainable=False)(text_input)\n",
    "    x = Conv1D(100, 5, activation='relu', kernel_regularizer=l2(l2_lambda))(x)\n",
    "    x = MaxPooling1D()(x)\n",
    "    x = Bidirectional(LSTM(lstm_units, dropout=dropout_rate, recurrent_dropout=dropout_rate, return_sequences=True))(x)\n",
    "\n",
    "    attention = SeqSelfAttention(attention_activation='softmax')(x)\n",
    "    flatten = Flatten()(attention)\n",
    "\n",
    "    personality_input = Input(shape=(3,), name='personality_input')\n",
    "    p = Dense(32, activation='relu')(personality_input)\n",
    "\n",
    "    combined = Concatenate()([flatten, p])\n",
    "\n",
    "    x = Dense(dense_units, activation='relu', kernel_regularizer=l2(l2_lambda))(combined)\n",
    "    x = Dropout(dropout_rate)(x)\n",
    "    output = Dense(2, activation='softmax')(x)\n",
    "\n",
    "    model = Model(inputs=[text_input, personality_input], outputs=output)\n",
    "    model.compile(loss='categorical_crossentropy', optimizer='adam', metrics=['accuracy'])\n",
    "    return model\n",
    "    "
   ]
  },
  {
   "cell_type": "code",
   "execution_count": 43,
   "metadata": {},
   "outputs": [
    {
     "name": "stdout",
     "output_type": "stream",
     "text": [
      "WARNING:tensorflow:Layer lstm_14 will not use cuDNN kernels since it doesn't meet the criteria. It will use a generic GPU kernel as fallback when running on GPU.\n",
      "WARNING:tensorflow:Layer lstm_14 will not use cuDNN kernels since it doesn't meet the criteria. It will use a generic GPU kernel as fallback when running on GPU.\n",
      "WARNING:tensorflow:Layer lstm_14 will not use cuDNN kernels since it doesn't meet the criteria. It will use a generic GPU kernel as fallback when running on GPU.\n",
      "Epoch 1/20\n"
     ]
    },
    {
     "name": "stderr",
     "output_type": "stream",
     "text": [
      "c:\\Users\\PC\\Documents\\Master_Project\\Suicide-Ideation-Detection-in-Social-Media-Using-Personality-Traits-main\\venv\\lib\\site-packages\\keras\\initializers\\initializers_v2.py:120: UserWarning: The initializer GlorotNormal is unseeded and being called multiple times, which will return identical values  each time (even if the initializer is unseeded). Please update your code to provide a seed to the initializer, or avoid using the same initalizer instance more than once.\n",
      "  warnings.warn(\n"
     ]
    },
    {
     "name": "stdout",
     "output_type": "stream",
     "text": [
      "25/25 [==============================] - 7s 205ms/step - loss: 1.0092 - accuracy: 0.6687\n",
      "Epoch 2/20\n",
      "25/25 [==============================] - 5s 179ms/step - loss: 0.7492 - accuracy: 0.7837\n",
      "Epoch 3/20\n",
      "25/25 [==============================] - 4s 177ms/step - loss: 0.6080 - accuracy: 0.8338\n",
      "Epoch 4/20\n",
      "25/25 [==============================] - 4s 179ms/step - loss: 0.4653 - accuracy: 0.8850\n",
      "Epoch 5/20\n",
      "25/25 [==============================] - 4s 176ms/step - loss: 0.4138 - accuracy: 0.9075\n",
      "Epoch 6/20\n",
      "25/25 [==============================] - 4s 179ms/step - loss: 0.3796 - accuracy: 0.9050\n",
      "Epoch 7/20\n",
      "25/25 [==============================] - 4s 176ms/step - loss: 0.3080 - accuracy: 0.9438\n",
      "Epoch 8/20\n",
      "25/25 [==============================] - 4s 176ms/step - loss: 0.3109 - accuracy: 0.9362\n",
      "Epoch 9/20\n",
      "25/25 [==============================] - 4s 175ms/step - loss: 0.3247 - accuracy: 0.9400\n",
      "Epoch 10/20\n",
      "25/25 [==============================] - 5s 210ms/step - loss: 0.2558 - accuracy: 0.9688\n",
      "Epoch 11/20\n",
      "25/25 [==============================] - 5s 180ms/step - loss: 0.2453 - accuracy: 0.9675\n",
      "Epoch 12/20\n",
      "25/25 [==============================] - 4s 169ms/step - loss: 0.2545 - accuracy: 0.9700\n",
      "Epoch 13/20\n",
      "25/25 [==============================] - 4s 171ms/step - loss: 0.2165 - accuracy: 0.9837\n",
      "Epoch 14/20\n",
      "25/25 [==============================] - 4s 169ms/step - loss: 0.2228 - accuracy: 0.9825\n",
      "Epoch 15/20\n",
      "25/25 [==============================] - 5s 200ms/step - loss: 0.2728 - accuracy: 0.9525\n",
      "Epoch 16/20\n",
      "25/25 [==============================] - 5s 218ms/step - loss: 0.1991 - accuracy: 0.9912\n",
      "Epoch 17/20\n",
      "25/25 [==============================] - 5s 193ms/step - loss: 0.1841 - accuracy: 0.9937\n",
      "Epoch 18/20\n",
      "25/25 [==============================] - 5s 190ms/step - loss: 0.1899 - accuracy: 0.9937\n",
      "Epoch 19/20\n",
      "25/25 [==============================] - 4s 178ms/step - loss: 0.1728 - accuracy: 0.9937\n",
      "Epoch 20/20\n",
      "25/25 [==============================] - 4s 172ms/step - loss: 0.2014 - accuracy: 0.9862\n",
      "7/7 [==============================] - 1s 35ms/step\n",
      "Word2Vec + CNN-BiLSTM + Attention Results:\n",
      "              precision    recall  f1-score   support\n",
      "\n",
      "           0     0.9348    0.9247    0.9297        93\n",
      "           1     0.9352    0.9439    0.9395       107\n",
      "\n",
      "    accuracy                         0.9350       200\n",
      "   macro avg     0.9350    0.9343    0.9346       200\n",
      "weighted avg     0.9350    0.9350    0.9350       200\n",
      "\n"
     ]
    }
   ],
   "source": [
    "l2_lambda = 0.002\n",
    "best_params = {\n",
    "    \"lstm_units\": 118,\n",
    "    \"dense_units\": 52,\n",
    "    \"dropout_rate\": 0.44257192476360746\n",
    "}\n",
    "\n",
    "# Retrain the model using the best parameters\n",
    "# best_params = study.best_params\n",
    "model3 = create_model_with_attention2(best_params['lstm_units'], best_params['dense_units'], best_params['dropout_rate'], l2_lambda)\n",
    "model3.load_weights(\"init_weights_2.h5\", by_name=True, skip_mismatch=True)  # Load the saved weights before training\n",
    "early_stopping = EarlyStopping(monitor='loss', patience=3, restore_best_weights=True)\n",
    "model3.fit([X_train_padded, X_train[['Extraversion', 'Agreeableness', 'Neuroticism']]], y_train,\n",
    "          batch_size=32,\n",
    "          epochs=20,\n",
    "          callbacks=[early_stopping])\n",
    "\n",
    "# Evaluate the model on the test set\n",
    "y_prob = model3.predict([X_test_padded, X_test[['Extraversion', 'Agreeableness', 'Neuroticism']]])\n",
    "y_pred = np.argmax(y_prob, axis=1)\n",
    "y_test_labels = np.argmax(y_test, axis=1)\n",
    "\n",
    "print('Word2Vec + CNN-BiLSTM + Attention Results:')\n",
    "print(classification_report(y_test_labels, y_pred, digits=4))"
   ]
  },
  {
   "cell_type": "code",
   "execution_count": 38,
   "metadata": {},
   "outputs": [
    {
     "data": {
      "image/png": "[encoded data removed]",
      "text/plain": [
       "<Figure size 800x600 with 2 Axes>"
      ]
     },
     "metadata": {},
     "output_type": "display_data"
    }
   ],
   "source": [
    "# Calculate confusion matrix\n",
    "rf_cm = confusion_matrix(y_test_labels, y_pred)\n",
    "\n",
    "# Visualize confusion matrix\n",
    "plt.figure(figsize=(8, 6))\n",
    "sns.heatmap(rf_cm, annot=True, fmt='d', cmap='Blues', xticklabels=['Non-suicide', 'Suicide'], yticklabels=['Non-suicide', 'Suicide'])\n",
    "plt.xlabel('Predicted Labels')\n",
    "plt.ylabel('True Labels')\n",
    "plt.title('Confusion Matrix (Word2Vec + CNN-BiLSTM  + Attention)')\n",
    "plt.show()"
   ]
  }
 ],
 "metadata": {
  "kernelspec": {
   "display_name": "venv",
   "language": "python",
   "name": "python3"
  },
  "language_info": {
   "codemirror_mode": {
    "name": "ipython",
    "version": 3
   },
   "file_extension": ".py",
   "mimetype": "text/x-python",
   "name": "python",
   "nbconvert_exporter": "python",
   "pygments_lexer": "ipython3",
   "version": "3.10.0"
  }
 },
 "nbformat": 4,
 "nbformat_minor": 2
}
