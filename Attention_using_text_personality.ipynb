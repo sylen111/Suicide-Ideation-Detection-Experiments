{
 "cells": [
  {
   "cell_type": "code",
   "execution_count": 1,
   "metadata": {},
   "outputs": [
    {
     "name": "stderr",
     "output_type": "stream",
     "text": [
      "C:\\Users\\PC\\AppData\\Local\\Temp\\ipykernel_20380\\1542523893.py:2: DeprecationWarning: \n",
      "Pyarrow will become a required dependency of pandas in the next major release of pandas (pandas 3.0),\n",
      "(to allow more performant data types, such as the Arrow string type, and better interoperability with other libraries)\n",
      "but was not found to be installed on your system.\n",
      "If this would cause problems for you,\n",
      "please provide us feedback at https://github.com/pandas-dev/pandas/issues/54466\n",
      "        \n",
      "  import pandas as pd\n",
      "c:\\Users\\PC\\Documents\\Master_Project\\Suicide-Ideation-Detection-in-Social-Media-Using-Personality-Traits-main\\venv\\lib\\site-packages\\tqdm\\auto.py:21: TqdmWarning: IProgress not found. Please update jupyter and ipywidgets. See https://ipywidgets.readthedocs.io/en/stable/user_install.html\n",
      "  from .autonotebook import tqdm as notebook_tqdm\n"
     ]
    }
   ],
   "source": [
    "#Import libraries\n",
    "import pandas as pd\n",
    "import numpy as np\n",
    "from sklearn.feature_extraction.text import TfidfVectorizer\n",
    "from sklearn.model_selection import train_test_split\n",
    "from xgboost import XGBClassifier\n",
    "from sklearn.ensemble import RandomForestClassifier\n",
    "from sklearn.metrics import accuracy_score, f1_score, classification_report\n",
    "from sklearn.metrics import confusion_matrix\n",
    "import re\n",
    "import html\n",
    "import string\n",
    "import nltk\n",
    "from nltk.corpus import stopwords\n",
    "from nltk.tokenize import TweetTokenizer\n",
    "from nltk.stem import WordNetLemmatizer\n",
    "from tensorflow.keras.preprocessing.text import Tokenizer\n",
    "from tensorflow.keras.preprocessing.sequence import pad_sequences\n",
    "from tensorflow.keras.models import Sequential\n",
    "from tensorflow.keras.layers import Embedding, LSTM, Dense, Dropout\n",
    "from transformers import BertTokenizer, TFBertForSequenceClassification\n",
    "import tensorflow as tf\n",
    "import matplotlib.pyplot as plt\n",
    "import seaborn as sns\n",
    "from collections import Counter"
   ]
  },
  {
   "cell_type": "code",
   "execution_count": 2,
   "metadata": {},
   "outputs": [
    {
     "data": {
      "text/html": [
       "<div>\n",
       "<style scoped>\n",
       "    .dataframe tbody tr th:only-of-type {\n",
       "        vertical-align: middle;\n",
       "    }\n",
       "\n",
       "    .dataframe tbody tr th {\n",
       "        vertical-align: top;\n",
       "    }\n",
       "\n",
       "    .dataframe thead th {\n",
       "        text-align: right;\n",
       "    }\n",
       "</style>\n",
       "<table border=\"1\" class=\"dataframe\">\n",
       "  <thead>\n",
       "    <tr style=\"text-align: right;\">\n",
       "      <th></th>\n",
       "      <th>Unnamed: 0</th>\n",
       "      <th>text</th>\n",
       "      <th>class</th>\n",
       "      <th>Openness to Experience</th>\n",
       "      <th>Conscientiousness</th>\n",
       "      <th>Extraversion</th>\n",
       "      <th>Agreeableness</th>\n",
       "      <th>Neuroticism</th>\n",
       "    </tr>\n",
       "  </thead>\n",
       "  <tbody>\n",
       "    <tr>\n",
       "      <th>0</th>\n",
       "      <td>2</td>\n",
       "      <td>Ex Wife Threatening SuicideRecently I left my ...</td>\n",
       "      <td>suicide</td>\n",
       "      <td>51%</td>\n",
       "      <td>68%</td>\n",
       "      <td>27%</td>\n",
       "      <td>35%</td>\n",
       "      <td>67%</td>\n",
       "    </tr>\n",
       "    <tr>\n",
       "      <th>1</th>\n",
       "      <td>3</td>\n",
       "      <td>Am I weird I don't get affected by compliments...</td>\n",
       "      <td>non-suicide</td>\n",
       "      <td>98%</td>\n",
       "      <td>0%</td>\n",
       "      <td>1%</td>\n",
       "      <td>17%</td>\n",
       "      <td>100%</td>\n",
       "    </tr>\n",
       "    <tr>\n",
       "      <th>2</th>\n",
       "      <td>4</td>\n",
       "      <td>Finally 2020 is almost over... So I can never ...</td>\n",
       "      <td>non-suicide</td>\n",
       "      <td>89%</td>\n",
       "      <td>7%</td>\n",
       "      <td>1%</td>\n",
       "      <td>11%</td>\n",
       "      <td>56%</td>\n",
       "    </tr>\n",
       "    <tr>\n",
       "      <th>3</th>\n",
       "      <td>16</td>\n",
       "      <td>Everyone wants to be \"edgy\" and it's making me...</td>\n",
       "      <td>non-suicide</td>\n",
       "      <td>97%</td>\n",
       "      <td>12%</td>\n",
       "      <td>22%</td>\n",
       "      <td>26%</td>\n",
       "      <td>93%</td>\n",
       "    </tr>\n",
       "    <tr>\n",
       "      <th>4</th>\n",
       "      <td>19</td>\n",
       "      <td>I took the rest of my sleeping pills and my pa...</td>\n",
       "      <td>suicide</td>\n",
       "      <td>98%</td>\n",
       "      <td>69%</td>\n",
       "      <td>0%</td>\n",
       "      <td>63%</td>\n",
       "      <td>90%</td>\n",
       "    </tr>\n",
       "    <tr>\n",
       "      <th>...</th>\n",
       "      <td>...</td>\n",
       "      <td>...</td>\n",
       "      <td>...</td>\n",
       "      <td>...</td>\n",
       "      <td>...</td>\n",
       "      <td>...</td>\n",
       "      <td>...</td>\n",
       "      <td>...</td>\n",
       "    </tr>\n",
       "    <tr>\n",
       "      <th>995</th>\n",
       "      <td>2521</td>\n",
       "      <td>I'm a 17 year old senior and I sometimes feel ...</td>\n",
       "      <td>suicide</td>\n",
       "      <td>75%</td>\n",
       "      <td>37%</td>\n",
       "      <td>26%</td>\n",
       "      <td>36%</td>\n",
       "      <td>85%</td>\n",
       "    </tr>\n",
       "    <tr>\n",
       "      <th>996</th>\n",
       "      <td>2530</td>\n",
       "      <td>I just want to go to sleep and not wake upI ha...</td>\n",
       "      <td>suicide</td>\n",
       "      <td>76%</td>\n",
       "      <td>21%</td>\n",
       "      <td>0%</td>\n",
       "      <td>17%</td>\n",
       "      <td>97%</td>\n",
       "    </tr>\n",
       "    <tr>\n",
       "      <th>997</th>\n",
       "      <td>2534</td>\n",
       "      <td>Help. I'm so lost.I feel so helpless despite t...</td>\n",
       "      <td>suicide</td>\n",
       "      <td>88%</td>\n",
       "      <td>25%</td>\n",
       "      <td>18%</td>\n",
       "      <td>15%</td>\n",
       "      <td>99%</td>\n",
       "    </tr>\n",
       "    <tr>\n",
       "      <th>998</th>\n",
       "      <td>2535</td>\n",
       "      <td>Anybody else get really scared when you get cl...</td>\n",
       "      <td>suicide</td>\n",
       "      <td>98%</td>\n",
       "      <td>41%</td>\n",
       "      <td>49%</td>\n",
       "      <td>54%</td>\n",
       "      <td>98%</td>\n",
       "    </tr>\n",
       "    <tr>\n",
       "      <th>999</th>\n",
       "      <td>2536</td>\n",
       "      <td>What’s the point of continuing? We all eventua...</td>\n",
       "      <td>suicide</td>\n",
       "      <td>89%</td>\n",
       "      <td>54%</td>\n",
       "      <td>12%</td>\n",
       "      <td>38%</td>\n",
       "      <td>46%</td>\n",
       "    </tr>\n",
       "  </tbody>\n",
       "</table>\n",
       "<p>1000 rows × 8 columns</p>\n",
       "</div>"
      ],
      "text/plain": [
       "     Unnamed: 0                                               text  \\\n",
       "0             2  Ex Wife Threatening SuicideRecently I left my ...   \n",
       "1             3  Am I weird I don't get affected by compliments...   \n",
       "2             4  Finally 2020 is almost over... So I can never ...   \n",
       "3            16  Everyone wants to be \"edgy\" and it's making me...   \n",
       "4            19  I took the rest of my sleeping pills and my pa...   \n",
       "..          ...                                                ...   \n",
       "995        2521  I'm a 17 year old senior and I sometimes feel ...   \n",
       "996        2530  I just want to go to sleep and not wake upI ha...   \n",
       "997        2534  Help. I'm so lost.I feel so helpless despite t...   \n",
       "998        2535  Anybody else get really scared when you get cl...   \n",
       "999        2536  What’s the point of continuing? We all eventua...   \n",
       "\n",
       "           class Openness to Experience Conscientiousness Extraversion  \\\n",
       "0        suicide                    51%               68%          27%   \n",
       "1    non-suicide                    98%                0%           1%   \n",
       "2    non-suicide                    89%                7%           1%   \n",
       "3    non-suicide                    97%               12%          22%   \n",
       "4        suicide                    98%               69%           0%   \n",
       "..           ...                    ...               ...          ...   \n",
       "995      suicide                    75%               37%          26%   \n",
       "996      suicide                    76%               21%           0%   \n",
       "997      suicide                    88%               25%          18%   \n",
       "998      suicide                    98%               41%          49%   \n",
       "999      suicide                    89%               54%          12%   \n",
       "\n",
       "    Agreeableness Neuroticism  \n",
       "0             35%         67%  \n",
       "1             17%        100%  \n",
       "2             11%         56%  \n",
       "3             26%         93%  \n",
       "4             63%         90%  \n",
       "..            ...         ...  \n",
       "995           36%         85%  \n",
       "996           17%         97%  \n",
       "997           15%         99%  \n",
       "998           54%         98%  \n",
       "999           38%         46%  \n",
       "\n",
       "[1000 rows x 8 columns]"
      ]
     },
     "execution_count": 2,
     "metadata": {},
     "output_type": "execute_result"
    }
   ],
   "source": [
    "data = pd.read_csv('Suicide_Detection_final1.csv')\n",
    "data"
   ]
  },
  {
   "cell_type": "code",
   "execution_count": 3,
   "metadata": {},
   "outputs": [
    {
     "name": "stdout",
     "output_type": "stream",
     "text": [
      "text                       object\n",
      "Openness to Experience    float64\n",
      "Conscientiousness         float64\n",
      "Extraversion              float64\n",
      "Agreeableness             float64\n",
      "Neuroticism               float64\n",
      "class                       int64\n",
      "dtype: object\n"
     ]
    },
    {
     "name": "stderr",
     "output_type": "stream",
     "text": [
      "C:\\Users\\PC\\AppData\\Local\\Temp\\ipykernel_20380\\3006196770.py:5: SettingWithCopyWarning: \n",
      "A value is trying to be set on a copy of a slice from a DataFrame.\n",
      "Try using .loc[row_indexer,col_indexer] = value instead\n",
      "\n",
      "See the caveats in the documentation: https://pandas.pydata.org/pandas-docs/stable/user_guide/indexing.html#returning-a-view-versus-a-copy\n",
      "  data['class'] = data['class'].map({'non-suicide': 0, 'suicide': 1})\n",
      "C:\\Users\\PC\\AppData\\Local\\Temp\\ipykernel_20380\\3006196770.py:8: SettingWithCopyWarning: \n",
      "A value is trying to be set on a copy of a slice from a DataFrame.\n",
      "Try using .loc[row_indexer,col_indexer] = value instead\n",
      "\n",
      "See the caveats in the documentation: https://pandas.pydata.org/pandas-docs/stable/user_guide/indexing.html#returning-a-view-versus-a-copy\n",
      "  data['Openness to Experience'] = data['Openness to Experience'].str.rstrip('%').astype(float)\n",
      "C:\\Users\\PC\\AppData\\Local\\Temp\\ipykernel_20380\\3006196770.py:9: SettingWithCopyWarning: \n",
      "A value is trying to be set on a copy of a slice from a DataFrame.\n",
      "Try using .loc[row_indexer,col_indexer] = value instead\n",
      "\n",
      "See the caveats in the documentation: https://pandas.pydata.org/pandas-docs/stable/user_guide/indexing.html#returning-a-view-versus-a-copy\n",
      "  data['Conscientiousness'] = data['Conscientiousness'].str.rstrip('%').astype(float)\n",
      "C:\\Users\\PC\\AppData\\Local\\Temp\\ipykernel_20380\\3006196770.py:10: SettingWithCopyWarning: \n",
      "A value is trying to be set on a copy of a slice from a DataFrame.\n",
      "Try using .loc[row_indexer,col_indexer] = value instead\n",
      "\n",
      "See the caveats in the documentation: https://pandas.pydata.org/pandas-docs/stable/user_guide/indexing.html#returning-a-view-versus-a-copy\n",
      "  data['Extraversion'] = data['Extraversion'].str.rstrip('%').astype(float)\n",
      "C:\\Users\\PC\\AppData\\Local\\Temp\\ipykernel_20380\\3006196770.py:11: SettingWithCopyWarning: \n",
      "A value is trying to be set on a copy of a slice from a DataFrame.\n",
      "Try using .loc[row_indexer,col_indexer] = value instead\n",
      "\n",
      "See the caveats in the documentation: https://pandas.pydata.org/pandas-docs/stable/user_guide/indexing.html#returning-a-view-versus-a-copy\n",
      "  data['Agreeableness'] = data['Agreeableness'].str.rstrip('%').astype(float)\n",
      "C:\\Users\\PC\\AppData\\Local\\Temp\\ipykernel_20380\\3006196770.py:12: SettingWithCopyWarning: \n",
      "A value is trying to be set on a copy of a slice from a DataFrame.\n",
      "Try using .loc[row_indexer,col_indexer] = value instead\n",
      "\n",
      "See the caveats in the documentation: https://pandas.pydata.org/pandas-docs/stable/user_guide/indexing.html#returning-a-view-versus-a-copy\n",
      "  data['Neuroticism'] = data['Neuroticism'].str.rstrip('%').astype(float)\n"
     ]
    },
    {
     "data": {
      "text/html": [
       "<div>\n",
       "<style scoped>\n",
       "    .dataframe tbody tr th:only-of-type {\n",
       "        vertical-align: middle;\n",
       "    }\n",
       "\n",
       "    .dataframe tbody tr th {\n",
       "        vertical-align: top;\n",
       "    }\n",
       "\n",
       "    .dataframe thead th {\n",
       "        text-align: right;\n",
       "    }\n",
       "</style>\n",
       "<table border=\"1\" class=\"dataframe\">\n",
       "  <thead>\n",
       "    <tr style=\"text-align: right;\">\n",
       "      <th></th>\n",
       "      <th>text</th>\n",
       "      <th>Openness to Experience</th>\n",
       "      <th>Conscientiousness</th>\n",
       "      <th>Extraversion</th>\n",
       "      <th>Agreeableness</th>\n",
       "      <th>Neuroticism</th>\n",
       "      <th>class</th>\n",
       "    </tr>\n",
       "  </thead>\n",
       "  <tbody>\n",
       "    <tr>\n",
       "      <th>0</th>\n",
       "      <td>Ex Wife Threatening SuicideRecently I left my ...</td>\n",
       "      <td>51.0</td>\n",
       "      <td>68.0</td>\n",
       "      <td>27.0</td>\n",
       "      <td>35.0</td>\n",
       "      <td>67.0</td>\n",
       "      <td>1</td>\n",
       "    </tr>\n",
       "    <tr>\n",
       "      <th>1</th>\n",
       "      <td>Am I weird I don't get affected by compliments...</td>\n",
       "      <td>98.0</td>\n",
       "      <td>0.0</td>\n",
       "      <td>1.0</td>\n",
       "      <td>17.0</td>\n",
       "      <td>100.0</td>\n",
       "      <td>0</td>\n",
       "    </tr>\n",
       "    <tr>\n",
       "      <th>2</th>\n",
       "      <td>Finally 2020 is almost over... So I can never ...</td>\n",
       "      <td>89.0</td>\n",
       "      <td>7.0</td>\n",
       "      <td>1.0</td>\n",
       "      <td>11.0</td>\n",
       "      <td>56.0</td>\n",
       "      <td>0</td>\n",
       "    </tr>\n",
       "    <tr>\n",
       "      <th>3</th>\n",
       "      <td>Everyone wants to be \"edgy\" and it's making me...</td>\n",
       "      <td>97.0</td>\n",
       "      <td>12.0</td>\n",
       "      <td>22.0</td>\n",
       "      <td>26.0</td>\n",
       "      <td>93.0</td>\n",
       "      <td>0</td>\n",
       "    </tr>\n",
       "    <tr>\n",
       "      <th>4</th>\n",
       "      <td>I took the rest of my sleeping pills and my pa...</td>\n",
       "      <td>98.0</td>\n",
       "      <td>69.0</td>\n",
       "      <td>0.0</td>\n",
       "      <td>63.0</td>\n",
       "      <td>90.0</td>\n",
       "      <td>1</td>\n",
       "    </tr>\n",
       "    <tr>\n",
       "      <th>...</th>\n",
       "      <td>...</td>\n",
       "      <td>...</td>\n",
       "      <td>...</td>\n",
       "      <td>...</td>\n",
       "      <td>...</td>\n",
       "      <td>...</td>\n",
       "      <td>...</td>\n",
       "    </tr>\n",
       "    <tr>\n",
       "      <th>995</th>\n",
       "      <td>I'm a 17 year old senior and I sometimes feel ...</td>\n",
       "      <td>75.0</td>\n",
       "      <td>37.0</td>\n",
       "      <td>26.0</td>\n",
       "      <td>36.0</td>\n",
       "      <td>85.0</td>\n",
       "      <td>1</td>\n",
       "    </tr>\n",
       "    <tr>\n",
       "      <th>996</th>\n",
       "      <td>I just want to go to sleep and not wake upI ha...</td>\n",
       "      <td>76.0</td>\n",
       "      <td>21.0</td>\n",
       "      <td>0.0</td>\n",
       "      <td>17.0</td>\n",
       "      <td>97.0</td>\n",
       "      <td>1</td>\n",
       "    </tr>\n",
       "    <tr>\n",
       "      <th>997</th>\n",
       "      <td>Help. I'm so lost.I feel so helpless despite t...</td>\n",
       "      <td>88.0</td>\n",
       "      <td>25.0</td>\n",
       "      <td>18.0</td>\n",
       "      <td>15.0</td>\n",
       "      <td>99.0</td>\n",
       "      <td>1</td>\n",
       "    </tr>\n",
       "    <tr>\n",
       "      <th>998</th>\n",
       "      <td>Anybody else get really scared when you get cl...</td>\n",
       "      <td>98.0</td>\n",
       "      <td>41.0</td>\n",
       "      <td>49.0</td>\n",
       "      <td>54.0</td>\n",
       "      <td>98.0</td>\n",
       "      <td>1</td>\n",
       "    </tr>\n",
       "    <tr>\n",
       "      <th>999</th>\n",
       "      <td>What’s the point of continuing? We all eventua...</td>\n",
       "      <td>89.0</td>\n",
       "      <td>54.0</td>\n",
       "      <td>12.0</td>\n",
       "      <td>38.0</td>\n",
       "      <td>46.0</td>\n",
       "      <td>1</td>\n",
       "    </tr>\n",
       "  </tbody>\n",
       "</table>\n",
       "<p>1000 rows × 7 columns</p>\n",
       "</div>"
      ],
      "text/plain": [
       "                                                  text  \\\n",
       "0    Ex Wife Threatening SuicideRecently I left my ...   \n",
       "1    Am I weird I don't get affected by compliments...   \n",
       "2    Finally 2020 is almost over... So I can never ...   \n",
       "3    Everyone wants to be \"edgy\" and it's making me...   \n",
       "4    I took the rest of my sleeping pills and my pa...   \n",
       "..                                                 ...   \n",
       "995  I'm a 17 year old senior and I sometimes feel ...   \n",
       "996  I just want to go to sleep and not wake upI ha...   \n",
       "997  Help. I'm so lost.I feel so helpless despite t...   \n",
       "998  Anybody else get really scared when you get cl...   \n",
       "999  What’s the point of continuing? We all eventua...   \n",
       "\n",
       "     Openness to Experience  Conscientiousness  Extraversion  Agreeableness  \\\n",
       "0                      51.0               68.0          27.0           35.0   \n",
       "1                      98.0                0.0           1.0           17.0   \n",
       "2                      89.0                7.0           1.0           11.0   \n",
       "3                      97.0               12.0          22.0           26.0   \n",
       "4                      98.0               69.0           0.0           63.0   \n",
       "..                      ...                ...           ...            ...   \n",
       "995                    75.0               37.0          26.0           36.0   \n",
       "996                    76.0               21.0           0.0           17.0   \n",
       "997                    88.0               25.0          18.0           15.0   \n",
       "998                    98.0               41.0          49.0           54.0   \n",
       "999                    89.0               54.0          12.0           38.0   \n",
       "\n",
       "     Neuroticism  class  \n",
       "0           67.0      1  \n",
       "1          100.0      0  \n",
       "2           56.0      0  \n",
       "3           93.0      0  \n",
       "4           90.0      1  \n",
       "..           ...    ...  \n",
       "995         85.0      1  \n",
       "996         97.0      1  \n",
       "997         99.0      1  \n",
       "998         98.0      1  \n",
       "999         46.0      1  \n",
       "\n",
       "[1000 rows x 7 columns]"
      ]
     },
     "execution_count": 3,
     "metadata": {},
     "output_type": "execute_result"
    }
   ],
   "source": [
    "# Keep the desired columns\n",
    "data = data[['text','Openness to Experience', 'Conscientiousness', 'Extraversion', 'Agreeableness', 'Neuroticism', 'class']]\n",
    "\n",
    "# Encode the 'class' column as a numeric type\n",
    "data['class'] = data['class'].map({'non-suicide': 0, 'suicide': 1})\n",
    "\n",
    "# Remove the percentage symbols and convert the data to floating numbers\n",
    "data['Openness to Experience'] = data['Openness to Experience'].str.rstrip('%').astype(float)\n",
    "data['Conscientiousness'] = data['Conscientiousness'].str.rstrip('%').astype(float)\n",
    "data['Extraversion'] = data['Extraversion'].str.rstrip('%').astype(float)\n",
    "data['Agreeableness'] = data['Agreeableness'].str.rstrip('%').astype(float)\n",
    "data['Neuroticism'] = data['Neuroticism'].str.rstrip('%').astype(float)\n",
    "\n",
    "# Check the data type of each column\n",
    "print(data.dtypes)\n",
    "data"
   ]
  },
  {
   "cell_type": "code",
   "execution_count": 4,
   "metadata": {},
   "outputs": [
    {
     "name": "stderr",
     "output_type": "stream",
     "text": [
      "[nltk_data] Downloading package stopwords to\n",
      "[nltk_data]     C:\\Users\\PC\\AppData\\Roaming\\nltk_data...\n",
      "[nltk_data]   Package stopwords is already up-to-date!\n",
      "[nltk_data] Downloading package wordnet to\n",
      "[nltk_data]     C:\\Users\\PC\\AppData\\Roaming\\nltk_data...\n",
      "[nltk_data]   Package wordnet is already up-to-date!\n"
     ]
    },
    {
     "data": {
      "text/html": [
       "<div>\n",
       "<style scoped>\n",
       "    .dataframe tbody tr th:only-of-type {\n",
       "        vertical-align: middle;\n",
       "    }\n",
       "\n",
       "    .dataframe tbody tr th {\n",
       "        vertical-align: top;\n",
       "    }\n",
       "\n",
       "    .dataframe thead th {\n",
       "        text-align: right;\n",
       "    }\n",
       "</style>\n",
       "<table border=\"1\" class=\"dataframe\">\n",
       "  <thead>\n",
       "    <tr style=\"text-align: right;\">\n",
       "      <th></th>\n",
       "      <th>text</th>\n",
       "      <th>preprocessed_text</th>\n",
       "    </tr>\n",
       "  </thead>\n",
       "  <tbody>\n",
       "    <tr>\n",
       "      <th>0</th>\n",
       "      <td>Ex Wife Threatening SuicideRecently I left my ...</td>\n",
       "      <td>ex wife threatening suiciderecently left wife ...</td>\n",
       "    </tr>\n",
       "    <tr>\n",
       "      <th>1</th>\n",
       "      <td>Am I weird I don't get affected by compliments...</td>\n",
       "      <td>weird get affected compliment coming someone k...</td>\n",
       "    </tr>\n",
       "    <tr>\n",
       "      <th>2</th>\n",
       "      <td>Finally 2020 is almost over... So I can never ...</td>\n",
       "      <td>finally almost never hear bad year ever swear ...</td>\n",
       "    </tr>\n",
       "    <tr>\n",
       "      <th>3</th>\n",
       "      <td>Everyone wants to be \"edgy\" and it's making me...</td>\n",
       "      <td>everyone want edgy making self conscious feel ...</td>\n",
       "    </tr>\n",
       "    <tr>\n",
       "      <th>4</th>\n",
       "      <td>I took the rest of my sleeping pills and my pa...</td>\n",
       "      <td>took rest sleeping pill painkillersi wait end ...</td>\n",
       "    </tr>\n",
       "    <tr>\n",
       "      <th>5</th>\n",
       "      <td>Can you imagine getting old? Me neither.Wrinkl...</td>\n",
       "      <td>imagine getting old neither wrinkle weight gai...</td>\n",
       "    </tr>\n",
       "    <tr>\n",
       "      <th>6</th>\n",
       "      <td>Do you think getting hit by a train would be p...</td>\n",
       "      <td>think getting hit train would painful gun hard...</td>\n",
       "    </tr>\n",
       "    <tr>\n",
       "      <th>7</th>\n",
       "      <td>death, continuedI posted here before and saw s...</td>\n",
       "      <td>death continuedi posted saw something interest...</td>\n",
       "    </tr>\n",
       "    <tr>\n",
       "      <th>8</th>\n",
       "      <td>Fuck the verizon smart family app I can’t even...</td>\n",
       "      <td>fuck verizon smart family app even watch porn ...</td>\n",
       "    </tr>\n",
       "    <tr>\n",
       "      <th>9</th>\n",
       "      <td>I’m scared.   Everything just seems to be gett...</td>\n",
       "      <td>scared everything seems getting worse worse yo...</td>\n",
       "    </tr>\n",
       "  </tbody>\n",
       "</table>\n",
       "</div>"
      ],
      "text/plain": [
       "                                                text  \\\n",
       "0  Ex Wife Threatening SuicideRecently I left my ...   \n",
       "1  Am I weird I don't get affected by compliments...   \n",
       "2  Finally 2020 is almost over... So I can never ...   \n",
       "3  Everyone wants to be \"edgy\" and it's making me...   \n",
       "4  I took the rest of my sleeping pills and my pa...   \n",
       "5  Can you imagine getting old? Me neither.Wrinkl...   \n",
       "6  Do you think getting hit by a train would be p...   \n",
       "7  death, continuedI posted here before and saw s...   \n",
       "8  Fuck the verizon smart family app I can’t even...   \n",
       "9  I’m scared.   Everything just seems to be gett...   \n",
       "\n",
       "                                   preprocessed_text  \n",
       "0  ex wife threatening suiciderecently left wife ...  \n",
       "1  weird get affected compliment coming someone k...  \n",
       "2  finally almost never hear bad year ever swear ...  \n",
       "3  everyone want edgy making self conscious feel ...  \n",
       "4  took rest sleeping pill painkillersi wait end ...  \n",
       "5  imagine getting old neither wrinkle weight gai...  \n",
       "6  think getting hit train would painful gun hard...  \n",
       "7  death continuedi posted saw something interest...  \n",
       "8  fuck verizon smart family app even watch porn ...  \n",
       "9  scared everything seems getting worse worse yo...  "
      ]
     },
     "execution_count": 4,
     "metadata": {},
     "output_type": "execute_result"
    }
   ],
   "source": [
    "nltk.download('stopwords')\n",
    "nltk.download('wordnet')\n",
    "\n",
    "def preprocess_text(text):\n",
    "    my_stopwords = set(stopwords.words('english'))\n",
    "    add_stopwords = ['#ff', 'ff', 'rt']\n",
    "    my_stopwords.update(add_stopwords)\n",
    "    tokenizer = TweetTokenizer(reduce_len=True)\n",
    "    lemmatizer = WordNetLemmatizer()\n",
    "\n",
    "    # Remove URLs\n",
    "    text = re.sub(r'http\\S+', '', text)\n",
    "\n",
    "    # Remove punctuations and numbers\n",
    "    text = re.sub(r'[^a-zA-Z]', ' ', text)\n",
    "\n",
    "    # Lowercasing\n",
    "    text = text.lower()\n",
    "\n",
    "    # Tokenization\n",
    "    tokens = tokenizer.tokenize(text)\n",
    "\n",
    "    # Remove stop word\n",
    "    tokens = [word for word in tokens if word not in my_stopwords]\n",
    "\n",
    "    # Lemmatization\n",
    "    tokens = [lemmatizer.lemmatize(word) for word in tokens]\n",
    "    text = ' '.join(tokens)\n",
    "\n",
    "    return text\n",
    "\n",
    "data['preprocessed_text'] = data.text.apply(preprocess_text)\n",
    "data[['text','preprocessed_text']].head(10)"
   ]
  },
  {
   "cell_type": "markdown",
   "metadata": {},
   "source": [
    "Word2Vec + CNN-BiLSTM"
   ]
  },
  {
   "cell_type": "code",
   "execution_count": 5,
   "metadata": {},
   "outputs": [],
   "source": [
    "y = data['class']\n",
    "X_train1, X_test1, y_train1, y_test1 = train_test_split(data['preprocessed_text'], y, test_size=0.2, random_state=42)\n"
   ]
  },
  {
   "cell_type": "code",
   "execution_count": 6,
   "metadata": {},
   "outputs": [],
   "source": [
    "from gensim.models import KeyedVectors\n",
    "from keras.utils import to_categorical\n",
    "\n",
    "# Train set and test set split\n",
    "y = data['class']\n",
    "X_train, X_test, y_train, y_test = train_test_split(data[['preprocessed_text', 'Extraversion', 'Agreeableness', 'Neuroticism']], y, test_size=0.2, random_state=42)\n",
    "\n",
    "# Tokenize and pad sequences\n",
    "tokenizer = Tokenizer()\n",
    "tokenizer.fit_on_texts(X_train['preprocessed_text'])\n",
    "\n",
    "X_train_seq = tokenizer.texts_to_sequences(X_train['preprocessed_text'])\n",
    "X_test_seq = tokenizer.texts_to_sequences(X_test['preprocessed_text'])\n",
    "\n",
    "num_classes = 2\n",
    "y_train = to_categorical(y_train, num_classes)\n",
    "y_test = to_categorical(y_test, num_classes)\n",
    "\n",
    "max_length = max([len(seq) for seq in X_train_seq] + [len(seq) for seq in X_test_seq])\n",
    "\n",
    "X_train_padded = pad_sequences(X_train_seq, maxlen=max_length)\n",
    "X_test_padded = pad_sequences(X_test_seq, maxlen=max_length)\n",
    "\n",
    "# Extract Big 5 personality scores\n",
    "train_scores = X_train[['Extraversion', 'Agreeableness', 'Neuroticism']].values\n",
    "test_scores = X_test[['Extraversion', 'Agreeableness', 'Neuroticism']].values\n",
    "\n",
    "# Load GoogleNews pre-trained word vectors\n",
    "word2vec_path = 'GoogleNews-vectors-negative300.bin'\n",
    "word2vec = KeyedVectors.load_word2vec_format(word2vec_path, binary=True)\n",
    "\n",
    "# Create the word embedding matrix\n",
    "num_words = len(tokenizer.word_index) + 1\n",
    "embedding_matrix = np.zeros((num_words, 300))\n",
    "for word, i in tokenizer.word_index.items():\n",
    "    if i >= num_words:\n",
    "        continue\n",
    "    try:\n",
    "        embedding_vector = word2vec[word]\n",
    "        embedding_matrix[i] = embedding_vector\n",
    "    except KeyError:\n",
    "        pass"
   ]
  },
  {
   "cell_type": "code",
   "execution_count": 8,
   "metadata": {},
   "outputs": [
    {
     "name": "stderr",
     "output_type": "stream",
     "text": [
      "[I 2025-03-02 18:36:02,328] A new study created in memory with name: no-name-f5fa7ee5-871a-4fb2-bb6f-6a29a0f02643\n"
     ]
    },
    {
     "name": "stdout",
     "output_type": "stream",
     "text": [
      "Requirement already satisfied: optuna in c:\\users\\pc\\documents\\master_project\\suicide-ideation-detection-in-social-media-using-personality-traits-main\\venv\\lib\\site-packages (4.2.1)\n",
      "Requirement already satisfied: alembic>=1.5.0 in c:\\users\\pc\\documents\\master_project\\suicide-ideation-detection-in-social-media-using-personality-traits-main\\venv\\lib\\site-packages (from optuna) (1.14.1)\n",
      "Requirement already satisfied: colorlog in c:\\users\\pc\\documents\\master_project\\suicide-ideation-detection-in-social-media-using-personality-traits-main\\venv\\lib\\site-packages (from optuna) (6.9.0)\n",
      "Requirement already satisfied: numpy in c:\\users\\pc\\documents\\master_project\\suicide-ideation-detection-in-social-media-using-personality-traits-main\\venv\\lib\\site-packages (from optuna) (1.26.4)\n",
      "Requirement already satisfied: packaging>=20.0 in c:\\users\\pc\\documents\\master_project\\suicide-ideation-detection-in-social-media-using-personality-traits-main\\venv\\lib\\site-packages (from optuna) (24.2)\n",
      "Requirement already satisfied: sqlalchemy>=1.4.2 in c:\\users\\pc\\documents\\master_project\\suicide-ideation-detection-in-social-media-using-personality-traits-main\\venv\\lib\\site-packages (from optuna) (2.0.38)\n",
      "Requirement already satisfied: tqdm in c:\\users\\pc\\documents\\master_project\\suicide-ideation-detection-in-social-media-using-personality-traits-main\\venv\\lib\\site-packages (from optuna) (4.67.1)\n",
      "Requirement already satisfied: PyYAML in c:\\users\\pc\\documents\\master_project\\suicide-ideation-detection-in-social-media-using-personality-traits-main\\venv\\lib\\site-packages (from optuna) (6.0.2)\n",
      "Requirement already satisfied: Mako in c:\\users\\pc\\documents\\master_project\\suicide-ideation-detection-in-social-media-using-personality-traits-main\\venv\\lib\\site-packages (from alembic>=1.5.0->optuna) (1.3.9)\n",
      "Requirement already satisfied: typing-extensions>=4 in c:\\users\\pc\\documents\\master_project\\suicide-ideation-detection-in-social-media-using-personality-traits-main\\venv\\lib\\site-packages (from alembic>=1.5.0->optuna) (4.12.2)\n",
      "Requirement already satisfied: greenlet!=0.4.17 in c:\\users\\pc\\documents\\master_project\\suicide-ideation-detection-in-social-media-using-personality-traits-main\\venv\\lib\\site-packages (from sqlalchemy>=1.4.2->optuna) (3.1.1)\n",
      "Requirement already satisfied: colorama in c:\\users\\pc\\documents\\master_project\\suicide-ideation-detection-in-social-media-using-personality-traits-main\\venv\\lib\\site-packages (from colorlog->optuna) (0.4.6)\n",
      "Requirement already satisfied: MarkupSafe>=0.9.2 in c:\\users\\pc\\documents\\master_project\\suicide-ideation-detection-in-social-media-using-personality-traits-main\\venv\\lib\\site-packages (from Mako->alembic>=1.5.0->optuna) (3.0.2)\n",
      "WARNING:tensorflow:Layer lstm will not use cuDNN kernels since it doesn't meet the criteria. It will use a generic GPU kernel as fallback when running on GPU.\n",
      "WARNING:tensorflow:Layer lstm will not use cuDNN kernels since it doesn't meet the criteria. It will use a generic GPU kernel as fallback when running on GPU.\n",
      "WARNING:tensorflow:Layer lstm will not use cuDNN kernels since it doesn't meet the criteria. It will use a generic GPU kernel as fallback when running on GPU.\n"
     ]
    },
    {
     "name": "stderr",
     "output_type": "stream",
     "text": [
      "[I 2025-03-02 18:36:52,789] Trial 0 finished with value: 0.9049999713897705 and parameters: {'lstm_units': 130, 'dense_units': 54, 'dropout_rate': 0.25786305447347024}. Best is trial 0 with value: 0.9049999713897705.\n"
     ]
    },
    {
     "name": "stdout",
     "output_type": "stream",
     "text": [
      "WARNING:tensorflow:Layer lstm_1 will not use cuDNN kernels since it doesn't meet the criteria. It will use a generic GPU kernel as fallback when running on GPU.\n",
      "WARNING:tensorflow:Layer lstm_1 will not use cuDNN kernels since it doesn't meet the criteria. It will use a generic GPU kernel as fallback when running on GPU.\n",
      "WARNING:tensorflow:Layer lstm_1 will not use cuDNN kernels since it doesn't meet the criteria. It will use a generic GPU kernel as fallback when running on GPU.\n"
     ]
    },
    {
     "name": "stderr",
     "output_type": "stream",
     "text": [
      "[I 2025-03-02 18:37:38,575] Trial 1 finished with value: 0.9300000071525574 and parameters: {'lstm_units': 134, 'dense_units': 112, 'dropout_rate': 0.350246351644918}. Best is trial 1 with value: 0.9300000071525574.\n"
     ]
    },
    {
     "name": "stdout",
     "output_type": "stream",
     "text": [
      "WARNING:tensorflow:Layer lstm_2 will not use cuDNN kernels since it doesn't meet the criteria. It will use a generic GPU kernel as fallback when running on GPU.\n",
      "WARNING:tensorflow:Layer lstm_2 will not use cuDNN kernels since it doesn't meet the criteria. It will use a generic GPU kernel as fallback when running on GPU.\n",
      "WARNING:tensorflow:Layer lstm_2 will not use cuDNN kernels since it doesn't meet the criteria. It will use a generic GPU kernel as fallback when running on GPU.\n"
     ]
    },
    {
     "name": "stderr",
     "output_type": "stream",
     "text": [
      "[I 2025-03-02 18:38:24,845] Trial 2 finished with value: 0.9150000214576721 and parameters: {'lstm_units': 110, 'dense_units': 38, 'dropout_rate': 0.1718903617306581}. Best is trial 1 with value: 0.9300000071525574.\n"
     ]
    },
    {
     "name": "stdout",
     "output_type": "stream",
     "text": [
      "WARNING:tensorflow:Layer lstm_3 will not use cuDNN kernels since it doesn't meet the criteria. It will use a generic GPU kernel as fallback when running on GPU.\n",
      "WARNING:tensorflow:Layer lstm_3 will not use cuDNN kernels since it doesn't meet the criteria. It will use a generic GPU kernel as fallback when running on GPU.\n",
      "WARNING:tensorflow:Layer lstm_3 will not use cuDNN kernels since it doesn't meet the criteria. It will use a generic GPU kernel as fallback when running on GPU.\n"
     ]
    },
    {
     "name": "stderr",
     "output_type": "stream",
     "text": [
      "[I 2025-03-02 18:39:10,385] Trial 3 finished with value: 0.9150000214576721 and parameters: {'lstm_units': 120, 'dense_units': 50, 'dropout_rate': 0.24980697819068862}. Best is trial 1 with value: 0.9300000071525574.\n"
     ]
    },
    {
     "name": "stdout",
     "output_type": "stream",
     "text": [
      "WARNING:tensorflow:Layer lstm_4 will not use cuDNN kernels since it doesn't meet the criteria. It will use a generic GPU kernel as fallback when running on GPU.\n",
      "WARNING:tensorflow:Layer lstm_4 will not use cuDNN kernels since it doesn't meet the criteria. It will use a generic GPU kernel as fallback when running on GPU.\n",
      "WARNING:tensorflow:Layer lstm_4 will not use cuDNN kernels since it doesn't meet the criteria. It will use a generic GPU kernel as fallback when running on GPU.\n"
     ]
    },
    {
     "name": "stderr",
     "output_type": "stream",
     "text": [
      "[I 2025-03-02 18:40:01,618] Trial 4 finished with value: 0.800000011920929 and parameters: {'lstm_units': 124, 'dense_units': 33, 'dropout_rate': 0.1778614792209254}. Best is trial 1 with value: 0.9300000071525574.\n"
     ]
    },
    {
     "name": "stdout",
     "output_type": "stream",
     "text": [
      "WARNING:tensorflow:Layer lstm_5 will not use cuDNN kernels since it doesn't meet the criteria. It will use a generic GPU kernel as fallback when running on GPU.\n",
      "WARNING:tensorflow:Layer lstm_5 will not use cuDNN kernels since it doesn't meet the criteria. It will use a generic GPU kernel as fallback when running on GPU.\n",
      "WARNING:tensorflow:Layer lstm_5 will not use cuDNN kernels since it doesn't meet the criteria. It will use a generic GPU kernel as fallback when running on GPU.\n"
     ]
    },
    {
     "name": "stderr",
     "output_type": "stream",
     "text": [
      "[I 2025-03-02 18:40:49,768] Trial 5 finished with value: 0.9100000262260437 and parameters: {'lstm_units': 135, 'dense_units': 72, 'dropout_rate': 0.3392649139940972}. Best is trial 1 with value: 0.9300000071525574.\n"
     ]
    },
    {
     "name": "stdout",
     "output_type": "stream",
     "text": [
      "WARNING:tensorflow:Layer lstm_6 will not use cuDNN kernels since it doesn't meet the criteria. It will use a generic GPU kernel as fallback when running on GPU.\n",
      "WARNING:tensorflow:Layer lstm_6 will not use cuDNN kernels since it doesn't meet the criteria. It will use a generic GPU kernel as fallback when running on GPU.\n",
      "WARNING:tensorflow:Layer lstm_6 will not use cuDNN kernels since it doesn't meet the criteria. It will use a generic GPU kernel as fallback when running on GPU.\n"
     ]
    },
    {
     "name": "stderr",
     "output_type": "stream",
     "text": [
      "[I 2025-03-02 18:41:39,041] Trial 6 finished with value: 0.8949999809265137 and parameters: {'lstm_units': 108, 'dense_units': 60, 'dropout_rate': 0.5012806161367453}. Best is trial 1 with value: 0.9300000071525574.\n"
     ]
    },
    {
     "name": "stdout",
     "output_type": "stream",
     "text": [
      "WARNING:tensorflow:Layer lstm_7 will not use cuDNN kernels since it doesn't meet the criteria. It will use a generic GPU kernel as fallback when running on GPU.\n",
      "WARNING:tensorflow:Layer lstm_7 will not use cuDNN kernels since it doesn't meet the criteria. It will use a generic GPU kernel as fallback when running on GPU.\n",
      "WARNING:tensorflow:Layer lstm_7 will not use cuDNN kernels since it doesn't meet the criteria. It will use a generic GPU kernel as fallback when running on GPU.\n"
     ]
    },
    {
     "name": "stderr",
     "output_type": "stream",
     "text": [
      "[I 2025-03-02 18:42:28,549] Trial 7 finished with value: 0.8999999761581421 and parameters: {'lstm_units': 128, 'dense_units': 85, 'dropout_rate': 0.4526768411910652}. Best is trial 1 with value: 0.9300000071525574.\n"
     ]
    },
    {
     "name": "stdout",
     "output_type": "stream",
     "text": [
      "WARNING:tensorflow:Layer lstm_8 will not use cuDNN kernels since it doesn't meet the criteria. It will use a generic GPU kernel as fallback when running on GPU.\n",
      "WARNING:tensorflow:Layer lstm_8 will not use cuDNN kernels since it doesn't meet the criteria. It will use a generic GPU kernel as fallback when running on GPU.\n",
      "WARNING:tensorflow:Layer lstm_8 will not use cuDNN kernels since it doesn't meet the criteria. It will use a generic GPU kernel as fallback when running on GPU.\n"
     ]
    },
    {
     "name": "stderr",
     "output_type": "stream",
     "text": [
      "[I 2025-03-02 18:43:19,311] Trial 8 finished with value: 0.9300000071525574 and parameters: {'lstm_units': 130, 'dense_units': 53, 'dropout_rate': 0.4056086336377476}. Best is trial 1 with value: 0.9300000071525574.\n"
     ]
    },
    {
     "name": "stdout",
     "output_type": "stream",
     "text": [
      "WARNING:tensorflow:Layer lstm_9 will not use cuDNN kernels since it doesn't meet the criteria. It will use a generic GPU kernel as fallback when running on GPU.\n",
      "WARNING:tensorflow:Layer lstm_9 will not use cuDNN kernels since it doesn't meet the criteria. It will use a generic GPU kernel as fallback when running on GPU.\n",
      "WARNING:tensorflow:Layer lstm_9 will not use cuDNN kernels since it doesn't meet the criteria. It will use a generic GPU kernel as fallback when running on GPU.\n"
     ]
    },
    {
     "name": "stderr",
     "output_type": "stream",
     "text": [
      "[I 2025-03-02 18:44:06,341] Trial 9 finished with value: 0.8999999761581421 and parameters: {'lstm_units': 144, 'dense_units': 57, 'dropout_rate': 0.5944887601066607}. Best is trial 1 with value: 0.9300000071525574.\n"
     ]
    },
    {
     "name": "stdout",
     "output_type": "stream",
     "text": [
      "WARNING:tensorflow:Layer lstm_10 will not use cuDNN kernels since it doesn't meet the criteria. It will use a generic GPU kernel as fallback when running on GPU.\n",
      "WARNING:tensorflow:Layer lstm_10 will not use cuDNN kernels since it doesn't meet the criteria. It will use a generic GPU kernel as fallback when running on GPU.\n",
      "WARNING:tensorflow:Layer lstm_10 will not use cuDNN kernels since it doesn't meet the criteria. It will use a generic GPU kernel as fallback when running on GPU.\n"
     ]
    },
    {
     "name": "stderr",
     "output_type": "stream",
     "text": [
      "[I 2025-03-02 18:44:58,866] Trial 10 finished with value: 0.8650000095367432 and parameters: {'lstm_units': 148, 'dense_units': 117, 'dropout_rate': 0.3224365481896844}. Best is trial 1 with value: 0.9300000071525574.\n"
     ]
    },
    {
     "name": "stdout",
     "output_type": "stream",
     "text": [
      "WARNING:tensorflow:Layer lstm_11 will not use cuDNN kernels since it doesn't meet the criteria. It will use a generic GPU kernel as fallback when running on GPU.\n",
      "WARNING:tensorflow:Layer lstm_11 will not use cuDNN kernels since it doesn't meet the criteria. It will use a generic GPU kernel as fallback when running on GPU.\n",
      "WARNING:tensorflow:Layer lstm_11 will not use cuDNN kernels since it doesn't meet the criteria. It will use a generic GPU kernel as fallback when running on GPU.\n"
     ]
    },
    {
     "name": "stderr",
     "output_type": "stream",
     "text": [
      "[I 2025-03-02 18:45:47,344] Trial 11 finished with value: 0.8949999809265137 and parameters: {'lstm_units': 137, 'dense_units': 124, 'dropout_rate': 0.42975493783124596}. Best is trial 1 with value: 0.9300000071525574.\n"
     ]
    },
    {
     "name": "stdout",
     "output_type": "stream",
     "text": [
      "WARNING:tensorflow:Layer lstm_12 will not use cuDNN kernels since it doesn't meet the criteria. It will use a generic GPU kernel as fallback when running on GPU.\n",
      "WARNING:tensorflow:Layer lstm_12 will not use cuDNN kernels since it doesn't meet the criteria. It will use a generic GPU kernel as fallback when running on GPU.\n",
      "WARNING:tensorflow:Layer lstm_12 will not use cuDNN kernels since it doesn't meet the criteria. It will use a generic GPU kernel as fallback when running on GPU.\n"
     ]
    },
    {
     "name": "stderr",
     "output_type": "stream",
     "text": [
      "[I 2025-03-02 18:46:37,360] Trial 12 finished with value: 0.9350000023841858 and parameters: {'lstm_units': 118, 'dense_units': 93, 'dropout_rate': 0.42687640382320513}. Best is trial 12 with value: 0.9350000023841858.\n"
     ]
    },
    {
     "name": "stdout",
     "output_type": "stream",
     "text": [
      "WARNING:tensorflow:Layer lstm_13 will not use cuDNN kernels since it doesn't meet the criteria. It will use a generic GPU kernel as fallback when running on GPU.\n",
      "WARNING:tensorflow:Layer lstm_13 will not use cuDNN kernels since it doesn't meet the criteria. It will use a generic GPU kernel as fallback when running on GPU.\n",
      "WARNING:tensorflow:Layer lstm_13 will not use cuDNN kernels since it doesn't meet the criteria. It will use a generic GPU kernel as fallback when running on GPU.\n"
     ]
    },
    {
     "name": "stderr",
     "output_type": "stream",
     "text": [
      "[I 2025-03-02 18:47:27,110] Trial 13 finished with value: 0.9300000071525574 and parameters: {'lstm_units': 117, 'dense_units': 103, 'dropout_rate': 0.5496560545884908}. Best is trial 12 with value: 0.9350000023841858.\n"
     ]
    },
    {
     "name": "stdout",
     "output_type": "stream",
     "text": [
      "WARNING:tensorflow:Layer lstm_14 will not use cuDNN kernels since it doesn't meet the criteria. It will use a generic GPU kernel as fallback when running on GPU.\n",
      "WARNING:tensorflow:Layer lstm_14 will not use cuDNN kernels since it doesn't meet the criteria. It will use a generic GPU kernel as fallback when running on GPU.\n",
      "WARNING:tensorflow:Layer lstm_14 will not use cuDNN kernels since it doesn't meet the criteria. It will use a generic GPU kernel as fallback when running on GPU.\n"
     ]
    },
    {
     "name": "stderr",
     "output_type": "stream",
     "text": [
      "[I 2025-03-02 18:48:16,875] Trial 14 finished with value: 0.925000011920929 and parameters: {'lstm_units': 115, 'dense_units': 100, 'dropout_rate': 0.37856980055962697}. Best is trial 12 with value: 0.9350000023841858.\n"
     ]
    },
    {
     "name": "stdout",
     "output_type": "stream",
     "text": [
      "WARNING:tensorflow:Layer lstm_15 will not use cuDNN kernels since it doesn't meet the criteria. It will use a generic GPU kernel as fallback when running on GPU.\n",
      "WARNING:tensorflow:Layer lstm_15 will not use cuDNN kernels since it doesn't meet the criteria. It will use a generic GPU kernel as fallback when running on GPU.\n",
      "WARNING:tensorflow:Layer lstm_15 will not use cuDNN kernels since it doesn't meet the criteria. It will use a generic GPU kernel as fallback when running on GPU.\n"
     ]
    },
    {
     "name": "stderr",
     "output_type": "stream",
     "text": [
      "[I 2025-03-02 18:49:06,076] Trial 15 finished with value: 0.8399999737739563 and parameters: {'lstm_units': 102, 'dense_units': 97, 'dropout_rate': 0.10072130112305944}. Best is trial 12 with value: 0.9350000023841858.\n"
     ]
    },
    {
     "name": "stdout",
     "output_type": "stream",
     "text": [
      "WARNING:tensorflow:Layer lstm_16 will not use cuDNN kernels since it doesn't meet the criteria. It will use a generic GPU kernel as fallback when running on GPU.\n",
      "WARNING:tensorflow:Layer lstm_16 will not use cuDNN kernels since it doesn't meet the criteria. It will use a generic GPU kernel as fallback when running on GPU.\n",
      "WARNING:tensorflow:Layer lstm_16 will not use cuDNN kernels since it doesn't meet the criteria. It will use a generic GPU kernel as fallback when running on GPU.\n"
     ]
    },
    {
     "name": "stderr",
     "output_type": "stream",
     "text": [
      "[I 2025-03-02 18:49:52,879] Trial 16 finished with value: 0.9049999713897705 and parameters: {'lstm_units': 139, 'dense_units': 113, 'dropout_rate': 0.489564833170705}. Best is trial 12 with value: 0.9350000023841858.\n"
     ]
    },
    {
     "name": "stdout",
     "output_type": "stream",
     "text": [
      "WARNING:tensorflow:Layer lstm_17 will not use cuDNN kernels since it doesn't meet the criteria. It will use a generic GPU kernel as fallback when running on GPU.\n",
      "WARNING:tensorflow:Layer lstm_17 will not use cuDNN kernels since it doesn't meet the criteria. It will use a generic GPU kernel as fallback when running on GPU.\n",
      "WARNING:tensorflow:Layer lstm_17 will not use cuDNN kernels since it doesn't meet the criteria. It will use a generic GPU kernel as fallback when running on GPU.\n"
     ]
    },
    {
     "name": "stderr",
     "output_type": "stream",
     "text": [
      "[I 2025-03-02 18:50:42,055] Trial 17 finished with value: 0.9100000262260437 and parameters: {'lstm_units': 122, 'dense_units': 87, 'dropout_rate': 0.2990125243971975}. Best is trial 12 with value: 0.9350000023841858.\n"
     ]
    },
    {
     "name": "stdout",
     "output_type": "stream",
     "text": [
      "WARNING:tensorflow:Layer lstm_18 will not use cuDNN kernels since it doesn't meet the criteria. It will use a generic GPU kernel as fallback when running on GPU.\n",
      "WARNING:tensorflow:Layer lstm_18 will not use cuDNN kernels since it doesn't meet the criteria. It will use a generic GPU kernel as fallback when running on GPU.\n",
      "WARNING:tensorflow:Layer lstm_18 will not use cuDNN kernels since it doesn't meet the criteria. It will use a generic GPU kernel as fallback when running on GPU.\n"
     ]
    },
    {
     "name": "stderr",
     "output_type": "stream",
     "text": [
      "[I 2025-03-02 18:51:37,279] Trial 18 finished with value: 0.9150000214576721 and parameters: {'lstm_units': 112, 'dense_units': 74, 'dropout_rate': 0.36387586445538117}. Best is trial 12 with value: 0.9350000023841858.\n"
     ]
    },
    {
     "name": "stdout",
     "output_type": "stream",
     "text": [
      "WARNING:tensorflow:Layer lstm_19 will not use cuDNN kernels since it doesn't meet the criteria. It will use a generic GPU kernel as fallback when running on GPU.\n",
      "WARNING:tensorflow:Layer lstm_19 will not use cuDNN kernels since it doesn't meet the criteria. It will use a generic GPU kernel as fallback when running on GPU.\n",
      "WARNING:tensorflow:Layer lstm_19 will not use cuDNN kernels since it doesn't meet the criteria. It will use a generic GPU kernel as fallback when running on GPU.\n"
     ]
    },
    {
     "name": "stderr",
     "output_type": "stream",
     "text": [
      "[I 2025-03-02 18:52:30,782] Trial 19 finished with value: 0.9200000166893005 and parameters: {'lstm_units': 104, 'dense_units': 106, 'dropout_rate': 0.4749145357157044}. Best is trial 12 with value: 0.9350000023841858.\n"
     ]
    },
    {
     "name": "stdout",
     "output_type": "stream",
     "text": [
      "WARNING:tensorflow:Layer lstm_20 will not use cuDNN kernels since it doesn't meet the criteria. It will use a generic GPU kernel as fallback when running on GPU.\n",
      "WARNING:tensorflow:Layer lstm_20 will not use cuDNN kernels since it doesn't meet the criteria. It will use a generic GPU kernel as fallback when running on GPU.\n",
      "WARNING:tensorflow:Layer lstm_20 will not use cuDNN kernels since it doesn't meet the criteria. It will use a generic GPU kernel as fallback when running on GPU.\n"
     ]
    },
    {
     "name": "stderr",
     "output_type": "stream",
     "text": [
      "[I 2025-03-02 18:53:24,070] Trial 20 finished with value: 0.9150000214576721 and parameters: {'lstm_units': 132, 'dense_units': 128, 'dropout_rate': 0.2698863793110392}. Best is trial 12 with value: 0.9350000023841858.\n"
     ]
    },
    {
     "name": "stdout",
     "output_type": "stream",
     "text": [
      "WARNING:tensorflow:Layer lstm_21 will not use cuDNN kernels since it doesn't meet the criteria. It will use a generic GPU kernel as fallback when running on GPU.\n",
      "WARNING:tensorflow:Layer lstm_21 will not use cuDNN kernels since it doesn't meet the criteria. It will use a generic GPU kernel as fallback when running on GPU.\n",
      "WARNING:tensorflow:Layer lstm_21 will not use cuDNN kernels since it doesn't meet the criteria. It will use a generic GPU kernel as fallback when running on GPU.\n"
     ]
    },
    {
     "name": "stderr",
     "output_type": "stream",
     "text": [
      "[I 2025-03-02 18:54:13,003] Trial 21 finished with value: 0.9150000214576721 and parameters: {'lstm_units': 126, 'dense_units': 92, 'dropout_rate': 0.40820698777646564}. Best is trial 12 with value: 0.9350000023841858.\n"
     ]
    },
    {
     "name": "stdout",
     "output_type": "stream",
     "text": [
      "WARNING:tensorflow:Layer lstm_22 will not use cuDNN kernels since it doesn't meet the criteria. It will use a generic GPU kernel as fallback when running on GPU.\n",
      "WARNING:tensorflow:Layer lstm_22 will not use cuDNN kernels since it doesn't meet the criteria. It will use a generic GPU kernel as fallback when running on GPU.\n",
      "WARNING:tensorflow:Layer lstm_22 will not use cuDNN kernels since it doesn't meet the criteria. It will use a generic GPU kernel as fallback when running on GPU.\n"
     ]
    },
    {
     "name": "stderr",
     "output_type": "stream",
     "text": [
      "[I 2025-03-02 18:55:06,368] Trial 22 finished with value: 0.8650000095367432 and parameters: {'lstm_units': 143, 'dense_units': 68, 'dropout_rate': 0.4211085266405602}. Best is trial 12 with value: 0.9350000023841858.\n"
     ]
    },
    {
     "name": "stdout",
     "output_type": "stream",
     "text": [
      "WARNING:tensorflow:Layer lstm_23 will not use cuDNN kernels since it doesn't meet the criteria. It will use a generic GPU kernel as fallback when running on GPU.\n",
      "WARNING:tensorflow:Layer lstm_23 will not use cuDNN kernels since it doesn't meet the criteria. It will use a generic GPU kernel as fallback when running on GPU.\n",
      "WARNING:tensorflow:Layer lstm_23 will not use cuDNN kernels since it doesn't meet the criteria. It will use a generic GPU kernel as fallback when running on GPU.\n"
     ]
    },
    {
     "name": "stderr",
     "output_type": "stream",
     "text": [
      "[I 2025-03-02 18:55:55,907] Trial 23 finished with value: 0.9150000214576721 and parameters: {'lstm_units': 133, 'dense_units': 111, 'dropout_rate': 0.38981616646833434}. Best is trial 12 with value: 0.9350000023841858.\n"
     ]
    },
    {
     "name": "stdout",
     "output_type": "stream",
     "text": [
      "WARNING:tensorflow:Layer lstm_24 will not use cuDNN kernels since it doesn't meet the criteria. It will use a generic GPU kernel as fallback when running on GPU.\n",
      "WARNING:tensorflow:Layer lstm_24 will not use cuDNN kernels since it doesn't meet the criteria. It will use a generic GPU kernel as fallback when running on GPU.\n",
      "WARNING:tensorflow:Layer lstm_24 will not use cuDNN kernels since it doesn't meet the criteria. It will use a generic GPU kernel as fallback when running on GPU.\n"
     ]
    },
    {
     "name": "stderr",
     "output_type": "stream",
     "text": [
      "[I 2025-03-02 18:56:48,903] Trial 24 finished with value: 0.925000011920929 and parameters: {'lstm_units': 118, 'dense_units': 43, 'dropout_rate': 0.5317404036930317}. Best is trial 12 with value: 0.9350000023841858.\n"
     ]
    },
    {
     "name": "stdout",
     "output_type": "stream",
     "text": [
      "WARNING:tensorflow:Layer lstm_25 will not use cuDNN kernels since it doesn't meet the criteria. It will use a generic GPU kernel as fallback when running on GPU.\n",
      "WARNING:tensorflow:Layer lstm_25 will not use cuDNN kernels since it doesn't meet the criteria. It will use a generic GPU kernel as fallback when running on GPU.\n",
      "WARNING:tensorflow:Layer lstm_25 will not use cuDNN kernels since it doesn't meet the criteria. It will use a generic GPU kernel as fallback when running on GPU.\n"
     ]
    },
    {
     "name": "stderr",
     "output_type": "stream",
     "text": [
      "[I 2025-03-02 18:57:42,743] Trial 25 finished with value: 0.8600000143051147 and parameters: {'lstm_units': 128, 'dense_units': 79, 'dropout_rate': 0.35241197275411895}. Best is trial 12 with value: 0.9350000023841858.\n"
     ]
    },
    {
     "name": "stdout",
     "output_type": "stream",
     "text": [
      "WARNING:tensorflow:Layer lstm_26 will not use cuDNN kernels since it doesn't meet the criteria. It will use a generic GPU kernel as fallback when running on GPU.\n",
      "WARNING:tensorflow:Layer lstm_26 will not use cuDNN kernels since it doesn't meet the criteria. It will use a generic GPU kernel as fallback when running on GPU.\n",
      "WARNING:tensorflow:Layer lstm_26 will not use cuDNN kernels since it doesn't meet the criteria. It will use a generic GPU kernel as fallback when running on GPU.\n"
     ]
    },
    {
     "name": "stderr",
     "output_type": "stream",
     "text": [
      "[I 2025-03-02 18:58:42,777] Trial 26 finished with value: 0.8849999904632568 and parameters: {'lstm_units': 138, 'dense_units': 91, 'dropout_rate': 0.45994062135426317}. Best is trial 12 with value: 0.9350000023841858.\n"
     ]
    },
    {
     "name": "stdout",
     "output_type": "stream",
     "text": [
      "WARNING:tensorflow:Layer lstm_27 will not use cuDNN kernels since it doesn't meet the criteria. It will use a generic GPU kernel as fallback when running on GPU.\n",
      "WARNING:tensorflow:Layer lstm_27 will not use cuDNN kernels since it doesn't meet the criteria. It will use a generic GPU kernel as fallback when running on GPU.\n",
      "WARNING:tensorflow:Layer lstm_27 will not use cuDNN kernels since it doesn't meet the criteria. It will use a generic GPU kernel as fallback when running on GPU.\n"
     ]
    },
    {
     "name": "stderr",
     "output_type": "stream",
     "text": [
      "[I 2025-03-02 18:59:28,010] Trial 27 finished with value: 0.9100000262260437 and parameters: {'lstm_units': 123, 'dense_units': 118, 'dropout_rate': 0.4339377863725884}. Best is trial 12 with value: 0.9350000023841858.\n"
     ]
    },
    {
     "name": "stdout",
     "output_type": "stream",
     "text": [
      "WARNING:tensorflow:Layer lstm_28 will not use cuDNN kernels since it doesn't meet the criteria. It will use a generic GPU kernel as fallback when running on GPU.\n",
      "WARNING:tensorflow:Layer lstm_28 will not use cuDNN kernels since it doesn't meet the criteria. It will use a generic GPU kernel as fallback when running on GPU.\n",
      "WARNING:tensorflow:Layer lstm_28 will not use cuDNN kernels since it doesn't meet the criteria. It will use a generic GPU kernel as fallback when running on GPU.\n"
     ]
    },
    {
     "name": "stderr",
     "output_type": "stream",
     "text": [
      "[I 2025-03-02 19:00:13,838] Trial 28 finished with value: 0.8999999761581421 and parameters: {'lstm_units': 142, 'dense_units': 80, 'dropout_rate': 0.28917507529844144}. Best is trial 12 with value: 0.9350000023841858.\n"
     ]
    },
    {
     "name": "stdout",
     "output_type": "stream",
     "text": [
      "WARNING:tensorflow:Layer lstm_29 will not use cuDNN kernels since it doesn't meet the criteria. It will use a generic GPU kernel as fallback when running on GPU.\n",
      "WARNING:tensorflow:Layer lstm_29 will not use cuDNN kernels since it doesn't meet the criteria. It will use a generic GPU kernel as fallback when running on GPU.\n",
      "WARNING:tensorflow:Layer lstm_29 will not use cuDNN kernels since it doesn't meet the criteria. It will use a generic GPU kernel as fallback when running on GPU.\n"
     ]
    },
    {
     "name": "stderr",
     "output_type": "stream",
     "text": [
      "[I 2025-03-02 19:00:59,666] Trial 29 finished with value: 0.8550000190734863 and parameters: {'lstm_units': 131, 'dense_units': 64, 'dropout_rate': 0.2382142098397803}. Best is trial 12 with value: 0.9350000023841858.\n"
     ]
    },
    {
     "name": "stdout",
     "output_type": "stream",
     "text": [
      "WARNING:tensorflow:Layer lstm_30 will not use cuDNN kernels since it doesn't meet the criteria. It will use a generic GPU kernel as fallback when running on GPU.\n",
      "WARNING:tensorflow:Layer lstm_30 will not use cuDNN kernels since it doesn't meet the criteria. It will use a generic GPU kernel as fallback when running on GPU.\n",
      "WARNING:tensorflow:Layer lstm_30 will not use cuDNN kernels since it doesn't meet the criteria. It will use a generic GPU kernel as fallback when running on GPU.\n"
     ]
    },
    {
     "name": "stderr",
     "output_type": "stream",
     "text": [
      "[I 2025-03-02 19:01:44,148] Trial 30 finished with value: 0.9350000023841858 and parameters: {'lstm_units': 149, 'dense_units': 48, 'dropout_rate': 0.31724707384517536}. Best is trial 12 with value: 0.9350000023841858.\n"
     ]
    },
    {
     "name": "stdout",
     "output_type": "stream",
     "text": [
      "WARNING:tensorflow:Layer lstm_31 will not use cuDNN kernels since it doesn't meet the criteria. It will use a generic GPU kernel as fallback when running on GPU.\n",
      "WARNING:tensorflow:Layer lstm_31 will not use cuDNN kernels since it doesn't meet the criteria. It will use a generic GPU kernel as fallback when running on GPU.\n",
      "WARNING:tensorflow:Layer lstm_31 will not use cuDNN kernels since it doesn't meet the criteria. It will use a generic GPU kernel as fallback when running on GPU.\n"
     ]
    },
    {
     "name": "stderr",
     "output_type": "stream",
     "text": [
      "[I 2025-03-02 19:02:28,565] Trial 31 finished with value: 0.8799999952316284 and parameters: {'lstm_units': 149, 'dense_units': 49, 'dropout_rate': 0.33018569799969266}. Best is trial 12 with value: 0.9350000023841858.\n"
     ]
    },
    {
     "name": "stdout",
     "output_type": "stream",
     "text": [
      "WARNING:tensorflow:Layer lstm_32 will not use cuDNN kernels since it doesn't meet the criteria. It will use a generic GPU kernel as fallback when running on GPU.\n",
      "WARNING:tensorflow:Layer lstm_32 will not use cuDNN kernels since it doesn't meet the criteria. It will use a generic GPU kernel as fallback when running on GPU.\n",
      "WARNING:tensorflow:Layer lstm_32 will not use cuDNN kernels since it doesn't meet the criteria. It will use a generic GPU kernel as fallback when running on GPU.\n"
     ]
    },
    {
     "name": "stderr",
     "output_type": "stream",
     "text": [
      "[I 2025-03-02 19:03:13,282] Trial 32 finished with value: 0.8550000190734863 and parameters: {'lstm_units': 114, 'dense_units': 39, 'dropout_rate': 0.3883701177594123}. Best is trial 12 with value: 0.9350000023841858.\n"
     ]
    },
    {
     "name": "stdout",
     "output_type": "stream",
     "text": [
      "WARNING:tensorflow:Layer lstm_33 will not use cuDNN kernels since it doesn't meet the criteria. It will use a generic GPU kernel as fallback when running on GPU.\n",
      "WARNING:tensorflow:Layer lstm_33 will not use cuDNN kernels since it doesn't meet the criteria. It will use a generic GPU kernel as fallback when running on GPU.\n",
      "WARNING:tensorflow:Layer lstm_33 will not use cuDNN kernels since it doesn't meet the criteria. It will use a generic GPU kernel as fallback when running on GPU.\n"
     ]
    },
    {
     "name": "stderr",
     "output_type": "stream",
     "text": [
      "[I 2025-03-02 19:03:57,749] Trial 33 finished with value: 0.9049999713897705 and parameters: {'lstm_units': 146, 'dense_units': 42, 'dropout_rate': 0.22779402397457535}. Best is trial 12 with value: 0.9350000023841858.\n"
     ]
    },
    {
     "name": "stdout",
     "output_type": "stream",
     "text": [
      "WARNING:tensorflow:Layer lstm_34 will not use cuDNN kernels since it doesn't meet the criteria. It will use a generic GPU kernel as fallback when running on GPU.\n",
      "WARNING:tensorflow:Layer lstm_34 will not use cuDNN kernels since it doesn't meet the criteria. It will use a generic GPU kernel as fallback when running on GPU.\n",
      "WARNING:tensorflow:Layer lstm_34 will not use cuDNN kernels since it doesn't meet the criteria. It will use a generic GPU kernel as fallback when running on GPU.\n"
     ]
    },
    {
     "name": "stderr",
     "output_type": "stream",
     "text": [
      "[I 2025-03-02 19:04:43,999] Trial 34 finished with value: 0.9300000071525574 and parameters: {'lstm_units': 120, 'dense_units': 50, 'dropout_rate': 0.30727057487330184}. Best is trial 12 with value: 0.9350000023841858.\n"
     ]
    },
    {
     "name": "stdout",
     "output_type": "stream",
     "text": [
      "WARNING:tensorflow:Layer lstm_35 will not use cuDNN kernels since it doesn't meet the criteria. It will use a generic GPU kernel as fallback when running on GPU.\n",
      "WARNING:tensorflow:Layer lstm_35 will not use cuDNN kernels since it doesn't meet the criteria. It will use a generic GPU kernel as fallback when running on GPU.\n",
      "WARNING:tensorflow:Layer lstm_35 will not use cuDNN kernels since it doesn't meet the criteria. It will use a generic GPU kernel as fallback when running on GPU.\n"
     ]
    },
    {
     "name": "stderr",
     "output_type": "stream",
     "text": [
      "[I 2025-03-02 19:05:31,437] Trial 35 finished with value: 0.9049999713897705 and parameters: {'lstm_units': 127, 'dense_units': 33, 'dropout_rate': 0.20740989864264187}. Best is trial 12 with value: 0.9350000023841858.\n"
     ]
    },
    {
     "name": "stdout",
     "output_type": "stream",
     "text": [
      "WARNING:tensorflow:Layer lstm_36 will not use cuDNN kernels since it doesn't meet the criteria. It will use a generic GPU kernel as fallback when running on GPU.\n",
      "WARNING:tensorflow:Layer lstm_36 will not use cuDNN kernels since it doesn't meet the criteria. It will use a generic GPU kernel as fallback when running on GPU.\n",
      "WARNING:tensorflow:Layer lstm_36 will not use cuDNN kernels since it doesn't meet the criteria. It will use a generic GPU kernel as fallback when running on GPU.\n"
     ]
    },
    {
     "name": "stderr",
     "output_type": "stream",
     "text": [
      "[I 2025-03-02 19:06:16,533] Trial 36 finished with value: 0.9100000262260437 and parameters: {'lstm_units': 135, 'dense_units': 65, 'dropout_rate': 0.3527559124371018}. Best is trial 12 with value: 0.9350000023841858.\n"
     ]
    },
    {
     "name": "stdout",
     "output_type": "stream",
     "text": [
      "WARNING:tensorflow:Layer lstm_37 will not use cuDNN kernels since it doesn't meet the criteria. It will use a generic GPU kernel as fallback when running on GPU.\n",
      "WARNING:tensorflow:Layer lstm_37 will not use cuDNN kernels since it doesn't meet the criteria. It will use a generic GPU kernel as fallback when running on GPU.\n",
      "WARNING:tensorflow:Layer lstm_37 will not use cuDNN kernels since it doesn't meet the criteria. It will use a generic GPU kernel as fallback when running on GPU.\n"
     ]
    },
    {
     "name": "stderr",
     "output_type": "stream",
     "text": [
      "[I 2025-03-02 19:07:02,208] Trial 37 finished with value: 0.9100000262260437 and parameters: {'lstm_units': 140, 'dense_units': 49, 'dropout_rate': 0.27311770049432016}. Best is trial 12 with value: 0.9350000023841858.\n"
     ]
    },
    {
     "name": "stdout",
     "output_type": "stream",
     "text": [
      "WARNING:tensorflow:Layer lstm_38 will not use cuDNN kernels since it doesn't meet the criteria. It will use a generic GPU kernel as fallback when running on GPU.\n",
      "WARNING:tensorflow:Layer lstm_38 will not use cuDNN kernels since it doesn't meet the criteria. It will use a generic GPU kernel as fallback when running on GPU.\n",
      "WARNING:tensorflow:Layer lstm_38 will not use cuDNN kernels since it doesn't meet the criteria. It will use a generic GPU kernel as fallback when running on GPU.\n"
     ]
    },
    {
     "name": "stderr",
     "output_type": "stream",
     "text": [
      "[I 2025-03-02 19:07:46,119] Trial 38 finished with value: 0.8899999856948853 and parameters: {'lstm_units': 109, 'dense_units': 59, 'dropout_rate': 0.40273819667312716}. Best is trial 12 with value: 0.9350000023841858.\n"
     ]
    },
    {
     "name": "stdout",
     "output_type": "stream",
     "text": [
      "WARNING:tensorflow:Layer lstm_39 will not use cuDNN kernels since it doesn't meet the criteria. It will use a generic GPU kernel as fallback when running on GPU.\n",
      "WARNING:tensorflow:Layer lstm_39 will not use cuDNN kernels since it doesn't meet the criteria. It will use a generic GPU kernel as fallback when running on GPU.\n",
      "WARNING:tensorflow:Layer lstm_39 will not use cuDNN kernels since it doesn't meet the criteria. It will use a generic GPU kernel as fallback when running on GPU.\n"
     ]
    },
    {
     "name": "stderr",
     "output_type": "stream",
     "text": [
      "[I 2025-03-02 19:08:32,223] Trial 39 finished with value: 0.9300000071525574 and parameters: {'lstm_units': 129, 'dense_units': 54, 'dropout_rate': 0.5244541612815286}. Best is trial 12 with value: 0.9350000023841858.\n"
     ]
    },
    {
     "name": "stdout",
     "output_type": "stream",
     "text": [
      "WARNING:tensorflow:Layer lstm_40 will not use cuDNN kernels since it doesn't meet the criteria. It will use a generic GPU kernel as fallback when running on GPU.\n",
      "WARNING:tensorflow:Layer lstm_40 will not use cuDNN kernels since it doesn't meet the criteria. It will use a generic GPU kernel as fallback when running on GPU.\n",
      "WARNING:tensorflow:Layer lstm_40 will not use cuDNN kernels since it doesn't meet the criteria. It will use a generic GPU kernel as fallback when running on GPU.\n"
     ]
    },
    {
     "name": "stderr",
     "output_type": "stream",
     "text": [
      "[I 2025-03-02 19:09:17,423] Trial 40 finished with value: 0.925000011920929 and parameters: {'lstm_units': 150, 'dense_units': 94, 'dropout_rate': 0.43952045584143645}. Best is trial 12 with value: 0.9350000023841858.\n"
     ]
    },
    {
     "name": "stdout",
     "output_type": "stream",
     "text": [
      "WARNING:tensorflow:Layer lstm_41 will not use cuDNN kernels since it doesn't meet the criteria. It will use a generic GPU kernel as fallback when running on GPU.\n",
      "WARNING:tensorflow:Layer lstm_41 will not use cuDNN kernels since it doesn't meet the criteria. It will use a generic GPU kernel as fallback when running on GPU.\n",
      "WARNING:tensorflow:Layer lstm_41 will not use cuDNN kernels since it doesn't meet the criteria. It will use a generic GPU kernel as fallback when running on GPU.\n"
     ]
    },
    {
     "name": "stderr",
     "output_type": "stream",
     "text": [
      "[I 2025-03-02 19:10:02,871] Trial 41 finished with value: 0.8949999809265137 and parameters: {'lstm_units': 118, 'dense_units': 103, 'dropout_rate': 0.5884056459615223}. Best is trial 12 with value: 0.9350000023841858.\n"
     ]
    },
    {
     "name": "stdout",
     "output_type": "stream",
     "text": [
      "WARNING:tensorflow:Layer lstm_42 will not use cuDNN kernels since it doesn't meet the criteria. It will use a generic GPU kernel as fallback when running on GPU.\n",
      "WARNING:tensorflow:Layer lstm_42 will not use cuDNN kernels since it doesn't meet the criteria. It will use a generic GPU kernel as fallback when running on GPU.\n",
      "WARNING:tensorflow:Layer lstm_42 will not use cuDNN kernels since it doesn't meet the criteria. It will use a generic GPU kernel as fallback when running on GPU.\n"
     ]
    },
    {
     "name": "stderr",
     "output_type": "stream",
     "text": [
      "[I 2025-03-02 19:10:47,984] Trial 42 finished with value: 0.9150000214576721 and parameters: {'lstm_units': 116, 'dense_units': 104, 'dropout_rate': 0.5616132514998862}. Best is trial 12 with value: 0.9350000023841858.\n"
     ]
    },
    {
     "name": "stdout",
     "output_type": "stream",
     "text": [
      "WARNING:tensorflow:Layer lstm_43 will not use cuDNN kernels since it doesn't meet the criteria. It will use a generic GPU kernel as fallback when running on GPU.\n",
      "WARNING:tensorflow:Layer lstm_43 will not use cuDNN kernels since it doesn't meet the criteria. It will use a generic GPU kernel as fallback when running on GPU.\n",
      "WARNING:tensorflow:Layer lstm_43 will not use cuDNN kernels since it doesn't meet the criteria. It will use a generic GPU kernel as fallback when running on GPU.\n"
     ]
    },
    {
     "name": "stderr",
     "output_type": "stream",
     "text": [
      "[I 2025-03-02 19:11:32,489] Trial 43 finished with value: 0.925000011920929 and parameters: {'lstm_units': 125, 'dense_units': 110, 'dropout_rate': 0.3292554193905227}. Best is trial 12 with value: 0.9350000023841858.\n"
     ]
    },
    {
     "name": "stdout",
     "output_type": "stream",
     "text": [
      "WARNING:tensorflow:Layer lstm_44 will not use cuDNN kernels since it doesn't meet the criteria. It will use a generic GPU kernel as fallback when running on GPU.\n",
      "WARNING:tensorflow:Layer lstm_44 will not use cuDNN kernels since it doesn't meet the criteria. It will use a generic GPU kernel as fallback when running on GPU.\n",
      "WARNING:tensorflow:Layer lstm_44 will not use cuDNN kernels since it doesn't meet the criteria. It will use a generic GPU kernel as fallback when running on GPU.\n"
     ]
    },
    {
     "name": "stderr",
     "output_type": "stream",
     "text": [
      "[I 2025-03-02 19:12:18,806] Trial 44 finished with value: 0.8399999737739563 and parameters: {'lstm_units': 120, 'dense_units': 99, 'dropout_rate': 0.5127309051456045}. Best is trial 12 with value: 0.9350000023841858.\n"
     ]
    },
    {
     "name": "stdout",
     "output_type": "stream",
     "text": [
      "WARNING:tensorflow:Layer lstm_45 will not use cuDNN kernels since it doesn't meet the criteria. It will use a generic GPU kernel as fallback when running on GPU.\n",
      "WARNING:tensorflow:Layer lstm_45 will not use cuDNN kernels since it doesn't meet the criteria. It will use a generic GPU kernel as fallback when running on GPU.\n",
      "WARNING:tensorflow:Layer lstm_45 will not use cuDNN kernels since it doesn't meet the criteria. It will use a generic GPU kernel as fallback when running on GPU.\n"
     ]
    },
    {
     "name": "stderr",
     "output_type": "stream",
     "text": [
      "[I 2025-03-02 19:13:04,641] Trial 45 finished with value: 0.9300000071525574 and parameters: {'lstm_units': 106, 'dense_units': 87, 'dropout_rate': 0.5482610934084827}. Best is trial 12 with value: 0.9350000023841858.\n"
     ]
    },
    {
     "name": "stdout",
     "output_type": "stream",
     "text": [
      "WARNING:tensorflow:Layer lstm_46 will not use cuDNN kernels since it doesn't meet the criteria. It will use a generic GPU kernel as fallback when running on GPU.\n",
      "WARNING:tensorflow:Layer lstm_46 will not use cuDNN kernels since it doesn't meet the criteria. It will use a generic GPU kernel as fallback when running on GPU.\n",
      "WARNING:tensorflow:Layer lstm_46 will not use cuDNN kernels since it doesn't meet the criteria. It will use a generic GPU kernel as fallback when running on GPU.\n"
     ]
    },
    {
     "name": "stderr",
     "output_type": "stream",
     "text": [
      "[I 2025-03-02 19:13:49,923] Trial 46 finished with value: 0.9300000071525574 and parameters: {'lstm_units': 112, 'dense_units': 121, 'dropout_rate': 0.37894380617914375}. Best is trial 12 with value: 0.9350000023841858.\n"
     ]
    },
    {
     "name": "stdout",
     "output_type": "stream",
     "text": [
      "WARNING:tensorflow:Layer lstm_47 will not use cuDNN kernels since it doesn't meet the criteria. It will use a generic GPU kernel as fallback when running on GPU.\n",
      "WARNING:tensorflow:Layer lstm_47 will not use cuDNN kernels since it doesn't meet the criteria. It will use a generic GPU kernel as fallback when running on GPU.\n",
      "WARNING:tensorflow:Layer lstm_47 will not use cuDNN kernels since it doesn't meet the criteria. It will use a generic GPU kernel as fallback when running on GPU.\n"
     ]
    },
    {
     "name": "stderr",
     "output_type": "stream",
     "text": [
      "[I 2025-03-02 19:14:35,744] Trial 47 finished with value: 0.9200000166893005 and parameters: {'lstm_units': 135, 'dense_units': 108, 'dropout_rate': 0.484494389311178}. Best is trial 12 with value: 0.9350000023841858.\n"
     ]
    },
    {
     "name": "stdout",
     "output_type": "stream",
     "text": [
      "WARNING:tensorflow:Layer lstm_48 will not use cuDNN kernels since it doesn't meet the criteria. It will use a generic GPU kernel as fallback when running on GPU.\n",
      "WARNING:tensorflow:Layer lstm_48 will not use cuDNN kernels since it doesn't meet the criteria. It will use a generic GPU kernel as fallback when running on GPU.\n",
      "WARNING:tensorflow:Layer lstm_48 will not use cuDNN kernels since it doesn't meet the criteria. It will use a generic GPU kernel as fallback when running on GPU.\n"
     ]
    },
    {
     "name": "stderr",
     "output_type": "stream",
     "text": [
      "[I 2025-03-02 19:15:21,393] Trial 48 finished with value: 0.9100000262260437 and parameters: {'lstm_units': 122, 'dense_units': 97, 'dropout_rate': 0.45815490211860255}. Best is trial 12 with value: 0.9350000023841858.\n"
     ]
    },
    {
     "name": "stdout",
     "output_type": "stream",
     "text": [
      "WARNING:tensorflow:Layer lstm_49 will not use cuDNN kernels since it doesn't meet the criteria. It will use a generic GPU kernel as fallback when running on GPU.\n",
      "WARNING:tensorflow:Layer lstm_49 will not use cuDNN kernels since it doesn't meet the criteria. It will use a generic GPU kernel as fallback when running on GPU.\n",
      "WARNING:tensorflow:Layer lstm_49 will not use cuDNN kernels since it doesn't meet the criteria. It will use a generic GPU kernel as fallback when running on GPU.\n"
     ]
    },
    {
     "name": "stderr",
     "output_type": "stream",
     "text": [
      "[I 2025-03-02 19:16:06,592] Trial 49 finished with value: 0.8100000023841858 and parameters: {'lstm_units': 147, 'dense_units': 75, 'dropout_rate': 0.1636053320959739}. Best is trial 12 with value: 0.9350000023841858.\n"
     ]
    },
    {
     "name": "stdout",
     "output_type": "stream",
     "text": [
      "Best trial:\n",
      "  Value:  0.9350000023841858\n",
      "  Params: \n",
      "    lstm_units: 118\n",
      "    dense_units: 93\n",
      "    dropout_rate: 0.42687640382320513\n"
     ]
    }
   ],
   "source": [
    "!pip install optuna\n",
    "from keras.models import Model\n",
    "from keras.layers import Input, Embedding, Conv1D, MaxPooling1D, Concatenate, Bidirectional, LSTM, Dense, Dropout\n",
    "from keras.layers import Flatten\n",
    "from keras.utils import to_categorical\n",
    "from keras.callbacks import EarlyStopping\n",
    "import optuna\n",
    "\n",
    "# Define the function that creates the model\n",
    "def create_model(lstm_units, dense_units, dropout_rate):\n",
    "    text_input = Input(shape=(max_length,), name='text_input')\n",
    "    x = Embedding(num_words, 300, weights=[embedding_matrix], input_length=max_length, trainable=False)(text_input)\n",
    "    x = Conv1D(100, 5, activation='relu')(x)\n",
    "    x = MaxPooling1D()(x)\n",
    "    x = Bidirectional(LSTM(lstm_units, dropout=dropout_rate, recurrent_dropout=dropout_rate))(x)\n",
    "\n",
    "    personality_input = Input(shape=(3,), name='personality_input')\n",
    "    p = Dense(32, activation='relu')(personality_input)\n",
    "\n",
    "    combined = Concatenate()([x, p])\n",
    "\n",
    "    x = Dense(dense_units, activation='relu')(combined)\n",
    "    x = Dropout(dropout_rate)(x)\n",
    "    output = Dense(2, activation='softmax')(x)\n",
    "\n",
    "    model = Model(inputs=[text_input, personality_input], outputs=output)\n",
    "    model.compile(loss='categorical_crossentropy', optimizer='adam', metrics=['accuracy'])\n",
    "    return model\n",
    "\n",
    "# Define the target function\n",
    "def objective(trial):\n",
    "    # Hyperparameters\n",
    "    lstm_units = trial.suggest_int('lstm_units', 100, 150)\n",
    "    dense_units = trial.suggest_int('dense_units', 32, 128)\n",
    "    dropout_rate = trial.suggest_float('dropout_rate', 0.1, 0.6)\n",
    "\n",
    "    model = create_model(lstm_units, dense_units, dropout_rate)\n",
    "\n",
    "    # Train the model\n",
    "    model.fit([X_train_padded, X_train[['Extraversion', 'Agreeableness', 'Neuroticism']]], y_train,\n",
    "              batch_size=32,\n",
    "              epochs=10,\n",
    "              verbose=0)\n",
    "\n",
    "    # Evaluate the model\n",
    "    scores = model.evaluate([X_test_padded, X_test[['Extraversion', 'Agreeableness', 'Neuroticism']]], y_test, verbose=0)\n",
    "    return scores[1]\n",
    "\n",
    "# Creat Optuna study\n",
    "study = optuna.create_study(direction='maximize')\n",
    "study.optimize(objective, n_trials=50)\n",
    "\n",
    "print(\"Best trial:\")\n",
    "trial = study.best_trial\n",
    "\n",
    "print(\"  Value: \", trial.value)\n",
    "print(\"  Params: \")\n",
    "for key, value in trial.params.items():\n",
    "    print(f\"    {key}: {value}\")"
   ]
  },
  {
   "cell_type": "code",
   "execution_count": 11,
   "metadata": {},
   "outputs": [
    {
     "name": "stdout",
     "output_type": "stream",
     "text": [
      "WARNING:tensorflow:Layer lstm_52 will not use cuDNN kernels since it doesn't meet the criteria. It will use a generic GPU kernel as fallback when running on GPU.\n",
      "WARNING:tensorflow:Layer lstm_52 will not use cuDNN kernels since it doesn't meet the criteria. It will use a generic GPU kernel as fallback when running on GPU.\n",
      "WARNING:tensorflow:Layer lstm_52 will not use cuDNN kernels since it doesn't meet the criteria. It will use a generic GPU kernel as fallback when running on GPU.\n",
      "Epoch 1/20\n",
      "25/25 [==============================] - 7s 170ms/step - loss: 2.4267 - accuracy: 0.6125\n",
      "Epoch 2/20\n",
      "25/25 [==============================] - 5s 186ms/step - loss: 1.6249 - accuracy: 0.6350\n",
      "Epoch 3/20\n",
      "25/25 [==============================] - 5s 214ms/step - loss: 0.8615 - accuracy: 0.6888\n",
      "Epoch 4/20\n",
      "25/25 [==============================] - 7s 269ms/step - loss: 0.4860 - accuracy: 0.8000\n",
      "Epoch 5/20\n",
      "25/25 [==============================] - 5s 212ms/step - loss: 0.3771 - accuracy: 0.8687\n",
      "Epoch 6/20\n",
      "25/25 [==============================] - 5s 184ms/step - loss: 0.3695 - accuracy: 0.8512\n",
      "Epoch 7/20\n",
      "25/25 [==============================] - 4s 174ms/step - loss: 0.2745 - accuracy: 0.9087\n",
      "Epoch 8/20\n",
      "25/25 [==============================] - 5s 182ms/step - loss: 0.2486 - accuracy: 0.9175\n",
      "Epoch 9/20\n",
      "25/25 [==============================] - 4s 167ms/step - loss: 0.2157 - accuracy: 0.9237\n",
      "Epoch 10/20\n",
      "25/25 [==============================] - 4s 168ms/step - loss: 0.2285 - accuracy: 0.9225\n",
      "Epoch 11/20\n",
      "25/25 [==============================] - 4s 170ms/step - loss: 0.1901 - accuracy: 0.9475\n",
      "Epoch 12/20\n",
      "25/25 [==============================] - 5s 182ms/step - loss: 0.1264 - accuracy: 0.9638\n",
      "Epoch 13/20\n",
      "25/25 [==============================] - 4s 176ms/step - loss: 0.1448 - accuracy: 0.9513\n",
      "Epoch 14/20\n",
      "25/25 [==============================] - 4s 166ms/step - loss: 0.1073 - accuracy: 0.9700\n",
      "Epoch 15/20\n",
      "25/25 [==============================] - 4s 166ms/step - loss: 0.0879 - accuracy: 0.9737\n",
      "Epoch 16/20\n",
      "25/25 [==============================] - 5s 184ms/step - loss: 0.0766 - accuracy: 0.9762\n",
      "Epoch 17/20\n",
      "25/25 [==============================] - 4s 177ms/step - loss: 0.0429 - accuracy: 0.9862\n",
      "Epoch 18/20\n",
      "25/25 [==============================] - 4s 170ms/step - loss: 0.0402 - accuracy: 0.9887\n",
      "Epoch 19/20\n",
      "25/25 [==============================] - 4s 165ms/step - loss: 0.0304 - accuracy: 0.9925\n",
      "Epoch 20/20\n",
      "25/25 [==============================] - 4s 163ms/step - loss: 0.0191 - accuracy: 0.9987\n",
      "7/7 [==============================] - 0s 32ms/step\n",
      "Word2Vec + CNN-BiLSTM Results:\n",
      "              precision    recall  f1-score   support\n",
      "\n",
      "           0     0.8725    0.9570    0.9128        93\n",
      "           1     0.9592    0.8785    0.9171       107\n",
      "\n",
      "    accuracy                         0.9150       200\n",
      "   macro avg     0.9159    0.9177    0.9149       200\n",
      "weighted avg     0.9189    0.9150    0.9151       200\n",
      "\n"
     ]
    }
   ],
   "source": [
    "# Retrain the model using the best parameters\n",
    "best_params = study.best_params\n",
    "model = create_model(best_params['lstm_units'], best_params['dense_units'], best_params['dropout_rate'])\n",
    "model.fit([X_train_padded, X_train[['Extraversion', 'Agreeableness', 'Neuroticism']]], y_train,\n",
    "          batch_size=32,\n",
    "          epochs=20)\n",
    "\n",
    "# Evaluate the model on the test set\n",
    "y_prob = model.predict([X_test_padded, X_test[['Extraversion', 'Agreeableness', 'Neuroticism']]])\n",
    "y_pred = np.argmax(y_prob, axis=1)\n",
    "y_test_labels = np.argmax(y_test, axis=1)\n",
    "\n",
    "print('Word2Vec + CNN-BiLSTM Results:')\n",
    "print(classification_report(y_test_labels, y_pred, digits=4))"
   ]
  },
  {
   "cell_type": "code",
   "execution_count": 12,
   "metadata": {},
   "outputs": [
    {
     "data": {
      "image/png": "[encoded data removed]",
      "text/plain": [
       "<Figure size 800x600 with 2 Axes>"
      ]
     },
     "metadata": {},
     "output_type": "display_data"
    }
   ],
   "source": [
    "# Calculate confusion matrix\n",
    "rf_cm = confusion_matrix(y_test_labels, y_pred)\n",
    "\n",
    "# Visualize confusion matrix\n",
    "plt.figure(figsize=(8, 6))\n",
    "sns.heatmap(rf_cm, annot=True, fmt='d', cmap='Blues', xticklabels=['Non-suicide', 'Suicide'], yticklabels=['Non-suicide', 'Suicide'])\n",
    "plt.xlabel('Predicted Labels')\n",
    "plt.ylabel('True Labels')\n",
    "plt.title('Confusion Matrix (Word2Vec + CNN-BiLSTM)')\n",
    "plt.show()"
   ]
  },
  {
   "cell_type": "markdown",
   "metadata": {},
   "source": [
    "Experiment: CNN + biLSTM + Attention"
   ]
  },
  {
   "cell_type": "code",
   "execution_count": 27,
   "metadata": {},
   "outputs": [],
   "source": [
    "from keras.layers import Attention, Dot, Activation, RepeatVector, Permute, Lambda, BatchNormalization\n",
    "import keras.backend as K\n",
    "from keras.callbacks import EarlyStopping\n",
    "from keras.regularizers import l2\n",
    "\n",
    "def create_model_with_attention(lstm_units, dense_units, dropout_rate, l2_lambda, learning_rate):\n",
    "    text_input = Input(shape=(max_length,), name='text_input')\n",
    "    x = Embedding(num_words, 300, weights=[embedding_matrix], input_length=max_length, trainable=False)(text_input)\n",
    "    x = Conv1D(128, 5, activation='relu', kernel_regularizer=l2(l2_lambda))(x)\n",
    "    x = MaxPooling1D()(x)\n",
    "\n",
    "    # BiLSTM Layer\n",
    "    lstm_out = Bidirectional(LSTM(lstm_units, return_sequences=True, dropout=dropout_rate, recurrent_dropout=dropout_rate))(x)\n",
    "\n",
    "    # Apply Built-in Attention\n",
    "    attention = Attention()([lstm_out, lstm_out])  # Self-attention\n",
    "\n",
    "    # # Flatten Attention Output\n",
    "    flatten = Flatten()(attention)\n",
    "\n",
    "    # Batch Normalization\n",
    "    bn = BatchNormalization()(flatten)\n",
    "\n",
    "    personality_input = Input(shape=(3,), name='personality_input')\n",
    "    p = Dense(32, activation='relu')(personality_input)\n",
    "\n",
    "    combined = Concatenate()([bn, p])\n",
    "\n",
    "    dense1 = Dense(dense_units, activation=\"relu\", kernel_regularizer=l2(l2_lambda))(combined)\n",
    "    drop1 = Dropout(dropout_rate)(dense1)\n",
    "    dense2 = Dense(dense_units // 2, activation=\"relu\", kernel_regularizer=l2(l2_lambda))(drop1)  # Half-sized Dense Layer\n",
    "    drop2 = Dropout(dropout_rate)(dense2)\n",
    "    output = Dense(2, activation='softmax', kernel_regularizer=l2(l2_lambda))(drop2)\n",
    "\n",
    "    # personality_input = Input(shape=(3,), name='personality_input')\n",
    "    # p = Dense(32, activation='relu')(personality_input)\n",
    "\n",
    "    # combined = Concatenate()([flatten, p])\n",
    "\n",
    "    # x = Dense(dense_units, activation='relu')(combined)\n",
    "    # x = Dropout(dropout_rate)(x)\n",
    "    # output = Dense(2, activation='softmax')(x)\n",
    "    model = Model(inputs=[text_input, personality_input], outputs=output)\n",
    "    optimizer = tf.keras.optimizers.Adam(learning_rate=learning_rate)\n",
    "    model.compile(loss='categorical_crossentropy', optimizer=optimizer, metrics=['accuracy'])\n",
    "    return model\n",
    "    "
   ]
  },
  {
   "cell_type": "code",
   "execution_count": 29,
   "metadata": {},
   "outputs": [
    {
     "name": "stdout",
     "output_type": "stream",
     "text": [
      "WARNING:tensorflow:Layer lstm_62 will not use cuDNN kernels since it doesn't meet the criteria. It will use a generic GPU kernel as fallback when running on GPU.\n",
      "WARNING:tensorflow:Layer lstm_62 will not use cuDNN kernels since it doesn't meet the criteria. It will use a generic GPU kernel as fallback when running on GPU.\n",
      "WARNING:tensorflow:Layer lstm_62 will not use cuDNN kernels since it doesn't meet the criteria. It will use a generic GPU kernel as fallback when running on GPU.\n",
      "Epoch 1/40\n",
      "2/2 [==============================] - 4s 484ms/step - loss: 5.4377 - accuracy: 0.4600\n",
      "Epoch 2/40\n",
      "2/2 [==============================] - 1s 415ms/step - loss: 4.8699 - accuracy: 0.5713\n",
      "Epoch 3/40\n",
      "2/2 [==============================] - 1s 417ms/step - loss: 4.9354 - accuracy: 0.5938\n",
      "Epoch 4/40\n",
      "2/2 [==============================] - 1s 407ms/step - loss: 4.7122 - accuracy: 0.6288\n",
      "Epoch 5/40\n",
      "2/2 [==============================] - 1s 478ms/step - loss: 4.7197 - accuracy: 0.6050\n",
      "Epoch 6/40\n",
      "2/2 [==============================] - 1s 404ms/step - loss: 4.5578 - accuracy: 0.6237\n",
      "Epoch 7/40\n",
      "2/2 [==============================] - 1s 483ms/step - loss: 4.5880 - accuracy: 0.6087\n",
      "Epoch 8/40\n",
      "2/2 [==============================] - 1s 400ms/step - loss: 4.4969 - accuracy: 0.6187\n",
      "Epoch 9/40\n",
      "2/2 [==============================] - 1s 416ms/step - loss: 4.3964 - accuracy: 0.6087\n",
      "Epoch 10/40\n",
      "2/2 [==============================] - 1s 416ms/step - loss: 4.3118 - accuracy: 0.6513\n",
      "Epoch 11/40\n",
      "2/2 [==============================] - 1s 385ms/step - loss: 4.3609 - accuracy: 0.6388\n",
      "Epoch 12/40\n",
      "2/2 [==============================] - 1s 401ms/step - loss: 4.2885 - accuracy: 0.6625\n",
      "Epoch 13/40\n",
      "2/2 [==============================] - 1s 483ms/step - loss: 4.3221 - accuracy: 0.6413\n",
      "Epoch 14/40\n",
      "2/2 [==============================] - 1s 404ms/step - loss: 4.2296 - accuracy: 0.6612\n",
      "Epoch 15/40\n",
      "2/2 [==============================] - 1s 415ms/step - loss: 4.1498 - accuracy: 0.6875\n",
      "Epoch 16/40\n",
      "2/2 [==============================] - 1s 395ms/step - loss: 4.1203 - accuracy: 0.7125\n",
      "Epoch 17/40\n",
      "2/2 [==============================] - 1s 479ms/step - loss: 4.1005 - accuracy: 0.7025\n",
      "Epoch 18/40\n",
      "2/2 [==============================] - 1s 417ms/step - loss: 4.0526 - accuracy: 0.7163\n",
      "Epoch 19/40\n",
      "2/2 [==============================] - 1s 412ms/step - loss: 4.0255 - accuracy: 0.7138\n",
      "Epoch 20/40\n",
      "2/2 [==============================] - 1s 464ms/step - loss: 4.0389 - accuracy: 0.7163\n",
      "Epoch 21/40\n",
      "2/2 [==============================] - 1s 489ms/step - loss: 3.9966 - accuracy: 0.7312\n",
      "Epoch 22/40\n",
      "2/2 [==============================] - 1s 400ms/step - loss: 3.9540 - accuracy: 0.7550\n",
      "Epoch 23/40\n",
      "2/2 [==============================] - 1s 400ms/step - loss: 3.9472 - accuracy: 0.7538\n",
      "Epoch 24/40\n",
      "2/2 [==============================] - 1s 472ms/step - loss: 3.8427 - accuracy: 0.7763\n",
      "Epoch 25/40\n",
      "2/2 [==============================] - 1s 489ms/step - loss: 3.9048 - accuracy: 0.7862\n",
      "Epoch 26/40\n",
      "2/2 [==============================] - 1s 390ms/step - loss: 3.8828 - accuracy: 0.7563\n",
      "Epoch 27/40\n",
      "2/2 [==============================] - 1s 435ms/step - loss: 3.8779 - accuracy: 0.7650\n",
      "Epoch 28/40\n",
      "2/2 [==============================] - 1s 403ms/step - loss: 3.7989 - accuracy: 0.8062\n",
      "Epoch 29/40\n",
      "2/2 [==============================] - 1s 400ms/step - loss: 3.8294 - accuracy: 0.7600\n",
      "Epoch 30/40\n",
      "2/2 [==============================] - 1s 435ms/step - loss: 3.7478 - accuracy: 0.8175\n",
      "Epoch 31/40\n",
      "2/2 [==============================] - 1s 446ms/step - loss: 3.7357 - accuracy: 0.7912\n",
      "Epoch 32/40\n",
      "2/2 [==============================] - 1s 409ms/step - loss: 3.7344 - accuracy: 0.8112\n",
      "Epoch 33/40\n",
      "2/2 [==============================] - 1s 400ms/step - loss: 3.7177 - accuracy: 0.8112\n",
      "Epoch 34/40\n",
      "2/2 [==============================] - 1s 417ms/step - loss: 3.6844 - accuracy: 0.8188\n",
      "Epoch 35/40\n",
      "2/2 [==============================] - 1s 434ms/step - loss: 3.6403 - accuracy: 0.8375\n",
      "Epoch 36/40\n",
      "2/2 [==============================] - 1s 383ms/step - loss: 3.6710 - accuracy: 0.8163\n",
      "Epoch 37/40\n",
      "2/2 [==============================] - 1s 400ms/step - loss: 3.6568 - accuracy: 0.8125\n",
      "Epoch 38/40\n",
      "2/2 [==============================] - 1s 384ms/step - loss: 3.6357 - accuracy: 0.8163\n",
      "Epoch 39/40\n",
      "2/2 [==============================] - 1s 417ms/step - loss: 3.6121 - accuracy: 0.8288\n",
      "Epoch 40/40\n",
      "2/2 [==============================] - 1s 419ms/step - loss: 3.6081 - accuracy: 0.8313\n",
      "7/7 [==============================] - 1s 48ms/step\n",
      "Word2Vec + CNN-BiLSTM + Attention Results:\n",
      "              precision    recall  f1-score   support\n",
      "\n",
      "           0     0.9333    0.4516    0.6087        93\n",
      "           1     0.6710    0.9720    0.7939       107\n",
      "\n",
      "    accuracy                         0.7300       200\n",
      "   macro avg     0.8022    0.7118    0.7013       200\n",
      "weighted avg     0.7930    0.7300    0.7078       200\n",
      "\n"
     ]
    }
   ],
   "source": [
    "#use params from reference\n",
    "lstm_units = 64\n",
    "dropout_rate = 0.5\n",
    "l2_lambda = 0.01\n",
    "learning_rate = 0.0001\n",
    "\n",
    "model = create_model_with_attention(lstm_units, lstm_units, dropout_rate, l2_lambda, learning_rate)\n",
    "early_stopping = EarlyStopping(monitor='loss', patience=4, restore_best_weights=True)\n",
    "\n",
    "model.fit([X_train_padded, train_scores], y_train, batch_size=512, epochs=40, callbacks=[early_stopping])\n",
    "\n",
    "y_prob = model.predict([X_test_padded, test_scores])\n",
    "y_pred = np.argmax(y_prob, axis=1)\n",
    "y_test_labels = np.argmax(y_test, axis=1)\n",
    "\n",
    "print('Word2Vec + CNN-BiLSTM + Attention Results:')\n",
    "print(classification_report(y_test_labels, y_pred, digits=4))"
   ]
  },
  {
   "cell_type": "code",
   "execution_count": 30,
   "metadata": {},
   "outputs": [
    {
     "data": {
      "image/png": "[encoded data removed]",
      "text/plain": [
       "<Figure size 800x600 with 2 Axes>"
      ]
     },
     "metadata": {},
     "output_type": "display_data"
    }
   ],
   "source": [
    "# Calculate confusion matrix\n",
    "rf_cm = confusion_matrix(y_test_labels, y_pred)\n",
    "\n",
    "# Visualize confusion matrix\n",
    "plt.figure(figsize=(8, 6))\n",
    "sns.heatmap(rf_cm, annot=True, fmt='d', cmap='Blues', xticklabels=['Non-suicide', 'Suicide'], yticklabels=['Non-suicide', 'Suicide'])\n",
    "plt.xlabel('Predicted Labels')\n",
    "plt.ylabel('True Labels')\n",
    "plt.title('Confusion Matrix (Word2Vec + CNN-BiLSTM  + Attention)')\n",
    "plt.show()"
   ]
  },
  {
   "cell_type": "markdown",
   "metadata": {},
   "source": [
    "BERT"
   ]
  },
  {
   "cell_type": "code",
   "execution_count": 5,
   "metadata": {},
   "outputs": [
    {
     "data": {
      "text/html": [
       "<div>\n",
       "<style scoped>\n",
       "    .dataframe tbody tr th:only-of-type {\n",
       "        vertical-align: middle;\n",
       "    }\n",
       "\n",
       "    .dataframe tbody tr th {\n",
       "        vertical-align: top;\n",
       "    }\n",
       "\n",
       "    .dataframe thead th {\n",
       "        text-align: right;\n",
       "    }\n",
       "</style>\n",
       "<table border=\"1\" class=\"dataframe\">\n",
       "  <thead>\n",
       "    <tr style=\"text-align: right;\">\n",
       "      <th></th>\n",
       "      <th>text</th>\n",
       "      <th>preprocessed_text_bert</th>\n",
       "    </tr>\n",
       "  </thead>\n",
       "  <tbody>\n",
       "    <tr>\n",
       "      <th>0</th>\n",
       "      <td>Ex Wife Threatening SuicideRecently I left my ...</td>\n",
       "      <td>ex wife threatening suiciderecently i left my ...</td>\n",
       "    </tr>\n",
       "    <tr>\n",
       "      <th>1</th>\n",
       "      <td>Am I weird I don't get affected by compliments...</td>\n",
       "      <td>am i weird i don't get affected by compliments...</td>\n",
       "    </tr>\n",
       "    <tr>\n",
       "      <th>2</th>\n",
       "      <td>Finally 2020 is almost over... So I can never ...</td>\n",
       "      <td>finally 2020 is almost over ... so i can never...</td>\n",
       "    </tr>\n",
       "    <tr>\n",
       "      <th>3</th>\n",
       "      <td>Everyone wants to be \"edgy\" and it's making me...</td>\n",
       "      <td>everyone wants to be edgy and it's making me s...</td>\n",
       "    </tr>\n",
       "    <tr>\n",
       "      <th>4</th>\n",
       "      <td>I took the rest of my sleeping pills and my pa...</td>\n",
       "      <td>i took the rest of my sleeping pills and my pa...</td>\n",
       "    </tr>\n",
       "    <tr>\n",
       "      <th>5</th>\n",
       "      <td>Can you imagine getting old? Me neither.Wrinkl...</td>\n",
       "      <td>can you imagine getting old ? me neither.wrink...</td>\n",
       "    </tr>\n",
       "    <tr>\n",
       "      <th>6</th>\n",
       "      <td>Do you think getting hit by a train would be p...</td>\n",
       "      <td>do you think getting hit by a train would be p...</td>\n",
       "    </tr>\n",
       "    <tr>\n",
       "      <th>7</th>\n",
       "      <td>death, continuedI posted here before and saw s...</td>\n",
       "      <td>death , continuedi posted here before and saw ...</td>\n",
       "    </tr>\n",
       "    <tr>\n",
       "      <th>8</th>\n",
       "      <td>Fuck the verizon smart family app I can’t even...</td>\n",
       "      <td>fuck the verizon smart family app i can ’ t ev...</td>\n",
       "    </tr>\n",
       "    <tr>\n",
       "      <th>9</th>\n",
       "      <td>I’m scared.   Everything just seems to be gett...</td>\n",
       "      <td>i ’ m scared . everything just seems to be get...</td>\n",
       "    </tr>\n",
       "  </tbody>\n",
       "</table>\n",
       "</div>"
      ],
      "text/plain": [
       "                                                text  \\\n",
       "0  Ex Wife Threatening SuicideRecently I left my ...   \n",
       "1  Am I weird I don't get affected by compliments...   \n",
       "2  Finally 2020 is almost over... So I can never ...   \n",
       "3  Everyone wants to be \"edgy\" and it's making me...   \n",
       "4  I took the rest of my sleeping pills and my pa...   \n",
       "5  Can you imagine getting old? Me neither.Wrinkl...   \n",
       "6  Do you think getting hit by a train would be p...   \n",
       "7  death, continuedI posted here before and saw s...   \n",
       "8  Fuck the verizon smart family app I can’t even...   \n",
       "9  I’m scared.   Everything just seems to be gett...   \n",
       "\n",
       "                              preprocessed_text_bert  \n",
       "0  ex wife threatening suiciderecently i left my ...  \n",
       "1  am i weird i don't get affected by compliments...  \n",
       "2  finally 2020 is almost over ... so i can never...  \n",
       "3  everyone wants to be edgy and it's making me s...  \n",
       "4  i took the rest of my sleeping pills and my pa...  \n",
       "5  can you imagine getting old ? me neither.wrink...  \n",
       "6  do you think getting hit by a train would be p...  \n",
       "7  death , continuedi posted here before and saw ...  \n",
       "8  fuck the verizon smart family app i can ’ t ev...  \n",
       "9  i ’ m scared . everything just seems to be get...  "
      ]
     },
     "execution_count": 5,
     "metadata": {},
     "output_type": "execute_result"
    }
   ],
   "source": [
    "# BERT preprocessor does not require stopword, punctuation removal or tokenization, lemmatization\n",
    "def preprocess_bert(text):\n",
    "    tokenizer = TweetTokenizer(reduce_len=True)\n",
    "\n",
    "    # Remove URLs\n",
    "    text = re.sub(r'http\\S+', '', text)\n",
    "\n",
    "    # Lowercasing\n",
    "    text = text.lower()\n",
    "\n",
    "    tokens = tokenizer.tokenize(text)\n",
    "    tokens = [word for word in tokens if word not in ['\"','#ff', 'ff', 'rt']]\n",
    "    text = ' '.join(tokens)\n",
    "\n",
    "    return text\n",
    "\n",
    "data['preprocessed_text_bert'] = data.text.apply(preprocess_bert)\n",
    "data[['text','preprocessed_text_bert']].head(10)"
   ]
  },
  {
   "cell_type": "code",
   "execution_count": 7,
   "metadata": {},
   "outputs": [
    {
     "name": "stdout",
     "output_type": "stream",
     "text": [
      "Epoch 1 finished.\n",
      "Epoch 2 finished.\n",
      "Epoch 3 finished.\n",
      "Epoch 4 finished.\n",
      "Epoch 5 finished.\n",
      "Epoch 6 finished.\n",
      "Epoch 7 finished.\n",
      "Epoch 8 finished.\n",
      "Epoch 9 finished.\n",
      "Epoch 10 finished.\n",
      "BERT with personality Results:\n",
      "              precision    recall  f1-score   support\n",
      "\n",
      "           0     0.9479    0.9100    0.9286       100\n",
      "           1     0.9135    0.9500    0.9314       100\n",
      "\n",
      "    accuracy                         0.9300       200\n",
      "   macro avg     0.9307    0.9300    0.9300       200\n",
      "weighted avg     0.9307    0.9300    0.9300       200\n",
      "\n"
     ]
    }
   ],
   "source": [
    "import torch\n",
    "import torch.nn as nn\n",
    "from torch.utils.data import DataLoader, RandomSampler, SequentialSampler, TensorDataset, random_split\n",
    "from transformers import BertTokenizer, BertModel\n",
    "from torch.optim import AdamW\n",
    "from sklearn.metrics import classification_report\n",
    "import pandas as pd\n",
    "\n",
    "# Process the labels, making sure all labels are between 0 and 1\n",
    "labels = data['class']\n",
    "\n",
    "# Processing text\n",
    "texts = data['preprocessed_text_bert']\n",
    "tokenizer = BertTokenizer.from_pretrained('bert-base-uncased')\n",
    "\n",
    "# Encode the text data as BERT input\n",
    "encoded_data = tokenizer.batch_encode_plus(\n",
    "    texts,\n",
    "    add_special_tokens=True,\n",
    "    return_attention_mask=True,\n",
    "    padding='max_length',\n",
    "    max_length=256,\n",
    "    truncation=True,\n",
    "    return_tensors='pt'\n",
    ")\n",
    "\n",
    "input_ids = encoded_data['input_ids']\n",
    "attention_masks = encoded_data['attention_mask']\n",
    "\n",
    "# Handle additional features\n",
    "extra_features = data[['Extraversion', 'Agreeableness', 'Neuroticism']].values\n",
    "extra_features = torch.tensor(extra_features, dtype=torch.float32)\n",
    "\n",
    "# Create the label tensor and make sure it's a Long\n",
    "labels = torch.tensor(labels, dtype=torch.long)\n",
    "\n",
    "# Creat TensorDataset\n",
    "dataset = TensorDataset(input_ids, attention_masks, extra_features, labels)\n",
    "\n",
    "# Split dataset\n",
    "train_size = int(0.8 * len(dataset))\n",
    "val_size = len(dataset) - train_size\n",
    "train_dataset, val_dataset = random_split(dataset, [train_size, val_size])\n",
    "\n",
    "# Create DataLoader\n",
    "train_dataloader = DataLoader(train_dataset, sampler=RandomSampler(train_dataset), batch_size=8)\n",
    "validation_dataloader = DataLoader(val_dataset, sampler=SequentialSampler(val_dataset), batch_size=8)\n",
    "\n",
    "# Define the model\n",
    "class BertWithExtraFeatures(nn.Module):\n",
    "    def __init__(self, bert_model, extra_feature_size, num_labels):\n",
    "        super(BertWithExtraFeatures, self).__init__()\n",
    "        self.bert = bert_model\n",
    "        self.dropout = nn.Dropout(0.3)\n",
    "        self.extra_feature_size = extra_feature_size\n",
    "        self.num_labels = num_labels\n",
    "\n",
    "        self.classifier = nn.Sequential(\n",
    "            nn.Linear(bert_model.config.hidden_size + extra_feature_size, 256),\n",
    "            nn.ReLU(),\n",
    "            nn.Dropout(0.3),\n",
    "            nn.Linear(256, num_labels)\n",
    "        )\n",
    "\n",
    "    def forward(self, input_ids, attention_mask, extra_features):\n",
    "        bert_outputs = self.bert(input_ids=input_ids, attention_mask=attention_mask)\n",
    "        pooled_output = bert_outputs.pooler_output\n",
    "        combined_output = torch.cat((pooled_output, extra_features), dim=1)\n",
    "        combined_output = self.dropout(combined_output)\n",
    "        logits = self.classifier(combined_output)\n",
    "        return logits\n",
    "\n",
    "# Initialize the BERT model\n",
    "bert_model = BertModel.from_pretrained('bert-base-uncased')\n",
    "model = BertWithExtraFeatures(bert_model, extra_feature_size=3, num_labels=2)\n",
    "\n",
    "# Use CUDA (if available)\n",
    "device = torch.device('cuda' if torch.cuda.is_available() else 'cpu')\n",
    "model.to(device)\n",
    "\n",
    "# Define the optimizer\n",
    "optimizer = AdamW(model.parameters(), lr=1e-5)\n",
    "\n",
    "# Train and validate the model\n",
    "for epoch in range(10):\n",
    "    # Train the loop\n",
    "    model.train()\n",
    "    for step, batch in enumerate(train_dataloader):\n",
    "        batch = tuple(b.to(device) for b in batch)\n",
    "        b_input_ids, b_input_mask, b_extra_features, b_labels = batch\n",
    "        model.zero_grad()\n",
    "        logits = model(b_input_ids, b_input_mask, b_extra_features)\n",
    "        loss = nn.CrossEntropyLoss()(logits, b_labels)\n",
    "        loss.backward()\n",
    "        optimizer.step()\n",
    "    print(f\"Epoch {epoch+1} finished.\")\n",
    "\n",
    "    # Validate the loop\n",
    "    model.eval()\n",
    "    val_labels = []\n",
    "    val_preds = []\n",
    "\n",
    "    for batch in validation_dataloader:\n",
    "        batch = tuple(b.to(device) for b in batch)\n",
    "        b_input_ids, b_input_mask, b_extra_features, b_labels = batch\n",
    "\n",
    "        with torch.no_grad():\n",
    "            logits = model(b_input_ids, b_input_mask, b_extra_features)\n",
    "\n",
    "        predictions = torch.argmax(logits, dim=1).cpu().numpy()\n",
    "        label_ids = b_labels.cpu().numpy()\n",
    "\n",
    "        val_labels.extend(label_ids)\n",
    "        val_preds.extend(predictions)\n",
    "\n",
    "print('BERT with personality Results:')\n",
    "print(classification_report(val_labels, val_preds, digits=4))"
   ]
  },
  {
   "cell_type": "markdown",
   "metadata": {},
   "source": [
    "#### Hyperparameter optimization"
   ]
  },
  {
   "cell_type": "code",
   "execution_count": 10,
   "metadata": {},
   "outputs": [
    {
     "name": "stdout",
     "output_type": "stream",
     "text": [
      "Requirement already satisfied: optuna in c:\\users\\pc\\documents\\master_project\\suicide-ideation-detection-in-social-media-using-personality-traits-main\\venv\\lib\\site-packages (4.2.1)\n",
      "Requirement already satisfied: alembic>=1.5.0 in c:\\users\\pc\\documents\\master_project\\suicide-ideation-detection-in-social-media-using-personality-traits-main\\venv\\lib\\site-packages (from optuna) (1.14.1)\n",
      "Requirement already satisfied: colorlog in c:\\users\\pc\\documents\\master_project\\suicide-ideation-detection-in-social-media-using-personality-traits-main\\venv\\lib\\site-packages (from optuna) (6.9.0)\n",
      "Requirement already satisfied: numpy in c:\\users\\pc\\documents\\master_project\\suicide-ideation-detection-in-social-media-using-personality-traits-main\\venv\\lib\\site-packages (from optuna) (1.26.4)\n",
      "Requirement already satisfied: packaging>=20.0 in c:\\users\\pc\\documents\\master_project\\suicide-ideation-detection-in-social-media-using-personality-traits-main\\venv\\lib\\site-packages (from optuna) (24.2)\n",
      "Requirement already satisfied: sqlalchemy>=1.4.2 in c:\\users\\pc\\documents\\master_project\\suicide-ideation-detection-in-social-media-using-personality-traits-main\\venv\\lib\\site-packages (from optuna) (2.0.38)\n",
      "Requirement already satisfied: tqdm in c:\\users\\pc\\documents\\master_project\\suicide-ideation-detection-in-social-media-using-personality-traits-main\\venv\\lib\\site-packages (from optuna) (4.67.1)\n",
      "Requirement already satisfied: PyYAML in c:\\users\\pc\\documents\\master_project\\suicide-ideation-detection-in-social-media-using-personality-traits-main\\venv\\lib\\site-packages (from optuna) (6.0.2)\n",
      "Requirement already satisfied: Mako in c:\\users\\pc\\documents\\master_project\\suicide-ideation-detection-in-social-media-using-personality-traits-main\\venv\\lib\\site-packages (from alembic>=1.5.0->optuna) (1.3.9)\n",
      "Requirement already satisfied: typing-extensions>=4 in c:\\users\\pc\\documents\\master_project\\suicide-ideation-detection-in-social-media-using-personality-traits-main\\venv\\lib\\site-packages (from alembic>=1.5.0->optuna) (4.12.2)\n",
      "Requirement already satisfied: greenlet!=0.4.17 in c:\\users\\pc\\documents\\master_project\\suicide-ideation-detection-in-social-media-using-personality-traits-main\\venv\\lib\\site-packages (from sqlalchemy>=1.4.2->optuna) (3.1.1)\n",
      "Requirement already satisfied: colorama in c:\\users\\pc\\documents\\master_project\\suicide-ideation-detection-in-social-media-using-personality-traits-main\\venv\\lib\\site-packages (from colorlog->optuna) (0.4.6)\n",
      "Requirement already satisfied: MarkupSafe>=0.9.2 in c:\\users\\pc\\documents\\master_project\\suicide-ideation-detection-in-social-media-using-personality-traits-main\\venv\\lib\\site-packages (from Mako->alembic>=1.5.0->optuna) (3.0.2)\n"
     ]
    },
    {
     "name": "stderr",
     "output_type": "stream",
     "text": [
      "[I 2025-03-02 21:25:22,135] A new study created in memory with name: no-name-c2c987d0-ed36-4625-97fc-ee9e86a0251a\n",
      "C:\\Users\\PC\\AppData\\Local\\Temp\\ipykernel_24856\\3861845633.py:76: FutureWarning: suggest_loguniform has been deprecated in v3.0.0. This feature will be removed in v6.0.0. See https://github.com/optuna/optuna/releases/tag/v3.0.0. Use suggest_float(..., log=True) instead.\n",
      "  lr = trial.suggest_loguniform('lr', 1e-6, 1e-3)  # Expand the scope\n",
      "C:\\Users\\PC\\AppData\\Local\\Temp\\ipykernel_24856\\3861845633.py:77: FutureWarning: suggest_uniform has been deprecated in v3.0.0. This feature will be removed in v6.0.0. See https://github.com/optuna/optuna/releases/tag/v3.0.0. Use suggest_float instead.\n",
      "  dropout_rate = trial.suggest_uniform('dropout_rate', 0.1, 0.5)\n",
      "C:\\Users\\PC\\AppData\\Local\\Temp\\ipykernel_24856\\3861845633.py:78: FutureWarning: suggest_loguniform has been deprecated in v3.0.0. This feature will be removed in v6.0.0. See https://github.com/optuna/optuna/releases/tag/v3.0.0. Use suggest_float(..., log=True) instead.\n",
      "  weight_decay = trial.suggest_loguniform('weight_decay', 1e-6, 1e-2)  # Expand the scope\n",
      "c:\\Users\\PC\\Documents\\Master_Project\\Suicide-Ideation-Detection-in-Social-Media-Using-Personality-Traits-main\\venv\\lib\\site-packages\\transformers\\optimization.py:640: FutureWarning: This implementation of AdamW is deprecated and will be removed in a future version. Use the PyTorch implementation torch.optim.AdamW instead, or set `no_deprecation_warning=True` to disable this warning\n",
      "  warnings.warn(\n",
      "[I 2025-03-02 21:26:25,042] Trial 0 finished with value: 0.8950131253281333 and parameters: {'lr': 1.4566252233960065e-05, 'dropout_rate': 0.10375262384411443, 'weight_decay': 0.0020607586387631866}. Best is trial 0 with value: 0.8950131253281333.\n",
      "C:\\Users\\PC\\AppData\\Local\\Temp\\ipykernel_24856\\3861845633.py:76: FutureWarning: suggest_loguniform has been deprecated in v3.0.0. This feature will be removed in v6.0.0. See https://github.com/optuna/optuna/releases/tag/v3.0.0. Use suggest_float(..., log=True) instead.\n",
      "  lr = trial.suggest_loguniform('lr', 1e-6, 1e-3)  # Expand the scope\n",
      "C:\\Users\\PC\\AppData\\Local\\Temp\\ipykernel_24856\\3861845633.py:77: FutureWarning: suggest_uniform has been deprecated in v3.0.0. This feature will be removed in v6.0.0. See https://github.com/optuna/optuna/releases/tag/v3.0.0. Use suggest_float instead.\n",
      "  dropout_rate = trial.suggest_uniform('dropout_rate', 0.1, 0.5)\n",
      "C:\\Users\\PC\\AppData\\Local\\Temp\\ipykernel_24856\\3861845633.py:78: FutureWarning: suggest_loguniform has been deprecated in v3.0.0. This feature will be removed in v6.0.0. See https://github.com/optuna/optuna/releases/tag/v3.0.0. Use suggest_float(..., log=True) instead.\n",
      "  weight_decay = trial.suggest_loguniform('weight_decay', 1e-6, 1e-2)  # Expand the scope\n",
      "c:\\Users\\PC\\Documents\\Master_Project\\Suicide-Ideation-Detection-in-Social-Media-Using-Personality-Traits-main\\venv\\lib\\site-packages\\transformers\\optimization.py:640: FutureWarning: This implementation of AdamW is deprecated and will be removed in a future version. Use the PyTorch implementation torch.optim.AdamW instead, or set `no_deprecation_warning=True` to disable this warning\n",
      "  warnings.warn(\n",
      "[I 2025-03-02 21:27:28,009] Trial 1 finished with value: 0.9050118824265166 and parameters: {'lr': 8.202689122264227e-06, 'dropout_rate': 0.3821198865206429, 'weight_decay': 2.3769136906345238e-05}. Best is trial 1 with value: 0.9050118824265166.\n",
      "C:\\Users\\PC\\AppData\\Local\\Temp\\ipykernel_24856\\3861845633.py:76: FutureWarning: suggest_loguniform has been deprecated in v3.0.0. This feature will be removed in v6.0.0. See https://github.com/optuna/optuna/releases/tag/v3.0.0. Use suggest_float(..., log=True) instead.\n",
      "  lr = trial.suggest_loguniform('lr', 1e-6, 1e-3)  # Expand the scope\n",
      "C:\\Users\\PC\\AppData\\Local\\Temp\\ipykernel_24856\\3861845633.py:77: FutureWarning: suggest_uniform has been deprecated in v3.0.0. This feature will be removed in v6.0.0. See https://github.com/optuna/optuna/releases/tag/v3.0.0. Use suggest_float instead.\n",
      "  dropout_rate = trial.suggest_uniform('dropout_rate', 0.1, 0.5)\n",
      "C:\\Users\\PC\\AppData\\Local\\Temp\\ipykernel_24856\\3861845633.py:78: FutureWarning: suggest_loguniform has been deprecated in v3.0.0. This feature will be removed in v6.0.0. See https://github.com/optuna/optuna/releases/tag/v3.0.0. Use suggest_float(..., log=True) instead.\n",
      "  weight_decay = trial.suggest_loguniform('weight_decay', 1e-6, 1e-2)  # Expand the scope\n",
      "c:\\Users\\PC\\Documents\\Master_Project\\Suicide-Ideation-Detection-in-Social-Media-Using-Personality-Traits-main\\venv\\lib\\site-packages\\transformers\\optimization.py:640: FutureWarning: This implementation of AdamW is deprecated and will be removed in a future version. Use the PyTorch implementation torch.optim.AdamW instead, or set `no_deprecation_warning=True` to disable this warning\n",
      "  warnings.warn(\n",
      "[I 2025-03-02 21:28:30,408] Trial 2 finished with value: 0.920016006402561 and parameters: {'lr': 5.5432220198375186e-05, 'dropout_rate': 0.18649119522052318, 'weight_decay': 0.0009819669125018702}. Best is trial 2 with value: 0.920016006402561.\n",
      "C:\\Users\\PC\\AppData\\Local\\Temp\\ipykernel_24856\\3861845633.py:76: FutureWarning: suggest_loguniform has been deprecated in v3.0.0. This feature will be removed in v6.0.0. See https://github.com/optuna/optuna/releases/tag/v3.0.0. Use suggest_float(..., log=True) instead.\n",
      "  lr = trial.suggest_loguniform('lr', 1e-6, 1e-3)  # Expand the scope\n",
      "C:\\Users\\PC\\AppData\\Local\\Temp\\ipykernel_24856\\3861845633.py:77: FutureWarning: suggest_uniform has been deprecated in v3.0.0. This feature will be removed in v6.0.0. See https://github.com/optuna/optuna/releases/tag/v3.0.0. Use suggest_float instead.\n",
      "  dropout_rate = trial.suggest_uniform('dropout_rate', 0.1, 0.5)\n",
      "C:\\Users\\PC\\AppData\\Local\\Temp\\ipykernel_24856\\3861845633.py:78: FutureWarning: suggest_loguniform has been deprecated in v3.0.0. This feature will be removed in v6.0.0. See https://github.com/optuna/optuna/releases/tag/v3.0.0. Use suggest_float(..., log=True) instead.\n",
      "  weight_decay = trial.suggest_loguniform('weight_decay', 1e-6, 1e-2)  # Expand the scope\n",
      "c:\\Users\\PC\\Documents\\Master_Project\\Suicide-Ideation-Detection-in-Social-Media-Using-Personality-Traits-main\\venv\\lib\\site-packages\\transformers\\optimization.py:640: FutureWarning: This implementation of AdamW is deprecated and will be removed in a future version. Use the PyTorch implementation torch.optim.AdamW instead, or set `no_deprecation_warning=True` to disable this warning\n",
      "  warnings.warn(\n",
      "[I 2025-03-02 21:29:32,864] Trial 3 finished with value: 0.9249868589021552 and parameters: {'lr': 0.00014027633797222044, 'dropout_rate': 0.1473022850903088, 'weight_decay': 8.925256799918836e-06}. Best is trial 3 with value: 0.9249868589021552.\n",
      "C:\\Users\\PC\\AppData\\Local\\Temp\\ipykernel_24856\\3861845633.py:76: FutureWarning: suggest_loguniform has been deprecated in v3.0.0. This feature will be removed in v6.0.0. See https://github.com/optuna/optuna/releases/tag/v3.0.0. Use suggest_float(..., log=True) instead.\n",
      "  lr = trial.suggest_loguniform('lr', 1e-6, 1e-3)  # Expand the scope\n",
      "C:\\Users\\PC\\AppData\\Local\\Temp\\ipykernel_24856\\3861845633.py:77: FutureWarning: suggest_uniform has been deprecated in v3.0.0. This feature will be removed in v6.0.0. See https://github.com/optuna/optuna/releases/tag/v3.0.0. Use suggest_float instead.\n",
      "  dropout_rate = trial.suggest_uniform('dropout_rate', 0.1, 0.5)\n",
      "C:\\Users\\PC\\AppData\\Local\\Temp\\ipykernel_24856\\3861845633.py:78: FutureWarning: suggest_loguniform has been deprecated in v3.0.0. This feature will be removed in v6.0.0. See https://github.com/optuna/optuna/releases/tag/v3.0.0. Use suggest_float(..., log=True) instead.\n",
      "  weight_decay = trial.suggest_loguniform('weight_decay', 1e-6, 1e-2)  # Expand the scope\n",
      "c:\\Users\\PC\\Documents\\Master_Project\\Suicide-Ideation-Detection-in-Social-Media-Using-Personality-Traits-main\\venv\\lib\\site-packages\\transformers\\optimization.py:640: FutureWarning: This implementation of AdamW is deprecated and will be removed in a future version. Use the PyTorch implementation torch.optim.AdamW instead, or set `no_deprecation_warning=True` to disable this warning\n",
      "  warnings.warn(\n",
      "[I 2025-03-02 21:30:35,361] Trial 4 finished with value: 0.7742390841453946 and parameters: {'lr': 4.4731299375650956e-06, 'dropout_rate': 0.2750599753258368, 'weight_decay': 0.00016560578025655648}. Best is trial 3 with value: 0.9249868589021552.\n",
      "C:\\Users\\PC\\AppData\\Local\\Temp\\ipykernel_24856\\3861845633.py:76: FutureWarning: suggest_loguniform has been deprecated in v3.0.0. This feature will be removed in v6.0.0. See https://github.com/optuna/optuna/releases/tag/v3.0.0. Use suggest_float(..., log=True) instead.\n",
      "  lr = trial.suggest_loguniform('lr', 1e-6, 1e-3)  # Expand the scope\n",
      "C:\\Users\\PC\\AppData\\Local\\Temp\\ipykernel_24856\\3861845633.py:77: FutureWarning: suggest_uniform has been deprecated in v3.0.0. This feature will be removed in v6.0.0. See https://github.com/optuna/optuna/releases/tag/v3.0.0. Use suggest_float instead.\n",
      "  dropout_rate = trial.suggest_uniform('dropout_rate', 0.1, 0.5)\n",
      "C:\\Users\\PC\\AppData\\Local\\Temp\\ipykernel_24856\\3861845633.py:78: FutureWarning: suggest_loguniform has been deprecated in v3.0.0. This feature will be removed in v6.0.0. See https://github.com/optuna/optuna/releases/tag/v3.0.0. Use suggest_float(..., log=True) instead.\n",
      "  weight_decay = trial.suggest_loguniform('weight_decay', 1e-6, 1e-2)  # Expand the scope\n",
      "c:\\Users\\PC\\Documents\\Master_Project\\Suicide-Ideation-Detection-in-Social-Media-Using-Personality-Traits-main\\venv\\lib\\site-packages\\transformers\\optimization.py:640: FutureWarning: This implementation of AdamW is deprecated and will be removed in a future version. Use the PyTorch implementation torch.optim.AdamW instead, or set `no_deprecation_warning=True` to disable this warning\n",
      "  warnings.warn(\n",
      "[I 2025-03-02 21:31:38,032] Trial 5 finished with value: 0.8999599959996 and parameters: {'lr': 1.1915996470333365e-05, 'dropout_rate': 0.41460075815453024, 'weight_decay': 1.1075533951032663e-05}. Best is trial 3 with value: 0.9249868589021552.\n",
      "C:\\Users\\PC\\AppData\\Local\\Temp\\ipykernel_24856\\3861845633.py:76: FutureWarning: suggest_loguniform has been deprecated in v3.0.0. This feature will be removed in v6.0.0. See https://github.com/optuna/optuna/releases/tag/v3.0.0. Use suggest_float(..., log=True) instead.\n",
      "  lr = trial.suggest_loguniform('lr', 1e-6, 1e-3)  # Expand the scope\n",
      "C:\\Users\\PC\\AppData\\Local\\Temp\\ipykernel_24856\\3861845633.py:77: FutureWarning: suggest_uniform has been deprecated in v3.0.0. This feature will be removed in v6.0.0. See https://github.com/optuna/optuna/releases/tag/v3.0.0. Use suggest_float instead.\n",
      "  dropout_rate = trial.suggest_uniform('dropout_rate', 0.1, 0.5)\n",
      "C:\\Users\\PC\\AppData\\Local\\Temp\\ipykernel_24856\\3861845633.py:78: FutureWarning: suggest_loguniform has been deprecated in v3.0.0. This feature will be removed in v6.0.0. See https://github.com/optuna/optuna/releases/tag/v3.0.0. Use suggest_float(..., log=True) instead.\n",
      "  weight_decay = trial.suggest_loguniform('weight_decay', 1e-6, 1e-2)  # Expand the scope\n",
      "c:\\Users\\PC\\Documents\\Master_Project\\Suicide-Ideation-Detection-in-Social-Media-Using-Personality-Traits-main\\venv\\lib\\site-packages\\transformers\\optimization.py:640: FutureWarning: This implementation of AdamW is deprecated and will be removed in a future version. Use the PyTorch implementation torch.optim.AdamW instead, or set `no_deprecation_warning=True` to disable this warning\n",
      "  warnings.warn(\n",
      "[I 2025-03-02 21:32:40,947] Trial 6 finished with value: 0.5895889724310777 and parameters: {'lr': 1.3006410316091886e-06, 'dropout_rate': 0.4752338389424734, 'weight_decay': 0.0001409793188816079}. Best is trial 3 with value: 0.9249868589021552.\n",
      "C:\\Users\\PC\\AppData\\Local\\Temp\\ipykernel_24856\\3861845633.py:76: FutureWarning: suggest_loguniform has been deprecated in v3.0.0. This feature will be removed in v6.0.0. See https://github.com/optuna/optuna/releases/tag/v3.0.0. Use suggest_float(..., log=True) instead.\n",
      "  lr = trial.suggest_loguniform('lr', 1e-6, 1e-3)  # Expand the scope\n",
      "C:\\Users\\PC\\AppData\\Local\\Temp\\ipykernel_24856\\3861845633.py:77: FutureWarning: suggest_uniform has been deprecated in v3.0.0. This feature will be removed in v6.0.0. See https://github.com/optuna/optuna/releases/tag/v3.0.0. Use suggest_float instead.\n",
      "  dropout_rate = trial.suggest_uniform('dropout_rate', 0.1, 0.5)\n",
      "C:\\Users\\PC\\AppData\\Local\\Temp\\ipykernel_24856\\3861845633.py:78: FutureWarning: suggest_loguniform has been deprecated in v3.0.0. This feature will be removed in v6.0.0. See https://github.com/optuna/optuna/releases/tag/v3.0.0. Use suggest_float(..., log=True) instead.\n",
      "  weight_decay = trial.suggest_loguniform('weight_decay', 1e-6, 1e-2)  # Expand the scope\n",
      "c:\\Users\\PC\\Documents\\Master_Project\\Suicide-Ideation-Detection-in-Social-Media-Using-Personality-Traits-main\\venv\\lib\\site-packages\\transformers\\optimization.py:640: FutureWarning: This implementation of AdamW is deprecated and will be removed in a future version. Use the PyTorch implementation torch.optim.AdamW instead, or set `no_deprecation_warning=True` to disable this warning\n",
      "  warnings.warn(\n",
      "[I 2025-03-02 21:33:43,335] Trial 7 finished with value: 0.915010631644778 and parameters: {'lr': 1.002125696692579e-05, 'dropout_rate': 0.18599069092126289, 'weight_decay': 1.2372126724279119e-05}. Best is trial 3 with value: 0.9249868589021552.\n",
      "C:\\Users\\PC\\AppData\\Local\\Temp\\ipykernel_24856\\3861845633.py:76: FutureWarning: suggest_loguniform has been deprecated in v3.0.0. This feature will be removed in v6.0.0. See https://github.com/optuna/optuna/releases/tag/v3.0.0. Use suggest_float(..., log=True) instead.\n",
      "  lr = trial.suggest_loguniform('lr', 1e-6, 1e-3)  # Expand the scope\n",
      "C:\\Users\\PC\\AppData\\Local\\Temp\\ipykernel_24856\\3861845633.py:77: FutureWarning: suggest_uniform has been deprecated in v3.0.0. This feature will be removed in v6.0.0. See https://github.com/optuna/optuna/releases/tag/v3.0.0. Use suggest_float instead.\n",
      "  dropout_rate = trial.suggest_uniform('dropout_rate', 0.1, 0.5)\n",
      "C:\\Users\\PC\\AppData\\Local\\Temp\\ipykernel_24856\\3861845633.py:78: FutureWarning: suggest_loguniform has been deprecated in v3.0.0. This feature will be removed in v6.0.0. See https://github.com/optuna/optuna/releases/tag/v3.0.0. Use suggest_float(..., log=True) instead.\n",
      "  weight_decay = trial.suggest_loguniform('weight_decay', 1e-6, 1e-2)  # Expand the scope\n",
      "c:\\Users\\PC\\Documents\\Master_Project\\Suicide-Ideation-Detection-in-Social-Media-Using-Personality-Traits-main\\venv\\lib\\site-packages\\transformers\\optimization.py:640: FutureWarning: This implementation of AdamW is deprecated and will be removed in a future version. Use the PyTorch implementation torch.optim.AdamW instead, or set `no_deprecation_warning=True` to disable this warning\n",
      "  warnings.warn(\n",
      "[I 2025-03-02 21:34:45,648] Trial 8 finished with value: 0.9150106252656317 and parameters: {'lr': 0.00010741083036545782, 'dropout_rate': 0.3883077451602853, 'weight_decay': 1.2579523720893525e-06}. Best is trial 3 with value: 0.9249868589021552.\n",
      "C:\\Users\\PC\\AppData\\Local\\Temp\\ipykernel_24856\\3861845633.py:76: FutureWarning: suggest_loguniform has been deprecated in v3.0.0. This feature will be removed in v6.0.0. See https://github.com/optuna/optuna/releases/tag/v3.0.0. Use suggest_float(..., log=True) instead.\n",
      "  lr = trial.suggest_loguniform('lr', 1e-6, 1e-3)  # Expand the scope\n",
      "C:\\Users\\PC\\AppData\\Local\\Temp\\ipykernel_24856\\3861845633.py:77: FutureWarning: suggest_uniform has been deprecated in v3.0.0. This feature will be removed in v6.0.0. See https://github.com/optuna/optuna/releases/tag/v3.0.0. Use suggest_float instead.\n",
      "  dropout_rate = trial.suggest_uniform('dropout_rate', 0.1, 0.5)\n",
      "C:\\Users\\PC\\AppData\\Local\\Temp\\ipykernel_24856\\3861845633.py:78: FutureWarning: suggest_loguniform has been deprecated in v3.0.0. This feature will be removed in v6.0.0. See https://github.com/optuna/optuna/releases/tag/v3.0.0. Use suggest_float(..., log=True) instead.\n",
      "  weight_decay = trial.suggest_loguniform('weight_decay', 1e-6, 1e-2)  # Expand the scope\n",
      "c:\\Users\\PC\\Documents\\Master_Project\\Suicide-Ideation-Detection-in-Social-Media-Using-Personality-Traits-main\\venv\\lib\\site-packages\\transformers\\optimization.py:640: FutureWarning: This implementation of AdamW is deprecated and will be removed in a future version. Use the PyTorch implementation torch.optim.AdamW instead, or set `no_deprecation_warning=True` to disable this warning\n",
      "  warnings.warn(\n",
      "[I 2025-03-02 21:35:48,100] Trial 9 finished with value: 0.8949816024630173 and parameters: {'lr': 1.2786778094578575e-05, 'dropout_rate': 0.4512811957559616, 'weight_decay': 0.006451603542155304}. Best is trial 3 with value: 0.9249868589021552.\n",
      "C:\\Users\\PC\\AppData\\Local\\Temp\\ipykernel_24856\\3861845633.py:76: FutureWarning: suggest_loguniform has been deprecated in v3.0.0. This feature will be removed in v6.0.0. See https://github.com/optuna/optuna/releases/tag/v3.0.0. Use suggest_float(..., log=True) instead.\n",
      "  lr = trial.suggest_loguniform('lr', 1e-6, 1e-3)  # Expand the scope\n",
      "C:\\Users\\PC\\AppData\\Local\\Temp\\ipykernel_24856\\3861845633.py:77: FutureWarning: suggest_uniform has been deprecated in v3.0.0. This feature will be removed in v6.0.0. See https://github.com/optuna/optuna/releases/tag/v3.0.0. Use suggest_float instead.\n",
      "  dropout_rate = trial.suggest_uniform('dropout_rate', 0.1, 0.5)\n",
      "C:\\Users\\PC\\AppData\\Local\\Temp\\ipykernel_24856\\3861845633.py:78: FutureWarning: suggest_loguniform has been deprecated in v3.0.0. This feature will be removed in v6.0.0. See https://github.com/optuna/optuna/releases/tag/v3.0.0. Use suggest_float(..., log=True) instead.\n",
      "  weight_decay = trial.suggest_loguniform('weight_decay', 1e-6, 1e-2)  # Expand the scope\n",
      "c:\\Users\\PC\\Documents\\Master_Project\\Suicide-Ideation-Detection-in-Social-Media-Using-Personality-Traits-main\\venv\\lib\\site-packages\\transformers\\optimization.py:640: FutureWarning: This implementation of AdamW is deprecated and will be removed in a future version. Use the PyTorch implementation torch.optim.AdamW instead, or set `no_deprecation_warning=True` to disable this warning\n",
      "  warnings.warn(\n",
      "[I 2025-03-02 21:36:50,600] Trial 10 finished with value: 0.7100580058005801 and parameters: {'lr': 0.0007744950524071762, 'dropout_rate': 0.10208599723068013, 'weight_decay': 1.6081213158265435e-06}. Best is trial 3 with value: 0.9249868589021552.\n",
      "C:\\Users\\PC\\AppData\\Local\\Temp\\ipykernel_24856\\3861845633.py:76: FutureWarning: suggest_loguniform has been deprecated in v3.0.0. This feature will be removed in v6.0.0. See https://github.com/optuna/optuna/releases/tag/v3.0.0. Use suggest_float(..., log=True) instead.\n",
      "  lr = trial.suggest_loguniform('lr', 1e-6, 1e-3)  # Expand the scope\n",
      "C:\\Users\\PC\\AppData\\Local\\Temp\\ipykernel_24856\\3861845633.py:77: FutureWarning: suggest_uniform has been deprecated in v3.0.0. This feature will be removed in v6.0.0. See https://github.com/optuna/optuna/releases/tag/v3.0.0. Use suggest_float instead.\n",
      "  dropout_rate = trial.suggest_uniform('dropout_rate', 0.1, 0.5)\n",
      "C:\\Users\\PC\\AppData\\Local\\Temp\\ipykernel_24856\\3861845633.py:78: FutureWarning: suggest_loguniform has been deprecated in v3.0.0. This feature will be removed in v6.0.0. See https://github.com/optuna/optuna/releases/tag/v3.0.0. Use suggest_float(..., log=True) instead.\n",
      "  weight_decay = trial.suggest_loguniform('weight_decay', 1e-6, 1e-2)  # Expand the scope\n",
      "c:\\Users\\PC\\Documents\\Master_Project\\Suicide-Ideation-Detection-in-Social-Media-Using-Personality-Traits-main\\venv\\lib\\site-packages\\transformers\\optimization.py:640: FutureWarning: This implementation of AdamW is deprecated and will be removed in a future version. Use the PyTorch implementation torch.optim.AdamW instead, or set `no_deprecation_warning=True` to disable this warning\n",
      "  warnings.warn(\n",
      "[I 2025-03-02 21:37:53,384] Trial 11 finished with value: 0.9200160016001601 and parameters: {'lr': 8.214293247257425e-05, 'dropout_rate': 0.22349681227254586, 'weight_decay': 0.0005940972218547941}. Best is trial 3 with value: 0.9249868589021552.\n",
      "C:\\Users\\PC\\AppData\\Local\\Temp\\ipykernel_24856\\3861845633.py:76: FutureWarning: suggest_loguniform has been deprecated in v3.0.0. This feature will be removed in v6.0.0. See https://github.com/optuna/optuna/releases/tag/v3.0.0. Use suggest_float(..., log=True) instead.\n",
      "  lr = trial.suggest_loguniform('lr', 1e-6, 1e-3)  # Expand the scope\n",
      "C:\\Users\\PC\\AppData\\Local\\Temp\\ipykernel_24856\\3861845633.py:77: FutureWarning: suggest_uniform has been deprecated in v3.0.0. This feature will be removed in v6.0.0. See https://github.com/optuna/optuna/releases/tag/v3.0.0. Use suggest_float instead.\n",
      "  dropout_rate = trial.suggest_uniform('dropout_rate', 0.1, 0.5)\n",
      "C:\\Users\\PC\\AppData\\Local\\Temp\\ipykernel_24856\\3861845633.py:78: FutureWarning: suggest_loguniform has been deprecated in v3.0.0. This feature will be removed in v6.0.0. See https://github.com/optuna/optuna/releases/tag/v3.0.0. Use suggest_float(..., log=True) instead.\n",
      "  weight_decay = trial.suggest_loguniform('weight_decay', 1e-6, 1e-2)  # Expand the scope\n",
      "c:\\Users\\PC\\Documents\\Master_Project\\Suicide-Ideation-Detection-in-Social-Media-Using-Personality-Traits-main\\venv\\lib\\site-packages\\transformers\\optimization.py:640: FutureWarning: This implementation of AdamW is deprecated and will be removed in a future version. Use the PyTorch implementation torch.optim.AdamW instead, or set `no_deprecation_warning=True` to disable this warning\n",
      "  warnings.warn(\n",
      "[I 2025-03-02 21:38:55,773] Trial 12 finished with value: 0.699459513562206 and parameters: {'lr': 0.0002858565103743571, 'dropout_rate': 0.17627872353147947, 'weight_decay': 0.0008287313361787646}. Best is trial 3 with value: 0.9249868589021552.\n",
      "C:\\Users\\PC\\AppData\\Local\\Temp\\ipykernel_24856\\3861845633.py:76: FutureWarning: suggest_loguniform has been deprecated in v3.0.0. This feature will be removed in v6.0.0. See https://github.com/optuna/optuna/releases/tag/v3.0.0. Use suggest_float(..., log=True) instead.\n",
      "  lr = trial.suggest_loguniform('lr', 1e-6, 1e-3)  # Expand the scope\n",
      "C:\\Users\\PC\\AppData\\Local\\Temp\\ipykernel_24856\\3861845633.py:77: FutureWarning: suggest_uniform has been deprecated in v3.0.0. This feature will be removed in v6.0.0. See https://github.com/optuna/optuna/releases/tag/v3.0.0. Use suggest_float instead.\n",
      "  dropout_rate = trial.suggest_uniform('dropout_rate', 0.1, 0.5)\n",
      "C:\\Users\\PC\\AppData\\Local\\Temp\\ipykernel_24856\\3861845633.py:78: FutureWarning: suggest_loguniform has been deprecated in v3.0.0. This feature will be removed in v6.0.0. See https://github.com/optuna/optuna/releases/tag/v3.0.0. Use suggest_float(..., log=True) instead.\n",
      "  weight_decay = trial.suggest_loguniform('weight_decay', 1e-6, 1e-2)  # Expand the scope\n",
      "c:\\Users\\PC\\Documents\\Master_Project\\Suicide-Ideation-Detection-in-Social-Media-Using-Personality-Traits-main\\venv\\lib\\site-packages\\transformers\\optimization.py:640: FutureWarning: This implementation of AdamW is deprecated and will be removed in a future version. Use the PyTorch implementation torch.optim.AdamW instead, or set `no_deprecation_warning=True` to disable this warning\n",
      "  warnings.warn(\n",
      "[I 2025-03-02 21:39:57,952] Trial 13 finished with value: 0.9350146282913656 and parameters: {'lr': 6.607350343802682e-05, 'dropout_rate': 0.3008801384916939, 'weight_decay': 3.3784774223232095e-05}. Best is trial 13 with value: 0.9350146282913656.\n",
      "C:\\Users\\PC\\AppData\\Local\\Temp\\ipykernel_24856\\3861845633.py:76: FutureWarning: suggest_loguniform has been deprecated in v3.0.0. This feature will be removed in v6.0.0. See https://github.com/optuna/optuna/releases/tag/v3.0.0. Use suggest_float(..., log=True) instead.\n",
      "  lr = trial.suggest_loguniform('lr', 1e-6, 1e-3)  # Expand the scope\n",
      "C:\\Users\\PC\\AppData\\Local\\Temp\\ipykernel_24856\\3861845633.py:77: FutureWarning: suggest_uniform has been deprecated in v3.0.0. This feature will be removed in v6.0.0. See https://github.com/optuna/optuna/releases/tag/v3.0.0. Use suggest_float instead.\n",
      "  dropout_rate = trial.suggest_uniform('dropout_rate', 0.1, 0.5)\n",
      "C:\\Users\\PC\\AppData\\Local\\Temp\\ipykernel_24856\\3861845633.py:78: FutureWarning: suggest_loguniform has been deprecated in v3.0.0. This feature will be removed in v6.0.0. See https://github.com/optuna/optuna/releases/tag/v3.0.0. Use suggest_float(..., log=True) instead.\n",
      "  weight_decay = trial.suggest_loguniform('weight_decay', 1e-6, 1e-2)  # Expand the scope\n",
      "c:\\Users\\PC\\Documents\\Master_Project\\Suicide-Ideation-Detection-in-Social-Media-Using-Personality-Traits-main\\venv\\lib\\site-packages\\transformers\\optimization.py:640: FutureWarning: This implementation of AdamW is deprecated and will be removed in a future version. Use the PyTorch implementation torch.optim.AdamW instead, or set `no_deprecation_warning=True` to disable this warning\n",
      "  warnings.warn(\n",
      "[I 2025-03-02 21:41:00,351] Trial 14 finished with value: 0.6987922705314008 and parameters: {'lr': 0.00023861395625050116, 'dropout_rate': 0.3276528649411693, 'weight_decay': 3.3215802892994846e-05}. Best is trial 13 with value: 0.9350146282913656.\n",
      "C:\\Users\\PC\\AppData\\Local\\Temp\\ipykernel_24856\\3861845633.py:76: FutureWarning: suggest_loguniform has been deprecated in v3.0.0. This feature will be removed in v6.0.0. See https://github.com/optuna/optuna/releases/tag/v3.0.0. Use suggest_float(..., log=True) instead.\n",
      "  lr = trial.suggest_loguniform('lr', 1e-6, 1e-3)  # Expand the scope\n",
      "C:\\Users\\PC\\AppData\\Local\\Temp\\ipykernel_24856\\3861845633.py:77: FutureWarning: suggest_uniform has been deprecated in v3.0.0. This feature will be removed in v6.0.0. See https://github.com/optuna/optuna/releases/tag/v3.0.0. Use suggest_float instead.\n",
      "  dropout_rate = trial.suggest_uniform('dropout_rate', 0.1, 0.5)\n",
      "C:\\Users\\PC\\AppData\\Local\\Temp\\ipykernel_24856\\3861845633.py:78: FutureWarning: suggest_loguniform has been deprecated in v3.0.0. This feature will be removed in v6.0.0. See https://github.com/optuna/optuna/releases/tag/v3.0.0. Use suggest_float(..., log=True) instead.\n",
      "  weight_decay = trial.suggest_loguniform('weight_decay', 1e-6, 1e-2)  # Expand the scope\n",
      "c:\\Users\\PC\\Documents\\Master_Project\\Suicide-Ideation-Detection-in-Social-Media-Using-Personality-Traits-main\\venv\\lib\\site-packages\\transformers\\optimization.py:640: FutureWarning: This implementation of AdamW is deprecated and will be removed in a future version. Use the PyTorch implementation torch.optim.AdamW instead, or set `no_deprecation_warning=True` to disable this warning\n",
      "  warnings.warn(\n",
      "[I 2025-03-02 21:42:02,721] Trial 15 finished with value: 0.9200160016001601 and parameters: {'lr': 3.510076435639527e-05, 'dropout_rate': 0.30496884502028726, 'weight_decay': 3.9795485671904785e-06}. Best is trial 13 with value: 0.9350146282913656.\n",
      "C:\\Users\\PC\\AppData\\Local\\Temp\\ipykernel_24856\\3861845633.py:76: FutureWarning: suggest_loguniform has been deprecated in v3.0.0. This feature will be removed in v6.0.0. See https://github.com/optuna/optuna/releases/tag/v3.0.0. Use suggest_float(..., log=True) instead.\n",
      "  lr = trial.suggest_loguniform('lr', 1e-6, 1e-3)  # Expand the scope\n",
      "C:\\Users\\PC\\AppData\\Local\\Temp\\ipykernel_24856\\3861845633.py:77: FutureWarning: suggest_uniform has been deprecated in v3.0.0. This feature will be removed in v6.0.0. See https://github.com/optuna/optuna/releases/tag/v3.0.0. Use suggest_float instead.\n",
      "  dropout_rate = trial.suggest_uniform('dropout_rate', 0.1, 0.5)\n",
      "C:\\Users\\PC\\AppData\\Local\\Temp\\ipykernel_24856\\3861845633.py:78: FutureWarning: suggest_loguniform has been deprecated in v3.0.0. This feature will be removed in v6.0.0. See https://github.com/optuna/optuna/releases/tag/v3.0.0. Use suggest_float(..., log=True) instead.\n",
      "  weight_decay = trial.suggest_loguniform('weight_decay', 1e-6, 1e-2)  # Expand the scope\n",
      "c:\\Users\\PC\\Documents\\Master_Project\\Suicide-Ideation-Detection-in-Social-Media-Using-Personality-Traits-main\\venv\\lib\\site-packages\\transformers\\optimization.py:640: FutureWarning: This implementation of AdamW is deprecated and will be removed in a future version. Use the PyTorch implementation torch.optim.AdamW instead, or set `no_deprecation_warning=True` to disable this warning\n",
      "  warnings.warn(\n",
      "[I 2025-03-02 21:43:05,103] Trial 16 finished with value: 0.72 and parameters: {'lr': 0.00019629432503184087, 'dropout_rate': 0.24357516932894804, 'weight_decay': 5.605691088142542e-05}. Best is trial 13 with value: 0.9350146282913656.\n",
      "C:\\Users\\PC\\AppData\\Local\\Temp\\ipykernel_24856\\3861845633.py:76: FutureWarning: suggest_loguniform has been deprecated in v3.0.0. This feature will be removed in v6.0.0. See https://github.com/optuna/optuna/releases/tag/v3.0.0. Use suggest_float(..., log=True) instead.\n",
      "  lr = trial.suggest_loguniform('lr', 1e-6, 1e-3)  # Expand the scope\n",
      "C:\\Users\\PC\\AppData\\Local\\Temp\\ipykernel_24856\\3861845633.py:77: FutureWarning: suggest_uniform has been deprecated in v3.0.0. This feature will be removed in v6.0.0. See https://github.com/optuna/optuna/releases/tag/v3.0.0. Use suggest_float instead.\n",
      "  dropout_rate = trial.suggest_uniform('dropout_rate', 0.1, 0.5)\n",
      "C:\\Users\\PC\\AppData\\Local\\Temp\\ipykernel_24856\\3861845633.py:78: FutureWarning: suggest_loguniform has been deprecated in v3.0.0. This feature will be removed in v6.0.0. See https://github.com/optuna/optuna/releases/tag/v3.0.0. Use suggest_float(..., log=True) instead.\n",
      "  weight_decay = trial.suggest_loguniform('weight_decay', 1e-6, 1e-2)  # Expand the scope\n",
      "c:\\Users\\PC\\Documents\\Master_Project\\Suicide-Ideation-Detection-in-Social-Media-Using-Personality-Traits-main\\venv\\lib\\site-packages\\transformers\\optimization.py:640: FutureWarning: This implementation of AdamW is deprecated and will be removed in a future version. Use the PyTorch implementation torch.optim.AdamW instead, or set `no_deprecation_warning=True` to disable this warning\n",
      "  warnings.warn(\n",
      "[I 2025-03-02 21:44:07,488] Trial 17 finished with value: 0.6450651534258092 and parameters: {'lr': 0.00051900509895831, 'dropout_rate': 0.3482034200741193, 'weight_decay': 4.511848185072522e-06}. Best is trial 13 with value: 0.9350146282913656.\n",
      "C:\\Users\\PC\\AppData\\Local\\Temp\\ipykernel_24856\\3861845633.py:76: FutureWarning: suggest_loguniform has been deprecated in v3.0.0. This feature will be removed in v6.0.0. See https://github.com/optuna/optuna/releases/tag/v3.0.0. Use suggest_float(..., log=True) instead.\n",
      "  lr = trial.suggest_loguniform('lr', 1e-6, 1e-3)  # Expand the scope\n",
      "C:\\Users\\PC\\AppData\\Local\\Temp\\ipykernel_24856\\3861845633.py:77: FutureWarning: suggest_uniform has been deprecated in v3.0.0. This feature will be removed in v6.0.0. See https://github.com/optuna/optuna/releases/tag/v3.0.0. Use suggest_float instead.\n",
      "  dropout_rate = trial.suggest_uniform('dropout_rate', 0.1, 0.5)\n",
      "C:\\Users\\PC\\AppData\\Local\\Temp\\ipykernel_24856\\3861845633.py:78: FutureWarning: suggest_loguniform has been deprecated in v3.0.0. This feature will be removed in v6.0.0. See https://github.com/optuna/optuna/releases/tag/v3.0.0. Use suggest_float(..., log=True) instead.\n",
      "  weight_decay = trial.suggest_loguniform('weight_decay', 1e-6, 1e-2)  # Expand the scope\n",
      "c:\\Users\\PC\\Documents\\Master_Project\\Suicide-Ideation-Detection-in-Social-Media-Using-Personality-Traits-main\\venv\\lib\\site-packages\\transformers\\optimization.py:640: FutureWarning: This implementation of AdamW is deprecated and will be removed in a future version. Use the PyTorch implementation torch.optim.AdamW instead, or set `no_deprecation_warning=True` to disable this warning\n",
      "  warnings.warn(\n",
      "[I 2025-03-02 21:45:09,857] Trial 18 finished with value: 0.9349886110485345 and parameters: {'lr': 3.223817491605244e-05, 'dropout_rate': 0.2599971390092049, 'weight_decay': 6.338706924991026e-06}. Best is trial 13 with value: 0.9350146282913656.\n",
      "C:\\Users\\PC\\AppData\\Local\\Temp\\ipykernel_24856\\3861845633.py:76: FutureWarning: suggest_loguniform has been deprecated in v3.0.0. This feature will be removed in v6.0.0. See https://github.com/optuna/optuna/releases/tag/v3.0.0. Use suggest_float(..., log=True) instead.\n",
      "  lr = trial.suggest_loguniform('lr', 1e-6, 1e-3)  # Expand the scope\n",
      "C:\\Users\\PC\\AppData\\Local\\Temp\\ipykernel_24856\\3861845633.py:77: FutureWarning: suggest_uniform has been deprecated in v3.0.0. This feature will be removed in v6.0.0. See https://github.com/optuna/optuna/releases/tag/v3.0.0. Use suggest_float instead.\n",
      "  dropout_rate = trial.suggest_uniform('dropout_rate', 0.1, 0.5)\n",
      "C:\\Users\\PC\\AppData\\Local\\Temp\\ipykernel_24856\\3861845633.py:78: FutureWarning: suggest_loguniform has been deprecated in v3.0.0. This feature will be removed in v6.0.0. See https://github.com/optuna/optuna/releases/tag/v3.0.0. Use suggest_float(..., log=True) instead.\n",
      "  weight_decay = trial.suggest_loguniform('weight_decay', 1e-6, 1e-2)  # Expand the scope\n",
      "c:\\Users\\PC\\Documents\\Master_Project\\Suicide-Ideation-Detection-in-Social-Media-Using-Personality-Traits-main\\venv\\lib\\site-packages\\transformers\\optimization.py:640: FutureWarning: This implementation of AdamW is deprecated and will be removed in a future version. Use the PyTorch implementation torch.optim.AdamW instead, or set `no_deprecation_warning=True` to disable this warning\n",
      "  warnings.warn(\n",
      "[I 2025-03-02 21:46:12,243] Trial 19 finished with value: 0.899959935897436 and parameters: {'lr': 3.070687646712378e-05, 'dropout_rate': 0.2770015632893094, 'weight_decay': 0.000209469238711154}. Best is trial 13 with value: 0.9350146282913656.\n",
      "C:\\Users\\PC\\AppData\\Local\\Temp\\ipykernel_24856\\3861845633.py:76: FutureWarning: suggest_loguniform has been deprecated in v3.0.0. This feature will be removed in v6.0.0. See https://github.com/optuna/optuna/releases/tag/v3.0.0. Use suggest_float(..., log=True) instead.\n",
      "  lr = trial.suggest_loguniform('lr', 1e-6, 1e-3)  # Expand the scope\n",
      "C:\\Users\\PC\\AppData\\Local\\Temp\\ipykernel_24856\\3861845633.py:77: FutureWarning: suggest_uniform has been deprecated in v3.0.0. This feature will be removed in v6.0.0. See https://github.com/optuna/optuna/releases/tag/v3.0.0. Use suggest_float instead.\n",
      "  dropout_rate = trial.suggest_uniform('dropout_rate', 0.1, 0.5)\n",
      "C:\\Users\\PC\\AppData\\Local\\Temp\\ipykernel_24856\\3861845633.py:78: FutureWarning: suggest_loguniform has been deprecated in v3.0.0. This feature will be removed in v6.0.0. See https://github.com/optuna/optuna/releases/tag/v3.0.0. Use suggest_float(..., log=True) instead.\n",
      "  weight_decay = trial.suggest_loguniform('weight_decay', 1e-6, 1e-2)  # Expand the scope\n",
      "c:\\Users\\PC\\Documents\\Master_Project\\Suicide-Ideation-Detection-in-Social-Media-Using-Personality-Traits-main\\venv\\lib\\site-packages\\transformers\\optimization.py:640: FutureWarning: This implementation of AdamW is deprecated and will be removed in a future version. Use the PyTorch implementation torch.optim.AdamW instead, or set `no_deprecation_warning=True` to disable this warning\n",
      "  warnings.warn(\n",
      "[I 2025-03-02 21:47:15,025] Trial 20 finished with value: 0.9349886110485345 and parameters: {'lr': 3.497152162350619e-05, 'dropout_rate': 0.24153943942341558, 'weight_decay': 6.512817115242755e-05}. Best is trial 13 with value: 0.9350146282913656.\n",
      "C:\\Users\\PC\\AppData\\Local\\Temp\\ipykernel_24856\\3861845633.py:76: FutureWarning: suggest_loguniform has been deprecated in v3.0.0. This feature will be removed in v6.0.0. See https://github.com/optuna/optuna/releases/tag/v3.0.0. Use suggest_float(..., log=True) instead.\n",
      "  lr = trial.suggest_loguniform('lr', 1e-6, 1e-3)  # Expand the scope\n",
      "C:\\Users\\PC\\AppData\\Local\\Temp\\ipykernel_24856\\3861845633.py:77: FutureWarning: suggest_uniform has been deprecated in v3.0.0. This feature will be removed in v6.0.0. See https://github.com/optuna/optuna/releases/tag/v3.0.0. Use suggest_float instead.\n",
      "  dropout_rate = trial.suggest_uniform('dropout_rate', 0.1, 0.5)\n",
      "C:\\Users\\PC\\AppData\\Local\\Temp\\ipykernel_24856\\3861845633.py:78: FutureWarning: suggest_loguniform has been deprecated in v3.0.0. This feature will be removed in v6.0.0. See https://github.com/optuna/optuna/releases/tag/v3.0.0. Use suggest_float(..., log=True) instead.\n",
      "  weight_decay = trial.suggest_loguniform('weight_decay', 1e-6, 1e-2)  # Expand the scope\n",
      "c:\\Users\\PC\\Documents\\Master_Project\\Suicide-Ideation-Detection-in-Social-Media-Using-Personality-Traits-main\\venv\\lib\\site-packages\\transformers\\optimization.py:640: FutureWarning: This implementation of AdamW is deprecated and will be removed in a future version. Use the PyTorch implementation torch.optim.AdamW instead, or set `no_deprecation_warning=True` to disable this warning\n",
      "  warnings.warn(\n",
      "[I 2025-03-02 21:48:17,409] Trial 21 finished with value: 0.93500812520313 and parameters: {'lr': 3.2450642742745375e-05, 'dropout_rate': 0.23963426506557206, 'weight_decay': 5.227904802046554e-05}. Best is trial 13 with value: 0.9350146282913656.\n",
      "C:\\Users\\PC\\AppData\\Local\\Temp\\ipykernel_24856\\3861845633.py:76: FutureWarning: suggest_loguniform has been deprecated in v3.0.0. This feature will be removed in v6.0.0. See https://github.com/optuna/optuna/releases/tag/v3.0.0. Use suggest_float(..., log=True) instead.\n",
      "  lr = trial.suggest_loguniform('lr', 1e-6, 1e-3)  # Expand the scope\n",
      "C:\\Users\\PC\\AppData\\Local\\Temp\\ipykernel_24856\\3861845633.py:77: FutureWarning: suggest_uniform has been deprecated in v3.0.0. This feature will be removed in v6.0.0. See https://github.com/optuna/optuna/releases/tag/v3.0.0. Use suggest_float instead.\n",
      "  dropout_rate = trial.suggest_uniform('dropout_rate', 0.1, 0.5)\n",
      "C:\\Users\\PC\\AppData\\Local\\Temp\\ipykernel_24856\\3861845633.py:78: FutureWarning: suggest_loguniform has been deprecated in v3.0.0. This feature will be removed in v6.0.0. See https://github.com/optuna/optuna/releases/tag/v3.0.0. Use suggest_float(..., log=True) instead.\n",
      "  weight_decay = trial.suggest_loguniform('weight_decay', 1e-6, 1e-2)  # Expand the scope\n",
      "c:\\Users\\PC\\Documents\\Master_Project\\Suicide-Ideation-Detection-in-Social-Media-Using-Personality-Traits-main\\venv\\lib\\site-packages\\transformers\\optimization.py:640: FutureWarning: This implementation of AdamW is deprecated and will be removed in a future version. Use the PyTorch implementation torch.optim.AdamW instead, or set `no_deprecation_warning=True` to disable this warning\n",
      "  warnings.warn(\n",
      "[I 2025-03-02 21:49:19,577] Trial 22 finished with value: 0.9 and parameters: {'lr': 2.604401614175237e-05, 'dropout_rate': 0.277625893067077, 'weight_decay': 2.3410746470390788e-05}. Best is trial 13 with value: 0.9350146282913656.\n",
      "C:\\Users\\PC\\AppData\\Local\\Temp\\ipykernel_24856\\3861845633.py:76: FutureWarning: suggest_loguniform has been deprecated in v3.0.0. This feature will be removed in v6.0.0. See https://github.com/optuna/optuna/releases/tag/v3.0.0. Use suggest_float(..., log=True) instead.\n",
      "  lr = trial.suggest_loguniform('lr', 1e-6, 1e-3)  # Expand the scope\n",
      "C:\\Users\\PC\\AppData\\Local\\Temp\\ipykernel_24856\\3861845633.py:77: FutureWarning: suggest_uniform has been deprecated in v3.0.0. This feature will be removed in v6.0.0. See https://github.com/optuna/optuna/releases/tag/v3.0.0. Use suggest_float instead.\n",
      "  dropout_rate = trial.suggest_uniform('dropout_rate', 0.1, 0.5)\n",
      "C:\\Users\\PC\\AppData\\Local\\Temp\\ipykernel_24856\\3861845633.py:78: FutureWarning: suggest_loguniform has been deprecated in v3.0.0. This feature will be removed in v6.0.0. See https://github.com/optuna/optuna/releases/tag/v3.0.0. Use suggest_float(..., log=True) instead.\n",
      "  weight_decay = trial.suggest_loguniform('weight_decay', 1e-6, 1e-2)  # Expand the scope\n",
      "c:\\Users\\PC\\Documents\\Master_Project\\Suicide-Ideation-Detection-in-Social-Media-Using-Personality-Traits-main\\venv\\lib\\site-packages\\transformers\\optimization.py:640: FutureWarning: This implementation of AdamW is deprecated and will be removed in a future version. Use the PyTorch implementation torch.optim.AdamW instead, or set `no_deprecation_warning=True` to disable this warning\n",
      "  warnings.warn(\n",
      "[I 2025-03-02 21:50:21,810] Trial 23 finished with value: 0.91001800180018 and parameters: {'lr': 6.465094985805708e-05, 'dropout_rate': 0.3423201031045514, 'weight_decay': 5.362052767181032e-06}. Best is trial 13 with value: 0.9350146282913656.\n",
      "C:\\Users\\PC\\AppData\\Local\\Temp\\ipykernel_24856\\3861845633.py:76: FutureWarning: suggest_loguniform has been deprecated in v3.0.0. This feature will be removed in v6.0.0. See https://github.com/optuna/optuna/releases/tag/v3.0.0. Use suggest_float(..., log=True) instead.\n",
      "  lr = trial.suggest_loguniform('lr', 1e-6, 1e-3)  # Expand the scope\n",
      "C:\\Users\\PC\\AppData\\Local\\Temp\\ipykernel_24856\\3861845633.py:77: FutureWarning: suggest_uniform has been deprecated in v3.0.0. This feature will be removed in v6.0.0. See https://github.com/optuna/optuna/releases/tag/v3.0.0. Use suggest_float instead.\n",
      "  dropout_rate = trial.suggest_uniform('dropout_rate', 0.1, 0.5)\n",
      "C:\\Users\\PC\\AppData\\Local\\Temp\\ipykernel_24856\\3861845633.py:78: FutureWarning: suggest_loguniform has been deprecated in v3.0.0. This feature will be removed in v6.0.0. See https://github.com/optuna/optuna/releases/tag/v3.0.0. Use suggest_float(..., log=True) instead.\n",
      "  weight_decay = trial.suggest_loguniform('weight_decay', 1e-6, 1e-2)  # Expand the scope\n",
      "c:\\Users\\PC\\Documents\\Master_Project\\Suicide-Ideation-Detection-in-Social-Media-Using-Personality-Traits-main\\venv\\lib\\site-packages\\transformers\\optimization.py:640: FutureWarning: This implementation of AdamW is deprecated and will be removed in a future version. Use the PyTorch implementation torch.optim.AdamW instead, or set `no_deprecation_warning=True` to disable this warning\n",
      "  warnings.warn(\n",
      "[I 2025-03-02 21:51:24,028] Trial 24 finished with value: 0.8848417761100689 and parameters: {'lr': 4.3943790134809925e-06, 'dropout_rate': 0.22341988926445877, 'weight_decay': 5.387362234603895e-05}. Best is trial 13 with value: 0.9350146282913656.\n",
      "C:\\Users\\PC\\AppData\\Local\\Temp\\ipykernel_24856\\3861845633.py:76: FutureWarning: suggest_loguniform has been deprecated in v3.0.0. This feature will be removed in v6.0.0. See https://github.com/optuna/optuna/releases/tag/v3.0.0. Use suggest_float(..., log=True) instead.\n",
      "  lr = trial.suggest_loguniform('lr', 1e-6, 1e-3)  # Expand the scope\n",
      "C:\\Users\\PC\\AppData\\Local\\Temp\\ipykernel_24856\\3861845633.py:77: FutureWarning: suggest_uniform has been deprecated in v3.0.0. This feature will be removed in v6.0.0. See https://github.com/optuna/optuna/releases/tag/v3.0.0. Use suggest_float instead.\n",
      "  dropout_rate = trial.suggest_uniform('dropout_rate', 0.1, 0.5)\n",
      "C:\\Users\\PC\\AppData\\Local\\Temp\\ipykernel_24856\\3861845633.py:78: FutureWarning: suggest_loguniform has been deprecated in v3.0.0. This feature will be removed in v6.0.0. See https://github.com/optuna/optuna/releases/tag/v3.0.0. Use suggest_float(..., log=True) instead.\n",
      "  weight_decay = trial.suggest_loguniform('weight_decay', 1e-6, 1e-2)  # Expand the scope\n",
      "c:\\Users\\PC\\Documents\\Master_Project\\Suicide-Ideation-Detection-in-Social-Media-Using-Personality-Traits-main\\venv\\lib\\site-packages\\transformers\\optimization.py:640: FutureWarning: This implementation of AdamW is deprecated and will be removed in a future version. Use the PyTorch implementation torch.optim.AdamW instead, or set `no_deprecation_warning=True` to disable this warning\n",
      "  warnings.warn(\n",
      "[I 2025-03-02 21:52:26,521] Trial 25 finished with value: 0.91 and parameters: {'lr': 1.9202321448368835e-05, 'dropout_rate': 0.3019224664445237, 'weight_decay': 0.00038319530949524006}. Best is trial 13 with value: 0.9350146282913656.\n",
      "C:\\Users\\PC\\AppData\\Local\\Temp\\ipykernel_24856\\3861845633.py:76: FutureWarning: suggest_loguniform has been deprecated in v3.0.0. This feature will be removed in v6.0.0. See https://github.com/optuna/optuna/releases/tag/v3.0.0. Use suggest_float(..., log=True) instead.\n",
      "  lr = trial.suggest_loguniform('lr', 1e-6, 1e-3)  # Expand the scope\n",
      "C:\\Users\\PC\\AppData\\Local\\Temp\\ipykernel_24856\\3861845633.py:77: FutureWarning: suggest_uniform has been deprecated in v3.0.0. This feature will be removed in v6.0.0. See https://github.com/optuna/optuna/releases/tag/v3.0.0. Use suggest_float instead.\n",
      "  dropout_rate = trial.suggest_uniform('dropout_rate', 0.1, 0.5)\n",
      "C:\\Users\\PC\\AppData\\Local\\Temp\\ipykernel_24856\\3861845633.py:78: FutureWarning: suggest_loguniform has been deprecated in v3.0.0. This feature will be removed in v6.0.0. See https://github.com/optuna/optuna/releases/tag/v3.0.0. Use suggest_float(..., log=True) instead.\n",
      "  weight_decay = trial.suggest_loguniform('weight_decay', 1e-6, 1e-2)  # Expand the scope\n",
      "c:\\Users\\PC\\Documents\\Master_Project\\Suicide-Ideation-Detection-in-Social-Media-Using-Personality-Traits-main\\venv\\lib\\site-packages\\transformers\\optimization.py:640: FutureWarning: This implementation of AdamW is deprecated and will be removed in a future version. Use the PyTorch implementation torch.optim.AdamW instead, or set `no_deprecation_warning=True` to disable this warning\n",
      "  warnings.warn(\n",
      "[I 2025-03-02 21:53:28,697] Trial 26 finished with value: 0.92 and parameters: {'lr': 4.849113603386277e-05, 'dropout_rate': 0.25381586285115765, 'weight_decay': 2.9186303492832184e-06}. Best is trial 13 with value: 0.9350146282913656.\n",
      "C:\\Users\\PC\\AppData\\Local\\Temp\\ipykernel_24856\\3861845633.py:76: FutureWarning: suggest_loguniform has been deprecated in v3.0.0. This feature will be removed in v6.0.0. See https://github.com/optuna/optuna/releases/tag/v3.0.0. Use suggest_float(..., log=True) instead.\n",
      "  lr = trial.suggest_loguniform('lr', 1e-6, 1e-3)  # Expand the scope\n",
      "C:\\Users\\PC\\AppData\\Local\\Temp\\ipykernel_24856\\3861845633.py:77: FutureWarning: suggest_uniform has been deprecated in v3.0.0. This feature will be removed in v6.0.0. See https://github.com/optuna/optuna/releases/tag/v3.0.0. Use suggest_float instead.\n",
      "  dropout_rate = trial.suggest_uniform('dropout_rate', 0.1, 0.5)\n",
      "C:\\Users\\PC\\AppData\\Local\\Temp\\ipykernel_24856\\3861845633.py:78: FutureWarning: suggest_loguniform has been deprecated in v3.0.0. This feature will be removed in v6.0.0. See https://github.com/optuna/optuna/releases/tag/v3.0.0. Use suggest_float(..., log=True) instead.\n",
      "  weight_decay = trial.suggest_loguniform('weight_decay', 1e-6, 1e-2)  # Expand the scope\n",
      "c:\\Users\\PC\\Documents\\Master_Project\\Suicide-Ideation-Detection-in-Social-Media-Using-Personality-Traits-main\\venv\\lib\\site-packages\\transformers\\optimization.py:640: FutureWarning: This implementation of AdamW is deprecated and will be removed in a future version. Use the PyTorch implementation torch.optim.AdamW instead, or set `no_deprecation_warning=True` to disable this warning\n",
      "  warnings.warn(\n",
      "[I 2025-03-02 21:54:31,687] Trial 27 finished with value: 0.859747772995696 and parameters: {'lr': 4.2938038438753585e-06, 'dropout_rate': 0.20910022540970596, 'weight_decay': 2.5414181053244907e-05}. Best is trial 13 with value: 0.9350146282913656.\n",
      "C:\\Users\\PC\\AppData\\Local\\Temp\\ipykernel_24856\\3861845633.py:76: FutureWarning: suggest_loguniform has been deprecated in v3.0.0. This feature will be removed in v6.0.0. See https://github.com/optuna/optuna/releases/tag/v3.0.0. Use suggest_float(..., log=True) instead.\n",
      "  lr = trial.suggest_loguniform('lr', 1e-6, 1e-3)  # Expand the scope\n",
      "C:\\Users\\PC\\AppData\\Local\\Temp\\ipykernel_24856\\3861845633.py:77: FutureWarning: suggest_uniform has been deprecated in v3.0.0. This feature will be removed in v6.0.0. See https://github.com/optuna/optuna/releases/tag/v3.0.0. Use suggest_float instead.\n",
      "  dropout_rate = trial.suggest_uniform('dropout_rate', 0.1, 0.5)\n",
      "C:\\Users\\PC\\AppData\\Local\\Temp\\ipykernel_24856\\3861845633.py:78: FutureWarning: suggest_loguniform has been deprecated in v3.0.0. This feature will be removed in v6.0.0. See https://github.com/optuna/optuna/releases/tag/v3.0.0. Use suggest_float(..., log=True) instead.\n",
      "  weight_decay = trial.suggest_loguniform('weight_decay', 1e-6, 1e-2)  # Expand the scope\n",
      "c:\\Users\\PC\\Documents\\Master_Project\\Suicide-Ideation-Detection-in-Social-Media-Using-Personality-Traits-main\\venv\\lib\\site-packages\\transformers\\optimization.py:640: FutureWarning: This implementation of AdamW is deprecated and will be removed in a future version. Use the PyTorch implementation torch.optim.AdamW instead, or set `no_deprecation_warning=True` to disable this warning\n",
      "  warnings.warn(\n",
      "[I 2025-03-02 21:55:33,867] Trial 28 finished with value: 0.7136579285336557 and parameters: {'lr': 0.00011881042965643675, 'dropout_rate': 0.32191593098752286, 'weight_decay': 1.3916607225832959e-05}. Best is trial 13 with value: 0.9350146282913656.\n",
      "C:\\Users\\PC\\AppData\\Local\\Temp\\ipykernel_24856\\3861845633.py:76: FutureWarning: suggest_loguniform has been deprecated in v3.0.0. This feature will be removed in v6.0.0. See https://github.com/optuna/optuna/releases/tag/v3.0.0. Use suggest_float(..., log=True) instead.\n",
      "  lr = trial.suggest_loguniform('lr', 1e-6, 1e-3)  # Expand the scope\n",
      "C:\\Users\\PC\\AppData\\Local\\Temp\\ipykernel_24856\\3861845633.py:77: FutureWarning: suggest_uniform has been deprecated in v3.0.0. This feature will be removed in v6.0.0. See https://github.com/optuna/optuna/releases/tag/v3.0.0. Use suggest_float instead.\n",
      "  dropout_rate = trial.suggest_uniform('dropout_rate', 0.1, 0.5)\n",
      "C:\\Users\\PC\\AppData\\Local\\Temp\\ipykernel_24856\\3861845633.py:78: FutureWarning: suggest_loguniform has been deprecated in v3.0.0. This feature will be removed in v6.0.0. See https://github.com/optuna/optuna/releases/tag/v3.0.0. Use suggest_float(..., log=True) instead.\n",
      "  weight_decay = trial.suggest_loguniform('weight_decay', 1e-6, 1e-2)  # Expand the scope\n",
      "c:\\Users\\PC\\Documents\\Master_Project\\Suicide-Ideation-Detection-in-Social-Media-Using-Personality-Traits-main\\venv\\lib\\site-packages\\transformers\\optimization.py:640: FutureWarning: This implementation of AdamW is deprecated and will be removed in a future version. Use the PyTorch implementation torch.optim.AdamW instead, or set `no_deprecation_warning=True` to disable this warning\n",
      "  warnings.warn(\n",
      "[I 2025-03-02 21:56:36,256] Trial 29 finished with value: 0.7048004709536813 and parameters: {'lr': 0.0003899115296066731, 'dropout_rate': 0.13712623541565377, 'weight_decay': 9.19107415631839e-05}. Best is trial 13 with value: 0.9350146282913656.\n",
      "C:\\Users\\PC\\AppData\\Local\\Temp\\ipykernel_24856\\3861845633.py:76: FutureWarning: suggest_loguniform has been deprecated in v3.0.0. This feature will be removed in v6.0.0. See https://github.com/optuna/optuna/releases/tag/v3.0.0. Use suggest_float(..., log=True) instead.\n",
      "  lr = trial.suggest_loguniform('lr', 1e-6, 1e-3)  # Expand the scope\n",
      "C:\\Users\\PC\\AppData\\Local\\Temp\\ipykernel_24856\\3861845633.py:77: FutureWarning: suggest_uniform has been deprecated in v3.0.0. This feature will be removed in v6.0.0. See https://github.com/optuna/optuna/releases/tag/v3.0.0. Use suggest_float instead.\n",
      "  dropout_rate = trial.suggest_uniform('dropout_rate', 0.1, 0.5)\n",
      "C:\\Users\\PC\\AppData\\Local\\Temp\\ipykernel_24856\\3861845633.py:78: FutureWarning: suggest_loguniform has been deprecated in v3.0.0. This feature will be removed in v6.0.0. See https://github.com/optuna/optuna/releases/tag/v3.0.0. Use suggest_float(..., log=True) instead.\n",
      "  weight_decay = trial.suggest_loguniform('weight_decay', 1e-6, 1e-2)  # Expand the scope\n",
      "c:\\Users\\PC\\Documents\\Master_Project\\Suicide-Ideation-Detection-in-Social-Media-Using-Personality-Traits-main\\venv\\lib\\site-packages\\transformers\\optimization.py:640: FutureWarning: This implementation of AdamW is deprecated and will be removed in a future version. Use the PyTorch implementation torch.optim.AdamW instead, or set `no_deprecation_warning=True` to disable this warning\n",
      "  warnings.warn(\n",
      "[I 2025-03-02 21:57:38,460] Trial 30 finished with value: 0.93001400140014 and parameters: {'lr': 1.8951497988665934e-05, 'dropout_rate': 0.36156841106080595, 'weight_decay': 0.0023141427161693937}. Best is trial 13 with value: 0.9350146282913656.\n",
      "C:\\Users\\PC\\AppData\\Local\\Temp\\ipykernel_24856\\3861845633.py:76: FutureWarning: suggest_loguniform has been deprecated in v3.0.0. This feature will be removed in v6.0.0. See https://github.com/optuna/optuna/releases/tag/v3.0.0. Use suggest_float(..., log=True) instead.\n",
      "  lr = trial.suggest_loguniform('lr', 1e-6, 1e-3)  # Expand the scope\n",
      "C:\\Users\\PC\\AppData\\Local\\Temp\\ipykernel_24856\\3861845633.py:77: FutureWarning: suggest_uniform has been deprecated in v3.0.0. This feature will be removed in v6.0.0. See https://github.com/optuna/optuna/releases/tag/v3.0.0. Use suggest_float instead.\n",
      "  dropout_rate = trial.suggest_uniform('dropout_rate', 0.1, 0.5)\n",
      "C:\\Users\\PC\\AppData\\Local\\Temp\\ipykernel_24856\\3861845633.py:78: FutureWarning: suggest_loguniform has been deprecated in v3.0.0. This feature will be removed in v6.0.0. See https://github.com/optuna/optuna/releases/tag/v3.0.0. Use suggest_float(..., log=True) instead.\n",
      "  weight_decay = trial.suggest_loguniform('weight_decay', 1e-6, 1e-2)  # Expand the scope\n",
      "c:\\Users\\PC\\Documents\\Master_Project\\Suicide-Ideation-Detection-in-Social-Media-Using-Personality-Traits-main\\venv\\lib\\site-packages\\transformers\\optimization.py:640: FutureWarning: This implementation of AdamW is deprecated and will be removed in a future version. Use the PyTorch implementation torch.optim.AdamW instead, or set `no_deprecation_warning=True` to disable this warning\n",
      "  warnings.warn(\n",
      "[I 2025-03-02 21:58:40,804] Trial 31 finished with value: 0.9250168787977295 and parameters: {'lr': 4.4991709927507585e-05, 'dropout_rate': 0.2578739184627956, 'weight_decay': 6.550019255527813e-05}. Best is trial 13 with value: 0.9350146282913656.\n",
      "C:\\Users\\PC\\AppData\\Local\\Temp\\ipykernel_24856\\3861845633.py:76: FutureWarning: suggest_loguniform has been deprecated in v3.0.0. This feature will be removed in v6.0.0. See https://github.com/optuna/optuna/releases/tag/v3.0.0. Use suggest_float(..., log=True) instead.\n",
      "  lr = trial.suggest_loguniform('lr', 1e-6, 1e-3)  # Expand the scope\n",
      "C:\\Users\\PC\\AppData\\Local\\Temp\\ipykernel_24856\\3861845633.py:77: FutureWarning: suggest_uniform has been deprecated in v3.0.0. This feature will be removed in v6.0.0. See https://github.com/optuna/optuna/releases/tag/v3.0.0. Use suggest_float instead.\n",
      "  dropout_rate = trial.suggest_uniform('dropout_rate', 0.1, 0.5)\n",
      "C:\\Users\\PC\\AppData\\Local\\Temp\\ipykernel_24856\\3861845633.py:78: FutureWarning: suggest_loguniform has been deprecated in v3.0.0. This feature will be removed in v6.0.0. See https://github.com/optuna/optuna/releases/tag/v3.0.0. Use suggest_float(..., log=True) instead.\n",
      "  weight_decay = trial.suggest_loguniform('weight_decay', 1e-6, 1e-2)  # Expand the scope\n",
      "c:\\Users\\PC\\Documents\\Master_Project\\Suicide-Ideation-Detection-in-Social-Media-Using-Personality-Traits-main\\venv\\lib\\site-packages\\transformers\\optimization.py:640: FutureWarning: This implementation of AdamW is deprecated and will be removed in a future version. Use the PyTorch implementation torch.optim.AdamW instead, or set `no_deprecation_warning=True` to disable this warning\n",
      "  warnings.warn(\n",
      "[I 2025-03-02 21:59:42,969] Trial 32 finished with value: 0.9200160016001601 and parameters: {'lr': 2.10246917820666e-05, 'dropout_rate': 0.22751924416049385, 'weight_decay': 4.254611334634933e-05}. Best is trial 13 with value: 0.9350146282913656.\n",
      "C:\\Users\\PC\\AppData\\Local\\Temp\\ipykernel_24856\\3861845633.py:76: FutureWarning: suggest_loguniform has been deprecated in v3.0.0. This feature will be removed in v6.0.0. See https://github.com/optuna/optuna/releases/tag/v3.0.0. Use suggest_float(..., log=True) instead.\n",
      "  lr = trial.suggest_loguniform('lr', 1e-6, 1e-3)  # Expand the scope\n",
      "C:\\Users\\PC\\AppData\\Local\\Temp\\ipykernel_24856\\3861845633.py:77: FutureWarning: suggest_uniform has been deprecated in v3.0.0. This feature will be removed in v6.0.0. See https://github.com/optuna/optuna/releases/tag/v3.0.0. Use suggest_float instead.\n",
      "  dropout_rate = trial.suggest_uniform('dropout_rate', 0.1, 0.5)\n",
      "C:\\Users\\PC\\AppData\\Local\\Temp\\ipykernel_24856\\3861845633.py:78: FutureWarning: suggest_loguniform has been deprecated in v3.0.0. This feature will be removed in v6.0.0. See https://github.com/optuna/optuna/releases/tag/v3.0.0. Use suggest_float(..., log=True) instead.\n",
      "  weight_decay = trial.suggest_loguniform('weight_decay', 1e-6, 1e-2)  # Expand the scope\n",
      "c:\\Users\\PC\\Documents\\Master_Project\\Suicide-Ideation-Detection-in-Social-Media-Using-Personality-Traits-main\\venv\\lib\\site-packages\\transformers\\optimization.py:640: FutureWarning: This implementation of AdamW is deprecated and will be removed in a future version. Use the PyTorch implementation torch.optim.AdamW instead, or set `no_deprecation_warning=True` to disable this warning\n",
      "  warnings.warn(\n",
      "[I 2025-03-02 22:00:45,169] Trial 33 finished with value: 0.8649763744093601 and parameters: {'lr': 7.0655819494766875e-06, 'dropout_rate': 0.20255265590881957, 'weight_decay': 9.744201883719861e-05}. Best is trial 13 with value: 0.9350146282913656.\n",
      "C:\\Users\\PC\\AppData\\Local\\Temp\\ipykernel_24856\\3861845633.py:76: FutureWarning: suggest_loguniform has been deprecated in v3.0.0. This feature will be removed in v6.0.0. See https://github.com/optuna/optuna/releases/tag/v3.0.0. Use suggest_float(..., log=True) instead.\n",
      "  lr = trial.suggest_loguniform('lr', 1e-6, 1e-3)  # Expand the scope\n",
      "C:\\Users\\PC\\AppData\\Local\\Temp\\ipykernel_24856\\3861845633.py:77: FutureWarning: suggest_uniform has been deprecated in v3.0.0. This feature will be removed in v6.0.0. See https://github.com/optuna/optuna/releases/tag/v3.0.0. Use suggest_float instead.\n",
      "  dropout_rate = trial.suggest_uniform('dropout_rate', 0.1, 0.5)\n",
      "C:\\Users\\PC\\AppData\\Local\\Temp\\ipykernel_24856\\3861845633.py:78: FutureWarning: suggest_loguniform has been deprecated in v3.0.0. This feature will be removed in v6.0.0. See https://github.com/optuna/optuna/releases/tag/v3.0.0. Use suggest_float(..., log=True) instead.\n",
      "  weight_decay = trial.suggest_loguniform('weight_decay', 1e-6, 1e-2)  # Expand the scope\n",
      "c:\\Users\\PC\\Documents\\Master_Project\\Suicide-Ideation-Detection-in-Social-Media-Using-Personality-Traits-main\\venv\\lib\\site-packages\\transformers\\optimization.py:640: FutureWarning: This implementation of AdamW is deprecated and will be removed in a future version. Use the PyTorch implementation torch.optim.AdamW instead, or set `no_deprecation_warning=True` to disable this warning\n",
      "  warnings.warn(\n",
      "[I 2025-03-02 22:01:47,354] Trial 34 finished with value: 0.9300140056022408 and parameters: {'lr': 7.588999029247823e-05, 'dropout_rate': 0.16482141684669224, 'weight_decay': 0.00027136749797183624}. Best is trial 13 with value: 0.9350146282913656.\n",
      "C:\\Users\\PC\\AppData\\Local\\Temp\\ipykernel_24856\\3861845633.py:76: FutureWarning: suggest_loguniform has been deprecated in v3.0.0. This feature will be removed in v6.0.0. See https://github.com/optuna/optuna/releases/tag/v3.0.0. Use suggest_float(..., log=True) instead.\n",
      "  lr = trial.suggest_loguniform('lr', 1e-6, 1e-3)  # Expand the scope\n",
      "C:\\Users\\PC\\AppData\\Local\\Temp\\ipykernel_24856\\3861845633.py:77: FutureWarning: suggest_uniform has been deprecated in v3.0.0. This feature will be removed in v6.0.0. See https://github.com/optuna/optuna/releases/tag/v3.0.0. Use suggest_float instead.\n",
      "  dropout_rate = trial.suggest_uniform('dropout_rate', 0.1, 0.5)\n",
      "C:\\Users\\PC\\AppData\\Local\\Temp\\ipykernel_24856\\3861845633.py:78: FutureWarning: suggest_loguniform has been deprecated in v3.0.0. This feature will be removed in v6.0.0. See https://github.com/optuna/optuna/releases/tag/v3.0.0. Use suggest_float(..., log=True) instead.\n",
      "  weight_decay = trial.suggest_loguniform('weight_decay', 1e-6, 1e-2)  # Expand the scope\n",
      "c:\\Users\\PC\\Documents\\Master_Project\\Suicide-Ideation-Detection-in-Social-Media-Using-Personality-Traits-main\\venv\\lib\\site-packages\\transformers\\optimization.py:640: FutureWarning: This implementation of AdamW is deprecated and will be removed in a future version. Use the PyTorch implementation torch.optim.AdamW instead, or set `no_deprecation_warning=True` to disable this warning\n",
      "  warnings.warn(\n",
      "[I 2025-03-02 22:02:49,535] Trial 35 finished with value: 0.9149851067557759 and parameters: {'lr': 3.828100288085787e-05, 'dropout_rate': 0.2897362832251113, 'weight_decay': 2.3031874568698115e-05}. Best is trial 13 with value: 0.9350146282913656.\n",
      "C:\\Users\\PC\\AppData\\Local\\Temp\\ipykernel_24856\\3861845633.py:76: FutureWarning: suggest_loguniform has been deprecated in v3.0.0. This feature will be removed in v6.0.0. See https://github.com/optuna/optuna/releases/tag/v3.0.0. Use suggest_float(..., log=True) instead.\n",
      "  lr = trial.suggest_loguniform('lr', 1e-6, 1e-3)  # Expand the scope\n",
      "C:\\Users\\PC\\AppData\\Local\\Temp\\ipykernel_24856\\3861845633.py:77: FutureWarning: suggest_uniform has been deprecated in v3.0.0. This feature will be removed in v6.0.0. See https://github.com/optuna/optuna/releases/tag/v3.0.0. Use suggest_float instead.\n",
      "  dropout_rate = trial.suggest_uniform('dropout_rate', 0.1, 0.5)\n",
      "C:\\Users\\PC\\AppData\\Local\\Temp\\ipykernel_24856\\3861845633.py:78: FutureWarning: suggest_loguniform has been deprecated in v3.0.0. This feature will be removed in v6.0.0. See https://github.com/optuna/optuna/releases/tag/v3.0.0. Use suggest_float(..., log=True) instead.\n",
      "  weight_decay = trial.suggest_loguniform('weight_decay', 1e-6, 1e-2)  # Expand the scope\n",
      "c:\\Users\\PC\\Documents\\Master_Project\\Suicide-Ideation-Detection-in-Social-Media-Using-Personality-Traits-main\\venv\\lib\\site-packages\\transformers\\optimization.py:640: FutureWarning: This implementation of AdamW is deprecated and will be removed in a future version. Use the PyTorch implementation torch.optim.AdamW instead, or set `no_deprecation_warning=True` to disable this warning\n",
      "  warnings.warn(\n",
      "[I 2025-03-02 22:03:51,720] Trial 36 finished with value: 0.6994580489763146 and parameters: {'lr': 0.00014642389688433234, 'dropout_rate': 0.26061052429351095, 'weight_decay': 7.576433890129624e-06}. Best is trial 13 with value: 0.9350146282913656.\n",
      "C:\\Users\\PC\\AppData\\Local\\Temp\\ipykernel_24856\\3861845633.py:76: FutureWarning: suggest_loguniform has been deprecated in v3.0.0. This feature will be removed in v6.0.0. See https://github.com/optuna/optuna/releases/tag/v3.0.0. Use suggest_float(..., log=True) instead.\n",
      "  lr = trial.suggest_loguniform('lr', 1e-6, 1e-3)  # Expand the scope\n",
      "C:\\Users\\PC\\AppData\\Local\\Temp\\ipykernel_24856\\3861845633.py:77: FutureWarning: suggest_uniform has been deprecated in v3.0.0. This feature will be removed in v6.0.0. See https://github.com/optuna/optuna/releases/tag/v3.0.0. Use suggest_float instead.\n",
      "  dropout_rate = trial.suggest_uniform('dropout_rate', 0.1, 0.5)\n",
      "C:\\Users\\PC\\AppData\\Local\\Temp\\ipykernel_24856\\3861845633.py:78: FutureWarning: suggest_loguniform has been deprecated in v3.0.0. This feature will be removed in v6.0.0. See https://github.com/optuna/optuna/releases/tag/v3.0.0. Use suggest_float(..., log=True) instead.\n",
      "  weight_decay = trial.suggest_loguniform('weight_decay', 1e-6, 1e-2)  # Expand the scope\n",
      "c:\\Users\\PC\\Documents\\Master_Project\\Suicide-Ideation-Detection-in-Social-Media-Using-Personality-Traits-main\\venv\\lib\\site-packages\\transformers\\optimization.py:640: FutureWarning: This implementation of AdamW is deprecated and will be removed in a future version. Use the PyTorch implementation torch.optim.AdamW instead, or set `no_deprecation_warning=True` to disable this warning\n",
      "  warnings.warn(\n",
      "[I 2025-03-02 22:04:53,889] Trial 37 finished with value: 0.4739153439153439 and parameters: {'lr': 7.0380792351588235e-06, 'dropout_rate': 0.13967322836590246, 'weight_decay': 1.96180026917158e-05}. Best is trial 13 with value: 0.9350146282913656.\n",
      "C:\\Users\\PC\\AppData\\Local\\Temp\\ipykernel_24856\\3861845633.py:76: FutureWarning: suggest_loguniform has been deprecated in v3.0.0. This feature will be removed in v6.0.0. See https://github.com/optuna/optuna/releases/tag/v3.0.0. Use suggest_float(..., log=True) instead.\n",
      "  lr = trial.suggest_loguniform('lr', 1e-6, 1e-3)  # Expand the scope\n",
      "C:\\Users\\PC\\AppData\\Local\\Temp\\ipykernel_24856\\3861845633.py:77: FutureWarning: suggest_uniform has been deprecated in v3.0.0. This feature will be removed in v6.0.0. See https://github.com/optuna/optuna/releases/tag/v3.0.0. Use suggest_float instead.\n",
      "  dropout_rate = trial.suggest_uniform('dropout_rate', 0.1, 0.5)\n",
      "C:\\Users\\PC\\AppData\\Local\\Temp\\ipykernel_24856\\3861845633.py:78: FutureWarning: suggest_loguniform has been deprecated in v3.0.0. This feature will be removed in v6.0.0. See https://github.com/optuna/optuna/releases/tag/v3.0.0. Use suggest_float(..., log=True) instead.\n",
      "  weight_decay = trial.suggest_loguniform('weight_decay', 1e-6, 1e-2)  # Expand the scope\n",
      "c:\\Users\\PC\\Documents\\Master_Project\\Suicide-Ideation-Detection-in-Social-Media-Using-Personality-Traits-main\\venv\\lib\\site-packages\\transformers\\optimization.py:640: FutureWarning: This implementation of AdamW is deprecated and will be removed in a future version. Use the PyTorch implementation torch.optim.AdamW instead, or set `no_deprecation_warning=True` to disable this warning\n",
      "  warnings.warn(\n",
      "[I 2025-03-02 22:05:56,478] Trial 38 finished with value: 0.9450068751718793 and parameters: {'lr': 8.980424508981434e-05, 'dropout_rate': 0.23781976494194595, 'weight_decay': 2.4508416102798875e-06}. Best is trial 38 with value: 0.9450068751718793.\n",
      "C:\\Users\\PC\\AppData\\Local\\Temp\\ipykernel_24856\\3861845633.py:76: FutureWarning: suggest_loguniform has been deprecated in v3.0.0. This feature will be removed in v6.0.0. See https://github.com/optuna/optuna/releases/tag/v3.0.0. Use suggest_float(..., log=True) instead.\n",
      "  lr = trial.suggest_loguniform('lr', 1e-6, 1e-3)  # Expand the scope\n",
      "C:\\Users\\PC\\AppData\\Local\\Temp\\ipykernel_24856\\3861845633.py:77: FutureWarning: suggest_uniform has been deprecated in v3.0.0. This feature will be removed in v6.0.0. See https://github.com/optuna/optuna/releases/tag/v3.0.0. Use suggest_float instead.\n",
      "  dropout_rate = trial.suggest_uniform('dropout_rate', 0.1, 0.5)\n",
      "C:\\Users\\PC\\AppData\\Local\\Temp\\ipykernel_24856\\3861845633.py:78: FutureWarning: suggest_loguniform has been deprecated in v3.0.0. This feature will be removed in v6.0.0. See https://github.com/optuna/optuna/releases/tag/v3.0.0. Use suggest_float(..., log=True) instead.\n",
      "  weight_decay = trial.suggest_loguniform('weight_decay', 1e-6, 1e-2)  # Expand the scope\n",
      "c:\\Users\\PC\\Documents\\Master_Project\\Suicide-Ideation-Detection-in-Social-Media-Using-Personality-Traits-main\\venv\\lib\\site-packages\\transformers\\optimization.py:640: FutureWarning: This implementation of AdamW is deprecated and will be removed in a future version. Use the PyTorch implementation torch.optim.AdamW instead, or set `no_deprecation_warning=True` to disable this warning\n",
      "  warnings.warn(\n",
      "[I 2025-03-02 22:06:58,658] Trial 39 finished with value: 0.9100180072028812 and parameters: {'lr': 8.178489400345394e-05, 'dropout_rate': 0.2025563974634191, 'weight_decay': 2.6706395403155877e-06}. Best is trial 38 with value: 0.9450068751718793.\n",
      "C:\\Users\\PC\\AppData\\Local\\Temp\\ipykernel_24856\\3861845633.py:76: FutureWarning: suggest_loguniform has been deprecated in v3.0.0. This feature will be removed in v6.0.0. See https://github.com/optuna/optuna/releases/tag/v3.0.0. Use suggest_float(..., log=True) instead.\n",
      "  lr = trial.suggest_loguniform('lr', 1e-6, 1e-3)  # Expand the scope\n",
      "C:\\Users\\PC\\AppData\\Local\\Temp\\ipykernel_24856\\3861845633.py:77: FutureWarning: suggest_uniform has been deprecated in v3.0.0. This feature will be removed in v6.0.0. See https://github.com/optuna/optuna/releases/tag/v3.0.0. Use suggest_float instead.\n",
      "  dropout_rate = trial.suggest_uniform('dropout_rate', 0.1, 0.5)\n",
      "C:\\Users\\PC\\AppData\\Local\\Temp\\ipykernel_24856\\3861845633.py:78: FutureWarning: suggest_loguniform has been deprecated in v3.0.0. This feature will be removed in v6.0.0. See https://github.com/optuna/optuna/releases/tag/v3.0.0. Use suggest_float(..., log=True) instead.\n",
      "  weight_decay = trial.suggest_loguniform('weight_decay', 1e-6, 1e-2)  # Expand the scope\n",
      "c:\\Users\\PC\\Documents\\Master_Project\\Suicide-Ideation-Detection-in-Social-Media-Using-Personality-Traits-main\\venv\\lib\\site-packages\\transformers\\optimization.py:640: FutureWarning: This implementation of AdamW is deprecated and will be removed in a future version. Use the PyTorch implementation torch.optim.AdamW instead, or set `no_deprecation_warning=True` to disable this warning\n",
      "  warnings.warn(\n",
      "[I 2025-03-02 22:08:01,042] Trial 40 finished with value: 0.676567478604345 and parameters: {'lr': 1.647850411433156e-06, 'dropout_rate': 0.40459584299480744, 'weight_decay': 8.803054384868957e-06}. Best is trial 38 with value: 0.9450068751718793.\n",
      "C:\\Users\\PC\\AppData\\Local\\Temp\\ipykernel_24856\\3861845633.py:76: FutureWarning: suggest_loguniform has been deprecated in v3.0.0. This feature will be removed in v6.0.0. See https://github.com/optuna/optuna/releases/tag/v3.0.0. Use suggest_float(..., log=True) instead.\n",
      "  lr = trial.suggest_loguniform('lr', 1e-6, 1e-3)  # Expand the scope\n",
      "C:\\Users\\PC\\AppData\\Local\\Temp\\ipykernel_24856\\3861845633.py:77: FutureWarning: suggest_uniform has been deprecated in v3.0.0. This feature will be removed in v6.0.0. See https://github.com/optuna/optuna/releases/tag/v3.0.0. Use suggest_float instead.\n",
      "  dropout_rate = trial.suggest_uniform('dropout_rate', 0.1, 0.5)\n",
      "C:\\Users\\PC\\AppData\\Local\\Temp\\ipykernel_24856\\3861845633.py:78: FutureWarning: suggest_loguniform has been deprecated in v3.0.0. This feature will be removed in v6.0.0. See https://github.com/optuna/optuna/releases/tag/v3.0.0. Use suggest_float(..., log=True) instead.\n",
      "  weight_decay = trial.suggest_loguniform('weight_decay', 1e-6, 1e-2)  # Expand the scope\n",
      "c:\\Users\\PC\\Documents\\Master_Project\\Suicide-Ideation-Detection-in-Social-Media-Using-Personality-Traits-main\\venv\\lib\\site-packages\\transformers\\optimization.py:640: FutureWarning: This implementation of AdamW is deprecated and will be removed in a future version. Use the PyTorch implementation torch.optim.AdamW instead, or set `no_deprecation_warning=True` to disable this warning\n",
      "  warnings.warn(\n",
      "[I 2025-03-02 22:09:03,725] Trial 41 finished with value: 0.9300140056022408 and parameters: {'lr': 5.6628742379841344e-05, 'dropout_rate': 0.23967639479387318, 'weight_decay': 0.00012074404015011439}. Best is trial 38 with value: 0.9450068751718793.\n",
      "C:\\Users\\PC\\AppData\\Local\\Temp\\ipykernel_24856\\3861845633.py:76: FutureWarning: suggest_loguniform has been deprecated in v3.0.0. This feature will be removed in v6.0.0. See https://github.com/optuna/optuna/releases/tag/v3.0.0. Use suggest_float(..., log=True) instead.\n",
      "  lr = trial.suggest_loguniform('lr', 1e-6, 1e-3)  # Expand the scope\n",
      "C:\\Users\\PC\\AppData\\Local\\Temp\\ipykernel_24856\\3861845633.py:77: FutureWarning: suggest_uniform has been deprecated in v3.0.0. This feature will be removed in v6.0.0. See https://github.com/optuna/optuna/releases/tag/v3.0.0. Use suggest_float instead.\n",
      "  dropout_rate = trial.suggest_uniform('dropout_rate', 0.1, 0.5)\n",
      "C:\\Users\\PC\\AppData\\Local\\Temp\\ipykernel_24856\\3861845633.py:78: FutureWarning: suggest_loguniform has been deprecated in v3.0.0. This feature will be removed in v6.0.0. See https://github.com/optuna/optuna/releases/tag/v3.0.0. Use suggest_float(..., log=True) instead.\n",
      "  weight_decay = trial.suggest_loguniform('weight_decay', 1e-6, 1e-2)  # Expand the scope\n",
      "c:\\Users\\PC\\Documents\\Master_Project\\Suicide-Ideation-Detection-in-Social-Media-Using-Personality-Traits-main\\venv\\lib\\site-packages\\transformers\\optimization.py:640: FutureWarning: This implementation of AdamW is deprecated and will be removed in a future version. Use the PyTorch implementation torch.optim.AdamW instead, or set `no_deprecation_warning=True` to disable this warning\n",
      "  warnings.warn(\n",
      "[I 2025-03-02 22:10:05,996] Trial 42 finished with value: 0.9250093808630395 and parameters: {'lr': 2.5473529538038132e-05, 'dropout_rate': 0.2694202364373029, 'weight_decay': 1.757078675505484e-06}. Best is trial 38 with value: 0.9450068751718793.\n",
      "C:\\Users\\PC\\AppData\\Local\\Temp\\ipykernel_24856\\3861845633.py:76: FutureWarning: suggest_loguniform has been deprecated in v3.0.0. This feature will be removed in v6.0.0. See https://github.com/optuna/optuna/releases/tag/v3.0.0. Use suggest_float(..., log=True) instead.\n",
      "  lr = trial.suggest_loguniform('lr', 1e-6, 1e-3)  # Expand the scope\n",
      "C:\\Users\\PC\\AppData\\Local\\Temp\\ipykernel_24856\\3861845633.py:77: FutureWarning: suggest_uniform has been deprecated in v3.0.0. This feature will be removed in v6.0.0. See https://github.com/optuna/optuna/releases/tag/v3.0.0. Use suggest_float instead.\n",
      "  dropout_rate = trial.suggest_uniform('dropout_rate', 0.1, 0.5)\n",
      "C:\\Users\\PC\\AppData\\Local\\Temp\\ipykernel_24856\\3861845633.py:78: FutureWarning: suggest_loguniform has been deprecated in v3.0.0. This feature will be removed in v6.0.0. See https://github.com/optuna/optuna/releases/tag/v3.0.0. Use suggest_float(..., log=True) instead.\n",
      "  weight_decay = trial.suggest_loguniform('weight_decay', 1e-6, 1e-2)  # Expand the scope\n",
      "c:\\Users\\PC\\Documents\\Master_Project\\Suicide-Ideation-Detection-in-Social-Media-Using-Personality-Traits-main\\venv\\lib\\site-packages\\transformers\\optimization.py:640: FutureWarning: This implementation of AdamW is deprecated and will be removed in a future version. Use the PyTorch implementation torch.optim.AdamW instead, or set `no_deprecation_warning=True` to disable this warning\n",
      "  warnings.warn(\n",
      "[I 2025-03-02 22:11:08,815] Trial 43 finished with value: 0.9300140056022408 and parameters: {'lr': 0.00010050398102775828, 'dropout_rate': 0.29372696697433986, 'weight_decay': 1.0704471607264918e-06}. Best is trial 38 with value: 0.9450068751718793.\n",
      "C:\\Users\\PC\\AppData\\Local\\Temp\\ipykernel_24856\\3861845633.py:76: FutureWarning: suggest_loguniform has been deprecated in v3.0.0. This feature will be removed in v6.0.0. See https://github.com/optuna/optuna/releases/tag/v3.0.0. Use suggest_float(..., log=True) instead.\n",
      "  lr = trial.suggest_loguniform('lr', 1e-6, 1e-3)  # Expand the scope\n",
      "C:\\Users\\PC\\AppData\\Local\\Temp\\ipykernel_24856\\3861845633.py:77: FutureWarning: suggest_uniform has been deprecated in v3.0.0. This feature will be removed in v6.0.0. See https://github.com/optuna/optuna/releases/tag/v3.0.0. Use suggest_float instead.\n",
      "  dropout_rate = trial.suggest_uniform('dropout_rate', 0.1, 0.5)\n",
      "C:\\Users\\PC\\AppData\\Local\\Temp\\ipykernel_24856\\3861845633.py:78: FutureWarning: suggest_loguniform has been deprecated in v3.0.0. This feature will be removed in v6.0.0. See https://github.com/optuna/optuna/releases/tag/v3.0.0. Use suggest_float(..., log=True) instead.\n",
      "  weight_decay = trial.suggest_loguniform('weight_decay', 1e-6, 1e-2)  # Expand the scope\n",
      "c:\\Users\\PC\\Documents\\Master_Project\\Suicide-Ideation-Detection-in-Social-Media-Using-Personality-Traits-main\\venv\\lib\\site-packages\\transformers\\optimization.py:640: FutureWarning: This implementation of AdamW is deprecated and will be removed in a future version. Use the PyTorch implementation torch.optim.AdamW instead, or set `no_deprecation_warning=True` to disable this warning\n",
      "  warnings.warn(\n",
      "[I 2025-03-02 22:12:10,961] Trial 44 finished with value: 0.7695845042151747 and parameters: {'lr': 0.0001575017947376385, 'dropout_rate': 0.31996539585779976, 'weight_decay': 1.4700119435454114e-05}. Best is trial 38 with value: 0.9450068751718793.\n",
      "C:\\Users\\PC\\AppData\\Local\\Temp\\ipykernel_24856\\3861845633.py:76: FutureWarning: suggest_loguniform has been deprecated in v3.0.0. This feature will be removed in v6.0.0. See https://github.com/optuna/optuna/releases/tag/v3.0.0. Use suggest_float(..., log=True) instead.\n",
      "  lr = trial.suggest_loguniform('lr', 1e-6, 1e-3)  # Expand the scope\n",
      "C:\\Users\\PC\\AppData\\Local\\Temp\\ipykernel_24856\\3861845633.py:77: FutureWarning: suggest_uniform has been deprecated in v3.0.0. This feature will be removed in v6.0.0. See https://github.com/optuna/optuna/releases/tag/v3.0.0. Use suggest_float instead.\n",
      "  dropout_rate = trial.suggest_uniform('dropout_rate', 0.1, 0.5)\n",
      "C:\\Users\\PC\\AppData\\Local\\Temp\\ipykernel_24856\\3861845633.py:78: FutureWarning: suggest_loguniform has been deprecated in v3.0.0. This feature will be removed in v6.0.0. See https://github.com/optuna/optuna/releases/tag/v3.0.0. Use suggest_float(..., log=True) instead.\n",
      "  weight_decay = trial.suggest_loguniform('weight_decay', 1e-6, 1e-2)  # Expand the scope\n",
      "c:\\Users\\PC\\Documents\\Master_Project\\Suicide-Ideation-Detection-in-Social-Media-Using-Personality-Traits-main\\venv\\lib\\site-packages\\transformers\\optimization.py:640: FutureWarning: This implementation of AdamW is deprecated and will be removed in a future version. Use the PyTorch implementation torch.optim.AdamW instead, or set `no_deprecation_warning=True` to disable this warning\n",
      "  warnings.warn(\n",
      "[I 2025-03-02 22:13:13,130] Trial 45 finished with value: 0.9050118824265166 and parameters: {'lr': 1.419835523356593e-05, 'dropout_rate': 0.22605321772767717, 'weight_decay': 2.3649370793784128e-06}. Best is trial 38 with value: 0.9450068751718793.\n",
      "C:\\Users\\PC\\AppData\\Local\\Temp\\ipykernel_24856\\3861845633.py:76: FutureWarning: suggest_loguniform has been deprecated in v3.0.0. This feature will be removed in v6.0.0. See https://github.com/optuna/optuna/releases/tag/v3.0.0. Use suggest_float(..., log=True) instead.\n",
      "  lr = trial.suggest_loguniform('lr', 1e-6, 1e-3)  # Expand the scope\n",
      "C:\\Users\\PC\\AppData\\Local\\Temp\\ipykernel_24856\\3861845633.py:77: FutureWarning: suggest_uniform has been deprecated in v3.0.0. This feature will be removed in v6.0.0. See https://github.com/optuna/optuna/releases/tag/v3.0.0. Use suggest_float instead.\n",
      "  dropout_rate = trial.suggest_uniform('dropout_rate', 0.1, 0.5)\n",
      "C:\\Users\\PC\\AppData\\Local\\Temp\\ipykernel_24856\\3861845633.py:78: FutureWarning: suggest_loguniform has been deprecated in v3.0.0. This feature will be removed in v6.0.0. See https://github.com/optuna/optuna/releases/tag/v3.0.0. Use suggest_float(..., log=True) instead.\n",
      "  weight_decay = trial.suggest_loguniform('weight_decay', 1e-6, 1e-2)  # Expand the scope\n",
      "c:\\Users\\PC\\Documents\\Master_Project\\Suicide-Ideation-Detection-in-Social-Media-Using-Personality-Traits-main\\venv\\lib\\site-packages\\transformers\\optimization.py:640: FutureWarning: This implementation of AdamW is deprecated and will be removed in a future version. Use the PyTorch implementation torch.optim.AdamW instead, or set `no_deprecation_warning=True` to disable this warning\n",
      "  warnings.warn(\n",
      "[I 2025-03-02 22:14:15,331] Trial 46 finished with value: 0.94 and parameters: {'lr': 5.0688986572005886e-05, 'dropout_rate': 0.19176606528343215, 'weight_decay': 6.9336618284901214e-06}. Best is trial 38 with value: 0.9450068751718793.\n",
      "C:\\Users\\PC\\AppData\\Local\\Temp\\ipykernel_24856\\3861845633.py:76: FutureWarning: suggest_loguniform has been deprecated in v3.0.0. This feature will be removed in v6.0.0. See https://github.com/optuna/optuna/releases/tag/v3.0.0. Use suggest_float(..., log=True) instead.\n",
      "  lr = trial.suggest_loguniform('lr', 1e-6, 1e-3)  # Expand the scope\n",
      "C:\\Users\\PC\\AppData\\Local\\Temp\\ipykernel_24856\\3861845633.py:77: FutureWarning: suggest_uniform has been deprecated in v3.0.0. This feature will be removed in v6.0.0. See https://github.com/optuna/optuna/releases/tag/v3.0.0. Use suggest_float instead.\n",
      "  dropout_rate = trial.suggest_uniform('dropout_rate', 0.1, 0.5)\n",
      "C:\\Users\\PC\\AppData\\Local\\Temp\\ipykernel_24856\\3861845633.py:78: FutureWarning: suggest_loguniform has been deprecated in v3.0.0. This feature will be removed in v6.0.0. See https://github.com/optuna/optuna/releases/tag/v3.0.0. Use suggest_float(..., log=True) instead.\n",
      "  weight_decay = trial.suggest_loguniform('weight_decay', 1e-6, 1e-2)  # Expand the scope\n",
      "c:\\Users\\PC\\Documents\\Master_Project\\Suicide-Ideation-Detection-in-Social-Media-Using-Personality-Traits-main\\venv\\lib\\site-packages\\transformers\\optimization.py:640: FutureWarning: This implementation of AdamW is deprecated and will be removed in a future version. Use the PyTorch implementation torch.optim.AdamW instead, or set `no_deprecation_warning=True` to disable this warning\n",
      "  warnings.warn(\n",
      "[I 2025-03-02 22:15:17,508] Trial 47 finished with value: 0.93500812520313 and parameters: {'lr': 6.41718793688424e-05, 'dropout_rate': 0.15791878463678255, 'weight_decay': 6.827056259858082e-06}. Best is trial 38 with value: 0.9450068751718793.\n",
      "C:\\Users\\PC\\AppData\\Local\\Temp\\ipykernel_24856\\3861845633.py:76: FutureWarning: suggest_loguniform has been deprecated in v3.0.0. This feature will be removed in v6.0.0. See https://github.com/optuna/optuna/releases/tag/v3.0.0. Use suggest_float(..., log=True) instead.\n",
      "  lr = trial.suggest_loguniform('lr', 1e-6, 1e-3)  # Expand the scope\n",
      "C:\\Users\\PC\\AppData\\Local\\Temp\\ipykernel_24856\\3861845633.py:77: FutureWarning: suggest_uniform has been deprecated in v3.0.0. This feature will be removed in v6.0.0. See https://github.com/optuna/optuna/releases/tag/v3.0.0. Use suggest_float instead.\n",
      "  dropout_rate = trial.suggest_uniform('dropout_rate', 0.1, 0.5)\n",
      "C:\\Users\\PC\\AppData\\Local\\Temp\\ipykernel_24856\\3861845633.py:78: FutureWarning: suggest_loguniform has been deprecated in v3.0.0. This feature will be removed in v6.0.0. See https://github.com/optuna/optuna/releases/tag/v3.0.0. Use suggest_float(..., log=True) instead.\n",
      "  weight_decay = trial.suggest_loguniform('weight_decay', 1e-6, 1e-2)  # Expand the scope\n",
      "c:\\Users\\PC\\Documents\\Master_Project\\Suicide-Ideation-Detection-in-Social-Media-Using-Personality-Traits-main\\venv\\lib\\site-packages\\transformers\\optimization.py:640: FutureWarning: This implementation of AdamW is deprecated and will be removed in a future version. Use the PyTorch implementation torch.optim.AdamW instead, or set `no_deprecation_warning=True` to disable this warning\n",
      "  warnings.warn(\n",
      "[I 2025-03-02 22:16:19,666] Trial 48 finished with value: 0.9249868589021552 and parameters: {'lr': 6.357840479862545e-05, 'dropout_rate': 0.11805504863065705, 'weight_decay': 3.6745136612426017e-06}. Best is trial 38 with value: 0.9450068751718793.\n",
      "C:\\Users\\PC\\AppData\\Local\\Temp\\ipykernel_24856\\3861845633.py:76: FutureWarning: suggest_loguniform has been deprecated in v3.0.0. This feature will be removed in v6.0.0. See https://github.com/optuna/optuna/releases/tag/v3.0.0. Use suggest_float(..., log=True) instead.\n",
      "  lr = trial.suggest_loguniform('lr', 1e-6, 1e-3)  # Expand the scope\n",
      "C:\\Users\\PC\\AppData\\Local\\Temp\\ipykernel_24856\\3861845633.py:77: FutureWarning: suggest_uniform has been deprecated in v3.0.0. This feature will be removed in v6.0.0. See https://github.com/optuna/optuna/releases/tag/v3.0.0. Use suggest_float instead.\n",
      "  dropout_rate = trial.suggest_uniform('dropout_rate', 0.1, 0.5)\n",
      "C:\\Users\\PC\\AppData\\Local\\Temp\\ipykernel_24856\\3861845633.py:78: FutureWarning: suggest_loguniform has been deprecated in v3.0.0. This feature will be removed in v6.0.0. See https://github.com/optuna/optuna/releases/tag/v3.0.0. Use suggest_float(..., log=True) instead.\n",
      "  weight_decay = trial.suggest_loguniform('weight_decay', 1e-6, 1e-2)  # Expand the scope\n",
      "c:\\Users\\PC\\Documents\\Master_Project\\Suicide-Ideation-Detection-in-Social-Media-Using-Personality-Traits-main\\venv\\lib\\site-packages\\transformers\\optimization.py:640: FutureWarning: This implementation of AdamW is deprecated and will be removed in a future version. Use the PyTorch implementation torch.optim.AdamW instead, or set `no_deprecation_warning=True` to disable this warning\n",
      "  warnings.warn(\n",
      "[I 2025-03-02 22:17:21,850] Trial 49 finished with value: 0.9400120048019207 and parameters: {'lr': 9.399732697480746e-05, 'dropout_rate': 0.15510262037334777, 'weight_decay': 1.0389210306021416e-05}. Best is trial 38 with value: 0.9450068751718793.\n"
     ]
    },
    {
     "name": "stdout",
     "output_type": "stream",
     "text": [
      "Best Parameters: {'lr': 8.980424508981434e-05, 'dropout_rate': 0.23781976494194595, 'weight_decay': 2.4508416102798875e-06}\n"
     ]
    }
   ],
   "source": [
    "!pip install optuna\n",
    "\n",
    "import torch\n",
    "import torch.nn as nn\n",
    "from torch.utils.data import DataLoader, RandomSampler, SequentialSampler, TensorDataset, random_split\n",
    "from transformers import BertTokenizer, BertModel, AdamW\n",
    "from sklearn.metrics import classification_report\n",
    "import pandas as pd\n",
    "import optuna\n",
    "\n",
    "# Processing text\n",
    "texts = data['preprocessed_text_bert']\n",
    "labels = data['class']\n",
    "\n",
    "tokenizer = BertTokenizer.from_pretrained('bert-base-uncased')\n",
    "\n",
    "# Encode the text data as BERT input\n",
    "encoded_data = tokenizer.batch_encode_plus(\n",
    "    texts.tolist(),\n",
    "    add_special_tokens=True,\n",
    "    return_attention_mask=True,\n",
    "    padding='max_length',\n",
    "    max_length=256,\n",
    "    truncation=True,\n",
    "    return_tensors='pt'\n",
    ")\n",
    "\n",
    "input_ids = encoded_data['input_ids']\n",
    "attention_masks = encoded_data['attention_mask']\n",
    "\n",
    "# Handle additional features\n",
    "extra_features = data[['Extraversion', 'Agreeableness', 'Neuroticism']].values\n",
    "extra_features = torch.tensor(extra_features, dtype=torch.float32)\n",
    "\n",
    "# Create the label tensor\n",
    "labels = torch.tensor(labels, dtype=torch.long)\n",
    "\n",
    "# Create TensorDataset\n",
    "dataset = TensorDataset(input_ids, attention_masks, extra_features, labels)\n",
    "\n",
    "# Split dataset\n",
    "train_size = int(0.8 * len(dataset))\n",
    "val_size = len(dataset) - train_size\n",
    "train_dataset, val_dataset = random_split(dataset, [train_size, val_size])\n",
    "\n",
    "# Create DataLoader\n",
    "train_dataloader = DataLoader(train_dataset, sampler=RandomSampler(train_dataset), batch_size=8)\n",
    "validation_dataloader = DataLoader(val_dataset, sampler=SequentialSampler(val_dataset), batch_size=8)\n",
    "\n",
    "# Define the model\n",
    "class BertWithExtraFeatures(nn.Module):\n",
    "    def __init__(self, bert_model, extra_feature_size, num_labels, dropout_rate):\n",
    "        super(BertWithExtraFeatures, self).__init__()\n",
    "        self.bert = bert_model\n",
    "        self.dropout = nn.Dropout(dropout_rate)\n",
    "        self.extra_feature_size = extra_feature_size\n",
    "\n",
    "        self.classifier = nn.Sequential(\n",
    "            nn.Linear(bert_model.config.hidden_size + extra_feature_size, 256),\n",
    "            nn.ReLU(),\n",
    "            nn.Dropout(dropout_rate),\n",
    "            nn.Linear(256, num_labels)\n",
    "        )\n",
    "\n",
    "    def forward(self, input_ids, attention_mask, extra_features):\n",
    "        bert_outputs = self.bert(input_ids=input_ids, attention_mask=attention_mask)\n",
    "        pooled_output = bert_outputs.pooler_output\n",
    "        combined_output = torch.cat((pooled_output, extra_features), dim=1)\n",
    "        combined_output = self.dropout(combined_output)\n",
    "        logits = self.classifier(combined_output)\n",
    "        return logits\n",
    "\n",
    "# Hyperparameter optimization using Optuna\n",
    "def objective(trial):\n",
    "    # Hyperparameter Search space\n",
    "    lr = trial.suggest_loguniform('lr', 1e-6, 1e-3)  # Expand the scope\n",
    "    dropout_rate = trial.suggest_uniform('dropout_rate', 0.1, 0.5)\n",
    "    weight_decay = trial.suggest_loguniform('weight_decay', 1e-6, 1e-2)  # Expand the scope\n",
    "\n",
    "    # Initialize the BERT model\n",
    "    bert_model = BertModel.from_pretrained('bert-base-uncased')\n",
    "    model = BertWithExtraFeatures(bert_model, extra_feature_size=3, num_labels=2, dropout_rate=dropout_rate)\n",
    "    model.to(device)\n",
    "\n",
    "    optimizer = AdamW(model.parameters(), lr=lr, weight_decay=weight_decay)\n",
    "\n",
    "    total_steps = len(train_dataloader) * 3  # Suppose 3 epochs are trained for hyperparameter search\n",
    "    scheduler = torch.optim.lr_scheduler.StepLR(optimizer, step_size=1, gamma=0.1)\n",
    "\n",
    "    # Train the model\n",
    "    for epoch in range(3):\n",
    "        model.train()\n",
    "        total_loss = 0\n",
    "        for step, batch in enumerate(train_dataloader):\n",
    "            batch = tuple(b.to(device) for b in batch)\n",
    "            b_input_ids, b_input_mask, b_extra_features, b_labels = batch\n",
    "\n",
    "            optimizer.zero_grad()\n",
    "            logits = model(b_input_ids, b_input_mask, b_extra_features)\n",
    "            loss = nn.CrossEntropyLoss()(logits, b_labels)\n",
    "            loss.backward()\n",
    "            optimizer.step()\n",
    "            total_loss += loss.item()\n",
    "\n",
    "        scheduler.step()\n",
    "\n",
    "    # Evaluate the model\n",
    "    model.eval()\n",
    "    val_labels = []\n",
    "    val_preds = []\n",
    "    for batch in validation_dataloader:\n",
    "        batch = tuple(b.to(device) for b in batch)\n",
    "        b_input_ids, b_input_mask, b_extra_features, b_labels = batch\n",
    "        with torch.no_grad():\n",
    "            logits = model(b_input_ids, b_input_mask, b_extra_features)\n",
    "        predictions = torch.argmax(logits, dim=1).cpu().numpy()\n",
    "        label_ids = b_labels.cpu().numpy()\n",
    "        val_labels.extend(label_ids)\n",
    "        val_preds.extend(predictions)\n",
    "\n",
    "    f1 = f1_score(val_labels, val_preds, average='weighted')\n",
    "    return f1\n",
    "\n",
    "study = optuna.create_study(direction='maximize')\n",
    "study.optimize(objective, n_trials=50)  # Increase the number of attempts\n",
    "\n",
    "best_params = study.best_params\n",
    "print(f\"Best Parameters: {best_params}\")"
   ]
  },
  {
   "cell_type": "code",
   "execution_count": 12,
   "metadata": {},
   "outputs": [
    {
     "name": "stderr",
     "output_type": "stream",
     "text": [
      "c:\\Users\\PC\\Documents\\Master_Project\\Suicide-Ideation-Detection-in-Social-Media-Using-Personality-Traits-main\\venv\\lib\\site-packages\\transformers\\optimization.py:640: FutureWarning: This implementation of AdamW is deprecated and will be removed in a future version. Use the PyTorch implementation torch.optim.AdamW instead, or set `no_deprecation_warning=True` to disable this warning\n",
      "  warnings.warn(\n"
     ]
    },
    {
     "name": "stdout",
     "output_type": "stream",
     "text": [
      "Epoch 1 finished. Loss: 0.4997242139279842\n",
      "Epoch 2 finished. Loss: 0.22435671374201774\n",
      "Epoch 3 finished. Loss: 0.15459230545908212\n",
      "Epoch 4 finished. Loss: 0.13949857603758573\n",
      "Epoch 5 finished. Loss: 0.1389790053293109\n",
      "Epoch 6 finished. Loss: 0.13476582668721676\n",
      "Epoch 7 finished. Loss: 0.14528854127973317\n",
      "Epoch 8 finished. Loss: 0.1262598066404462\n",
      "Epoch 9 finished. Loss: 0.13378788338974118\n",
      "Epoch 10 finished. Loss: 0.1342900722101331\n",
      "BERT with personality & best params Results:\n",
      "              precision    recall  f1-score   support\n",
      "\n",
      "           0     0.9307    0.9126    0.9216       103\n",
      "           1     0.9091    0.9278    0.9184        97\n",
      "\n",
      "    accuracy                         0.9200       200\n",
      "   macro avg     0.9199    0.9202    0.9200       200\n",
      "weighted avg     0.9202    0.9200    0.9200       200\n",
      "\n"
     ]
    }
   ],
   "source": [
    "# Retrin the model using the best hyperparameters\n",
    "bert_model = BertModel.from_pretrained('bert-base-uncased')\n",
    "model = BertWithExtraFeatures(bert_model, extra_feature_size=3, num_labels=2, dropout_rate=best_params['dropout_rate'])\n",
    "model.to(device)\n",
    "\n",
    "optimizer = AdamW(model.parameters(), lr=best_params['lr'], weight_decay=best_params['weight_decay'])\n",
    "scheduler = torch.optim.lr_scheduler.StepLR(optimizer, step_size=1, gamma=0.1)\n",
    "\n",
    "# Train and evaluate the model\n",
    "for epoch in range(10):\n",
    "    model.train()\n",
    "    total_loss = 0\n",
    "    for step, batch in enumerate(train_dataloader):\n",
    "        batch = tuple(b.to(device) for b in batch)\n",
    "        b_input_ids, b_input_mask, b_extra_features, b_labels = batch\n",
    "        optimizer.zero_grad()\n",
    "        logits = model(b_input_ids, b_input_mask, b_extra_features)\n",
    "        loss = nn.CrossEntropyLoss()(logits, b_labels)\n",
    "        loss.backward()\n",
    "        optimizer.step()\n",
    "        total_loss += loss.item()\n",
    "\n",
    "    scheduler.step()\n",
    "    print(f\"Epoch {epoch+1} finished. Loss: {total_loss / len(train_dataloader)}\")\n",
    "\n",
    "    model.eval()\n",
    "    val_labels = []\n",
    "    val_preds = []\n",
    "    for batch in validation_dataloader:\n",
    "        batch = tuple(b.to(device) for b in batch)\n",
    "        b_input_ids, b_input_mask, b_extra_features, b_labels = batch\n",
    "        with torch.no_grad():\n",
    "            logits = model(b_input_ids, b_input_mask, b_extra_features)\n",
    "        predictions = torch.argmax(logits, dim=1).cpu().numpy()\n",
    "        label_ids = b_labels.cpu().numpy()\n",
    "        val_labels.extend(label_ids)\n",
    "        val_preds.extend(predictions)\n",
    "\n",
    "print('BERT with personality & best params Results:')\n",
    "print(classification_report(val_labels, val_preds, digits=4))"
   ]
  },
  {
   "cell_type": "markdown",
   "metadata": {},
   "source": [
    "Use early stopping mechanism"
   ]
  },
  {
   "cell_type": "code",
   "execution_count": 13,
   "metadata": {},
   "outputs": [
    {
     "name": "stderr",
     "output_type": "stream",
     "text": [
      "c:\\Users\\PC\\Documents\\Master_Project\\Suicide-Ideation-Detection-in-Social-Media-Using-Personality-Traits-main\\venv\\lib\\site-packages\\transformers\\optimization.py:640: FutureWarning: This implementation of AdamW is deprecated and will be removed in a future version. Use the PyTorch implementation torch.optim.AdamW instead, or set `no_deprecation_warning=True` to disable this warning\n",
      "  warnings.warn(\n"
     ]
    },
    {
     "name": "stdout",
     "output_type": "stream",
     "text": [
      "Epoch 1 finished. Loss: 0.4558121535181999\n",
      "Validation Loss: 0.45960274115204813\n",
      "Epoch 2 finished. Loss: 0.20572783490642904\n",
      "Validation Loss: 0.21993956953287125\n",
      "Epoch 3 finished. Loss: 0.13302396163344382\n",
      "Validation Loss: 0.21293781377375126\n",
      "Epoch 4 finished. Loss: 0.11300863947719336\n",
      "Validation Loss: 0.2129057002067566\n",
      "Epoch 5 finished. Loss: 0.11336908973753453\n",
      "Validation Loss: 0.21293849661946296\n",
      "Epoch 6 finished. Loss: 0.11636973722837865\n",
      "Validation Loss: 0.21293948113918304\n",
      "Epoch 7 finished. Loss: 0.10238575607538224\n",
      "Validation Loss: 0.21293947517871856\n",
      "Epoch 8 finished. Loss: 0.11967840744182467\n",
      "Validation Loss: 0.2129394966363907\n",
      "Epoch 9 finished. Loss: 0.11937483940273523\n",
      "Validation Loss: 0.2129395052790642\n",
      "Epoch 10 finished. Loss: 0.1243831911124289\n",
      "Validation Loss: 0.2129395042359829\n",
      "BERT with personality & best params Results:\n",
      "              precision    recall  f1-score   support\n",
      "\n",
      "           0     0.9320    0.9320    0.9320       103\n",
      "           1     0.9278    0.9278    0.9278        97\n",
      "\n",
      "    accuracy                         0.9300       200\n",
      "   macro avg     0.9299    0.9299    0.9299       200\n",
      "weighted avg     0.9300    0.9300    0.9300       200\n",
      "\n"
     ]
    }
   ],
   "source": [
    "# Retrin the model using the best hyperparameters\n",
    "bert_model = BertModel.from_pretrained('bert-base-uncased')\n",
    "model = BertWithExtraFeatures(bert_model, extra_feature_size=3, num_labels=2, dropout_rate=best_params['dropout_rate'])\n",
    "model.to(device)\n",
    "\n",
    "optimizer = AdamW(model.parameters(), lr=best_params['lr'], weight_decay=best_params['weight_decay'])\n",
    "scheduler = torch.optim.lr_scheduler.StepLR(optimizer, step_size=1, gamma=0.1)\n",
    "\n",
    "# Early stopping\n",
    "early_stopping_patience = 3\n",
    "best_val_loss = float('inf')\n",
    "patience_counter = 0\n",
    "\n",
    "# Train and evaluate the model\n",
    "for epoch in range(10):\n",
    "    model.train()\n",
    "    total_loss = 0\n",
    "    for step, batch in enumerate(train_dataloader):\n",
    "        batch = tuple(b.to(device) for b in batch)\n",
    "        b_input_ids, b_input_mask, b_extra_features, b_labels = batch\n",
    "        optimizer.zero_grad()\n",
    "        logits = model(b_input_ids, b_input_mask, b_extra_features)\n",
    "        loss = nn.CrossEntropyLoss()(logits, b_labels)\n",
    "        loss.backward()\n",
    "        optimizer.step()\n",
    "        total_loss += loss.item()\n",
    "\n",
    "    scheduler.step()\n",
    "    print(f\"Epoch {epoch+1} finished. Loss: {total_loss / len(train_dataloader)}\")\n",
    "\n",
    "    # Evaluate the model\n",
    "    model.eval()\n",
    "    val_labels = []\n",
    "    val_preds = []\n",
    "    val_loss = 0\n",
    "    for batch in validation_dataloader:\n",
    "        batch = tuple(b.to(device) for b in batch)\n",
    "        b_input_ids, b_input_mask, b_extra_features, b_labels = batch\n",
    "        with torch.no_grad():\n",
    "            logits = model(b_input_ids, b_input_mask, b_extra_features)\n",
    "            loss = nn.CrossEntropyLoss()(logits, b_labels)\n",
    "            val_loss += loss.item()\n",
    "        predictions = torch.argmax(logits, dim=1).cpu().numpy()\n",
    "        label_ids = b_labels.cpu().numpy()\n",
    "        val_labels.extend(label_ids)\n",
    "        val_preds.extend(predictions)\n",
    "\n",
    "    avg_val_loss = val_loss / len(validation_dataloader)\n",
    "    print(f\"Validation Loss: {avg_val_loss}\")\n",
    "\n",
    "    if avg_val_loss < best_val_loss:\n",
    "        best_val_loss = avg_val_loss\n",
    "        patience_counter = 0\n",
    "\n",
    "print('BERT with personality & best params Results:')\n",
    "print(classification_report(val_labels, val_preds, digits=4))"
   ]
  },
  {
   "cell_type": "code",
   "execution_count": 14,
   "metadata": {},
   "outputs": [
    {
     "data": {
      "image/png": "[encoded data removed]",
      "text/plain": [
       "<Figure size 800x600 with 2 Axes>"
      ]
     },
     "metadata": {},
     "output_type": "display_data"
    }
   ],
   "source": [
    "# Calculate confusion matrix\n",
    "cm = confusion_matrix(val_labels, val_preds)\n",
    "\n",
    "# Visualize confusion matrix\n",
    "plt.figure(figsize=(8, 6))\n",
    "sns.heatmap(cm, annot=True, fmt='d', cmap='Blues', xticklabels=['Non-suicide', 'Suicide'], yticklabels=['Non-suicide', 'Suicide'])\n",
    "plt.xlabel('Predicted Labels')\n",
    "plt.ylabel('True Labels')\n",
    "plt.title('Confusion Matrix (BERT with personality & best params )')\n",
    "plt.show()"
   ]
  }
 ],
 "metadata": {
  "kernelspec": {
   "display_name": "venv",
   "language": "python",
   "name": "python3"
  },
  "language_info": {
   "codemirror_mode": {
    "name": "ipython",
    "version": 3
   },
   "file_extension": ".py",
   "mimetype": "text/x-python",
   "name": "python",
   "nbconvert_exporter": "python",
   "pygments_lexer": "ipython3",
   "version": "3.10.0"
  }
 },
 "nbformat": 4,
 "nbformat_minor": 2
}
